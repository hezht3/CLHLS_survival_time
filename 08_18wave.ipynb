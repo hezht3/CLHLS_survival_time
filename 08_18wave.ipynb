{
 "cells": [
  {
   "cell_type": "code",
   "execution_count": 1,
   "metadata": {},
   "outputs": [],
   "source": [
    "/*********************************************************************************************************************/\n",
    "/************************************** CLHLS longitudinal dataset survival time *************************************/\n",
    "/*********************************************************************************************************************/\n",
    "* Zhengting (Johnathan) He\n",
    "* July 5th, 2021\n",
    "* healthy-aging project\n",
    "* Verify Yaxi's code on generting survival time: 08_14wave.do"
   ]
  },
  {
   "cell_type": "code",
   "execution_count": 34,
   "metadata": {},
   "outputs": [],
   "source": [
    "// set working directories\n",
    "global root \"F:\\Box Sync\\Archives2020LLY\\Zhengting\\Duke Kunshan University Intern (zh133@duke.edu)\\4 healthy aging-CLHLS\\Group meeting coordination\\survival time\"\n",
    "* define path for data sources\n",
    "global RAW \"${root}/raw data\"\n",
    "* define path for output data\n",
    "global OUT \"${root}/out data\"\n",
    "* define path for INTERMEDIATE\n",
    "global INTER \"${root}/inter data\""
   ]
  },
  {
   "cell_type": "code",
   "execution_count": 3,
   "metadata": {},
   "outputs": [
    {
     "name": "stdout",
     "output_type": "stream",
     "text": [
      "\n",
      "\n",
      "\n",
      "(7,475 observations deleted)\n"
     ]
    }
   ],
   "source": [
    "/*********************************************************************************************************************/\n",
    "/************************************* I. logical check on death status and date *************************************/\n",
    "/*********************************************************************************************************************/\n",
    "\n",
    "/************************************* (1) Extract new added data at current wave *************************************/\n",
    "use \"${RAW}/2008_2014_longitudinal_dataset_released_version1.dta\", clear\n",
    "gen int id_year = mod(id, 100)\n",
    "keep if id_year == 8 | id_year == 9 //9479 obs"
   ]
  },
  {
   "cell_type": "code",
   "execution_count": 4,
   "metadata": {},
   "outputs": [
    {
     "name": "stdout",
     "output_type": "stream",
     "text": [
      "\n",
      "\n",
      "--------------------------------------------------------------------------------\n",
      "d11vyear                           validated year of death of the sampled person\n",
      "--------------------------------------------------------------------------------\n",
      "\n",
      "                  type:  numeric (int)\n",
      "                 label:  d11vyear, but 5 nonmissing values are not labeled\n",
      "\n",
      "                 range:  [-9,2012]                    units:  1\n",
      "         unique values:  7                        missing .:  0/9,479\n",
      "\n",
      "            tabulation:  Freq.   Numeric  Label\n",
      "                         1,868        -9  lost to follow-up in the 2011\n",
      "                                          survey\n",
      "                         4,224        -7  for deceased, not applicable for\n",
      "                                          survivors\n",
      "                           325      2008  \n",
      "                         1,131      2009  \n",
      "                         1,139      2010  \n",
      "                           687      2011  \n",
      "                           105      2012  \n",
      "\n",
      "--------------------------------------------------------------------------------\n",
      "d14vyear                           validated year of death of the sampled person\n",
      "--------------------------------------------------------------------------------\n",
      "\n",
      "                  type:  numeric (int)\n",
      "                 label:  d14vyear, but 4 nonmissing values are not labeled\n",
      "\n",
      "                 range:  [2011,2014]                  units:  1\n",
      "         unique values:  4                        missing .:  8,119/9,479\n",
      "\n",
      "            tabulation:  Freq.   Numeric  Label\n",
      "                           113      2011  \n",
      "                           511      2012  \n",
      "                           527      2013  \n",
      "                           209      2014  \n",
      "                         8,119         .  \n",
      "\n",
      "--------------------------------------------------------------------------------\n",
      "d11vmonth                         validated month of death of the sampled person\n",
      "--------------------------------------------------------------------------------\n",
      "\n",
      "                  type:  numeric (byte)\n",
      "                 label:  d11vmonth, but 12 nonmissing values are not labeled\n",
      "\n",
      "                 range:  [-9,12]                      units:  1\n",
      "         unique values:  14                       missing .:  0/9,479\n",
      "\n",
      "              examples:  -7    for deceased, not applicable for survivors\n",
      "                         -7    for deceased, not applicable for survivors\n",
      "                         -7    for deceased, not applicable for survivors\n",
      "                         5     \n",
      "\n",
      "--------------------------------------------------------------------------------\n",
      "d14vmonth                         validated month of death of the sampled person\n",
      "--------------------------------------------------------------------------------\n",
      "\n",
      "                  type:  numeric (byte)\n",
      "                 label:  d14vmonth, but 12 nonmissing values are not labeled\n",
      "\n",
      "                 range:  [1,12]                       units:  1\n",
      "         unique values:  12                       missing .:  8,077/9,479\n",
      "\n",
      "              examples:  .     \n",
      "                         .     \n",
      "                         .     \n",
      "                         .     \n",
      "\n",
      "--------------------------------------------------------------------------------\n",
      "d11vday                             validated day of death of the sampled person\n",
      "--------------------------------------------------------------------------------\n",
      "\n",
      "                  type:  numeric (byte)\n",
      "                 label:  d11vday, but 31 nonmissing values are not labeled\n",
      "\n",
      "                 range:  [-9,99]                      units:  1\n",
      "         unique values:  34                       missing .:  71/9,479\n",
      "\n",
      "              examples:  -7    for deceased, not applicable for survivors\n",
      "                         -7    for deceased, not applicable for survivors\n",
      "                         -7    for deceased, not applicable for survivors\n",
      "                         14    \n",
      "\n",
      "--------------------------------------------------------------------------------\n",
      "d14vday                            validated year of death of the sampled person\n",
      "--------------------------------------------------------------------------------\n",
      "\n",
      "                  type:  numeric (byte)\n",
      "                 label:  d14vday, but 31 nonmissing values are not labeled\n",
      "\n",
      "                 range:  [1,31]                       units:  1\n",
      "         unique values:  31                       missing .:  8,155/9,479\n",
      "\n",
      "              examples:  .     \n",
      "                         .     \n",
      "                         .     \n",
      "                         .     \n",
      "\n",
      "--------------------------------------------------------------------------------\n",
      "dth08_11                               status of survival, death, or lost to\n",
      "                                       follow-up from 2008 to 2011 waves\n",
      "--------------------------------------------------------------------------------\n",
      "\n",
      "                  type:  numeric (byte)\n",
      "                 label:  dth08_11\n",
      "\n",
      "                 range:  [-9,2]                       units:  1\n",
      "         unique values:  4                        missing .:  0/9,479\n",
      "\n",
      "            tabulation:  Freq.   Numeric  Label\n",
      "                         1,868        -9  lost to follow-up in the\n",
      "                                          2011/2012 survey\n",
      "                         4,224         0  surviving at the 2011/2012\n",
      "                                          survey\n",
      "                         3,381         1  died before the 2011/2012 survey\n",
      "                             6         2  surviving at 2011 survey but\n",
      "                                          died before 2012 survey\n",
      "\n",
      "--------------------------------------------------------------------------------\n",
      "dth11_14                               status of survival, death, or lost to\n",
      "                                       follow-up from 2011/2012 to 2014 waves\n",
      "--------------------------------------------------------------------------------\n",
      "\n",
      "                  type:  numeric (byte)\n",
      "                 label:  dth11_14\n",
      "\n",
      "                 range:  [-9,1]                       units:  1\n",
      "         unique values:  4                        missing .:  0/9,479\n",
      "\n",
      "            tabulation:  Freq.   Numeric  Label\n",
      "                           374        -9  lost to follow-up in the 2014\n",
      "                                          survey\n",
      "                         5,249        -8  died or lost to follow-up in\n",
      "                                          previous waves\n",
      "                         2,454         0  surviving at the 2014 survey\n",
      "                         1,402         1  died before the 2014 survey\n"
     ]
    }
   ],
   "source": [
    "/************************************* (2) Check the actual values of death date variables, against the codebook for those variables *************************************/\n",
    "foreach var in d11vyear d14vyear d11vmonth d14vmonth d11vday d14vday dth08_11 dth11_14 {\n",
    "    codebook `var'\n",
    "}\n",
    "// codebook on death variables\n",
    "\n",
    "// validated death year\n",
    "* d11vyear, d14vyear: validated year of death*/\n",
    "* -9: lost to follow up in the 2005/2008/2011/2014 survey*\n",
    "* -7: it is for the deceased persons, not applicable for survivors*\n",
    "* .: missing*/\n",
    "\n",
    "// validated death month\n",
    "* d11vmonth, d14vmonth: validated month of death*/\n",
    "* -9: lost to follow-up in the 2005/08/11/14 survey*/\n",
    "* -7: it is for the deceased persons, not applicable for survivors*/\n",
    "* .: missing*/\n",
    "\n",
    "// validated death day\n",
    "* d11vday, d14vday: validated day of death*/\n",
    "* -9: lost to follow-up in the 2002/05/08/11/14 survey*/\n",
    "* -7: it is for the deceased persons, not applicable for survivors*/\n",
    "* . 99: missing*/\n",
    "\n",
    "// survival status\n",
    "* dth08_11, dth11_14: status of survival, death, or lost to follow-up from 2002-2005/2005-2008/2008-2011/2011-2014 waves*/\n",
    "* dth**_##:\n",
    "* -9: lost to follow-up at the ## survey;\n",
    "* -8: died or lost to follow-up in previous waves;\n",
    "* 0: surviving at the ## survey;\n",
    "* 1: died before the ## survey\n",
    "* dth08_11:\n",
    "* 2: surviving at 2011 survey but died before 2012 survey"
   ]
  },
  {
   "cell_type": "code",
   "execution_count": 5,
   "metadata": {},
   "outputs": [
    {
     "name": "stdout",
     "output_type": "stream",
     "text": [
      "\n",
      "\n",
      "\n",
      "\n",
      "\n",
      "\n",
      "  status of |\n",
      "  survival, |\n",
      "  death, or |\n",
      "    lost to |\n",
      "  follow-up |\n",
      "  from 2008 |\n",
      "    to 2011 |\n",
      "      waves |      Freq.     Percent        Cum.\n",
      "------------+-----------------------------------\n",
      "          0 |      4,224       99.86       99.86\n",
      "          2 |          6        0.14      100.00\n",
      "------------+-----------------------------------\n",
      "      Total |      4,230      100.00\n",
      "\n",
      "\n",
      "  status of |\n",
      "  survival, |\n",
      "  death, or |\n",
      "    lost to |\n",
      "  follow-up |\n",
      "  from 2008 |\n",
      "    to 2011 |\n",
      "      waves |      Freq.     Percent        Cum.\n",
      "------------+-----------------------------------\n",
      "         -9 |      1,868       35.59       35.59\n",
      "          1 |      3,381       64.41      100.00\n",
      "------------+-----------------------------------\n",
      "      Total |      5,249      100.00\n",
      "\n"
     ]
    }
   ],
   "source": [
    "/************************************* (3) Check whether there are logical input mistakes between death status for different waves *************************************/\n",
    "// check whether there are logical mistakes for dth**_##\n",
    "* If the current death status is -9/0/1, the previous one can only be 0;\n",
    "* if the current death status is -8, then the previous can only be -8,-9 and 1.\n",
    "preserve\n",
    "rename dth08_11 dth5\n",
    "rename dth11_14 dth6\n",
    "label drop _all\n",
    "tab dth5 if dth6 == -9 | dth6 == 0 | dth6 == 1, missing //0\n",
    "tab dth5 if dth6 == -8, missing //-8, -9, 1\n",
    "restore"
   ]
  },
  {
   "cell_type": "code",
   "execution_count": 6,
   "metadata": {},
   "outputs": [
    {
     "name": "stdout",
     "output_type": "stream",
     "text": [
      "\n",
      "(9,473 observations deleted)\n",
      "\n"
     ]
    }
   ],
   "source": [
    "keep if dth08_11==2\n",
    "keep id dth08_11 dth11_14 d11vyear d11vmonth d11vday d14vyear d14vmonth d14vday"
   ]
  },
  {
   "cell_type": "code",
   "execution_count": 7,
   "metadata": {},
   "outputs": [],
   "source": [
    "//all the 6 died in 08_11wave and had exact death dates, but were recoded as -9 in dth11_14:id=32151908,32160308,32165108,32166908,32167708,32170908"
   ]
  },
  {
   "cell_type": "code",
   "execution_count": 8,
   "metadata": {},
   "outputs": [
    {
     "name": "stdout",
     "output_type": "stream",
     "text": [
      "\n",
      "\n",
      "\n",
      "(7,475 observations deleted)\n"
     ]
    }
   ],
   "source": [
    "*****************************create work.dta, which has changed the death status according results above, and renanme dth**_##***********\n",
    "use \"${RAW}/2008_2014_longitudinal_dataset_released_version1.dta\", clear\n",
    "gen int id_year = mod(id, 100)\n",
    "keep if id_year == 8 | id_year == 9"
   ]
  },
  {
   "cell_type": "code",
   "execution_count": 9,
   "metadata": {},
   "outputs": [
    {
     "name": "stdout",
     "output_type": "stream",
     "text": [
      "\n",
      "(dth11_14: 6 changes made)\n",
      "\n",
      "(dth08_11: 6 changes made)\n"
     ]
    }
   ],
   "source": [
    "recode dth11_14(-9=-8) if id == 32151908 | id == 32160308 | id == 32165108 | id == 32166908 | id == 32167708 | id == 32170908\n",
    "recode dth08_11(2=1)"
   ]
  },
  {
   "cell_type": "code",
   "execution_count": 10,
   "metadata": {},
   "outputs": [],
   "source": [
    "rename dth08_11 dth11\n",
    "rename dth11_14 dth14"
   ]
  },
  {
   "cell_type": "code",
   "execution_count": 11,
   "metadata": {},
   "outputs": [
    {
     "name": "stdout",
     "output_type": "stream",
     "text": [
      "\n",
      "\n",
      "\n",
      "\n",
      "\n",
      "\n",
      "(note: file F:\\Box Sync\\Archives2020LLY\\Zhengting\\Duke Kunshan University Intern\n",
      ">  (zh133@duke.edu)\\4 healthy aging-CLHLS\\Group meeting coordination\\survival ti\n",
      "> me/inter data/work.dta not found)\n",
      "file F:\\Box Sync\\Archives2020LLY\\Zhengting\\Duke Kunshan University Intern (zh133\n",
      "> @duke.edu)\\4 healthy aging-CLHLS\\Group meeting coordination\\survival time/inte\n",
      "> r data/work.dta saved\n"
     ]
    }
   ],
   "source": [
    "global waves \"11 14\"\n",
    "global year1 \"2009 2010 2011 2013 2014\"\n",
    "global year2 \"2008 2012\"\n",
    "global months \"4 6 9 11\"\n",
    "global wavein \"in8 in11 in14\"\n",
    "save \"${INTER}/work.dta\", replace"
   ]
  },
  {
   "cell_type": "code",
   "execution_count": 12,
   "metadata": {},
   "outputs": [
    {
     "name": "stdout",
     "output_type": "stream",
     "text": [
      "\n",
      "(d11vday: 71 changes made)\n",
      "(d11vmonth: 0 changes made)\n",
      "(d11vyear: 0 changes made)\n",
      "(3,387 real changes made)\n",
      "(3,001 real changes made)\n",
      "(3,204 real changes made)\n",
      "(d14vday: 8155 changes made)\n",
      "(d14vmonth: 8077 changes made)\n",
      "(d14vyear: 8119 changes made)\n",
      "(1,360 real changes made)\n",
      "(1,232 real changes made)\n",
      "(1,273 real changes made)\n",
      "\n",
      "\n",
      "(note: file F:\\Box Sync\\Archives2020LLY\\Zhengting\\Duke Kunshan University Intern\n",
      ">  (zh133@duke.edu)\\4 healthy aging-CLHLS\\Group meeting coordination\\survival ti\n",
      "> me/inter data/work1.dta not found)\n",
      "file F:\\Box Sync\\Archives2020LLY\\Zhengting\\Duke Kunshan University Intern (zh133\n",
      "> @duke.edu)\\4 healthy aging-CLHLS\\Group meeting coordination\\survival time/inte\n",
      "> r data/work1.dta saved\n"
     ]
    }
   ],
   "source": [
    "/************************************* (4) Check whether there are logical input mistakes between death status and the verified death year, month, day *************************************/\n",
    "// check whether there are logical mistakes between d*vyear d*vmonth d*vday dth**_##\n",
    "foreach i of global waves {\n",
    "    // unify missing value to \"99\"\n",
    "    recode d`i'vday(. 88=99) \n",
    "    recode d`i'vmonth(. 88=99)\n",
    "    recode d`i'vyear(. 8888 9999=99)  //no 88 for all the 4 vars\n",
    "    \n",
    "    replace d`i'vyear = 1 if d`i'vyear > 1997 & d`i'vyear < 2020\n",
    "    replace d`i'vmonth = 1 if d`i'vmonth > 0 & d`i'vmonth < 13\n",
    "    replace d`i'vday = 1 if d`i'vday > 0 & d`i'vday < 32\n",
    "    \n",
    "    bys d`i'vyear: gen fre`i'_year = _N\n",
    "    bys d`i'vmonth: gen fre`i'_month = _N\n",
    "    bys d`i'vday: gen fre`i'_day = _N\n",
    "    bys dth`i': gen fre`i'_dth = _N\n",
    "}\n",
    "label drop _all\n",
    "save \"${INTER}/work1.dta\", replace"
   ]
  },
  {
   "cell_type": "code",
   "execution_count": 13,
   "metadata": {},
   "outputs": [
    {
     "name": "stdout",
     "output_type": "stream",
     "text": [
      "\n",
      "\n",
      "Duplicates in terms of d11vyear d11vmonth d11vday dth11\n",
      "\n",
      "(9,475 observations deleted)\n",
      "(note: file F:\\Box Sync\\Archives2020LLY\\Zhengting\\Duke Kunshan University Intern\n",
      ">  (zh133@duke.edu)\\4 healthy aging-CLHLS\\Group meeting coordination\\survival ti\n",
      "> me/inter data/wave11.dta not found)\n",
      "file F:\\Box Sync\\Archives2020LLY\\Zhengting\\Duke Kunshan University Intern (zh133\n",
      "> @duke.edu)\\4 healthy aging-CLHLS\\Group meeting coordination\\survival time/inte\n",
      "> r data/wave11.dta saved\n",
      "\n",
      "Duplicates in terms of d14vyear d14vmonth d14vday dth14\n",
      "\n",
      "(9,472 observations deleted)\n",
      "(note: file F:\\Box Sync\\Archives2020LLY\\Zhengting\\Duke Kunshan University Intern\n",
      ">  (zh133@duke.edu)\\4 healthy aging-CLHLS\\Group meeting coordination\\survival ti\n",
      "> me/inter data/wave14.dta not found)\n",
      "file F:\\Box Sync\\Archives2020LLY\\Zhengting\\Duke Kunshan University Intern (zh133\n",
      "> @duke.edu)\\4 healthy aging-CLHLS\\Group meeting coordination\\survival time/inte\n",
      "> r data/wave14.dta saved\n",
      "\n",
      "\n"
     ]
    }
   ],
   "source": [
    "foreach i of global waves{\n",
    "    keep d`i'vyear d`i'vmonth d`i'vday dth`i' fre`i'_year fre`i'_month fre`i'_day fre`i'_dth \n",
    "    duplicates drop d`i'vyear d`i'vmonth d`i'vday dth`i', force \n",
    "    save \"${INTER}/wave`i'.dta\", replace\n",
    "    use \"${INTER}/work1.dta\", clear\n",
    "}\n",
    "use \"${INTER}/wave14.dta\",clear\n",
    "append using \"${INTER}/wave11.dta\""
   ]
  },
  {
   "cell_type": "code",
   "execution_count": 14,
   "metadata": {},
   "outputs": [],
   "source": [
    "browse"
   ]
  },
  {
   "cell_type": "code",
   "execution_count": 15,
   "metadata": {},
   "outputs": [],
   "source": [
    "/* The results show that, in wave0-wave11, -9, -8, 0/-7(alive) have completely the same freq, \n",
    "all missing values in d*vyear/month/day occur only when dth*=1(died). Only in wave14, all is missing in d14vyear/month/day when dth14=-9/-8/0. \n",
    "There is no logical mistakes between the 4 vars.*/"
   ]
  },
  {
   "cell_type": "code",
   "execution_count": 16,
   "metadata": {},
   "outputs": [
    {
     "name": "stdout",
     "output_type": "stream",
     "text": [
      "\n",
      "\n",
      "\n",
      "  status of |\n",
      "  survival, |\n",
      "  death, or |\n",
      "    lost to |\n",
      "  follow-up |\n",
      "  from 2008 |\n",
      "    to 2011 |\n",
      "      waves |      Freq.     Percent        Cum.\n",
      "------------+-----------------------------------\n",
      "         -9 |      1,868       19.71       19.71\n",
      "          0 |      4,224       44.56       64.27\n",
      "          1 |      3,387       35.73      100.00\n",
      "------------+-----------------------------------\n",
      "      Total |      9,479      100.00\n",
      "\n",
      "  status of |\n",
      "  survival, |\n",
      "  death, or |\n",
      "    lost to |\n",
      "  follow-up |\n",
      "       from |\n",
      "  2011/2012 |\n",
      "    to 2014 |\n",
      "      waves |      Freq.     Percent        Cum.\n",
      "------------+-----------------------------------\n",
      "         -9 |        368        8.71        8.71\n",
      "          0 |      2,454       58.10       66.81\n",
      "          1 |      1,402       33.19      100.00\n",
      "------------+-----------------------------------\n",
      "      Total |      4,224      100.00\n"
     ]
    }
   ],
   "source": [
    "// tabulate the lost,died and alive number for each wave\n",
    "use \"${INTER}/work1.dta\",clear\n",
    "foreach i of global waves {\n",
    "    tabulate dth`i' if dth`i' != -8\n",
    "}"
   ]
  },
  {
   "cell_type": "code",
   "execution_count": 17,
   "metadata": {},
   "outputs": [],
   "source": [
    "foreach i of global waves {\n",
    "    erase \"${INTER}/wave`i'.dta\"\n",
    "}\n",
    "erase \"${INTER}/work1.dta\""
   ]
  },
  {
   "cell_type": "code",
   "execution_count": 18,
   "metadata": {},
   "outputs": [
    {
     "name": "stdout",
     "output_type": "stream",
     "text": [
      "\n",
      "\n",
      "(d11vday: 71 changes made)\n",
      "(d11vmonth: 0 changes made)\n",
      "(d11vyear: 0 changes made)\n",
      "(d14vday: 8155 changes made)\n",
      "(d14vmonth: 8077 changes made)\n",
      "(d14vyear: 8119 changes made)\n"
     ]
    }
   ],
   "source": [
    "/********************************************************************************************************************/\n",
    "/************************************* II. Replacement of NA and input mistakes *************************************/\n",
    "/********************************************************************************************************************/\n",
    "\n",
    "use \"${INTER}/work.dta\", clear\n",
    "/*change all . to 99 for month&day, . to 9999 for year*/\n",
    "foreach a of global waves {\n",
    "    recode d`a'vday (. = 99) \n",
    "    recode d`a'vmonth (. = 99)\n",
    "    recode d`a'vyear (. = 9999)\n",
    "}"
   ]
  },
  {
   "cell_type": "code",
   "execution_count": 19,
   "metadata": {},
   "outputs": [
    {
     "name": "stdout",
     "output_type": "stream",
     "text": [
      "\n",
      "year9899 not found\n",
      "\n",
      "day_0 not found\n",
      "\n",
      "day02 not found\n",
      "\n",
      "(1 missing value generated)\n",
      "\n",
      "(1 missing value generated)\n",
      "\n",
      "(5,249 missing values generated)\n",
      "\n",
      "(7,025 missing values generated)\n"
     ]
    }
   ],
   "source": [
    "****calculate the mid-point between the last interview date of the previous wave and the first interview date of the next wave\n",
    "capture noisily gen in98 = mdy(month98, date98, year9899)                            \n",
    "capture noisily gen in0 = mdy(month_0, day_0, 2000)\n",
    "capture noisily gen in2 = mdy(month02, day02, 2002)\n",
    "capture noisily gen in5 = mdy(monthin, dayin, 2005)\n",
    "capture noisily gen in8 = mdy(monthin, dayin, yearin)\n",
    "gen in11 = mdy(monthin_11, dayin_11, yearin_11)\n",
    "gen in14 = mdy(monthin_14, dayin_14, yearin_14) "
   ]
  },
  {
   "cell_type": "code",
   "execution_count": 20,
   "metadata": {},
   "outputs": [],
   "source": [
    "forv i=1/2 {                                                                     //******need to be changed                                               \n",
    "    local wavein2 = word(\"$wavein\", `i')\n",
    "         egen min_`wavein2' = min(`wavein2')\n",
    "         egen max_`wavein2' = max(`wavein2')\n",
    "    local j = `i'+1\n",
    "    local wavein3 = word(\"$wavein\", `j')\n",
    "         egen min_`wavein3' = min(`wavein3')\n",
    "         egen max_`wavein3' = max(`wavein3')\n",
    "    gen mid_`wavein2'_`wavein3' = (max_`wavein2' + min_`wavein3')/2\n",
    "    gen midyear_`wavein2'_`wavein3' = year(mid_`wavein2'_`wavein3')\n",
    "    gen midmonth_`wavein2'_`wavein3' = month(mid_`wavein2'_`wavein3')\n",
    "    gen midday_`wavein2'_`wavein3' = day(mid_`wavein2'_`wavein3')\n",
    "drop min_`wavein3' max_`wavein3'\n",
    "}"
   ]
  },
  {
   "cell_type": "code",
   "execution_count": 21,
   "metadata": {},
   "outputs": [
    {
     "name": "stdout",
     "output_type": "stream",
     "text": [
      "\n",
      "\n",
      "(d11vday: 79 changes made)\n",
      "(d11vmonth: 0 changes made)\n",
      "(0 real changes made)\n",
      "(0 real changes made)\n",
      "(0 real changes made)\n",
      "(d14vday: 43 changes made)\n",
      "(d14vmonth: 0 changes made)\n",
      "(35 real changes made)\n",
      "(0 real changes made)\n",
      "(42 real changes made)\n"
     ]
    }
   ],
   "source": [
    "/************************************* (5) Replacement of the missing death date according to Rule 1 *************************************/\n",
    "* Rule 1:\n",
    "* For the three variables, year, month, and day:\n",
    "* a. if only month is missing, the month is assumed to be July;\n",
    "* b. if only day is missing, the day is assumed to be 15;\n",
    "* c. for the rest of all the scenarios, the year/month/day is assumed to be that of the mid-point between the last interview date of the previous wave and\n",
    "* the first interview date of the next wave. (these scenarios inc, all the three variables are missing, or any two variables are missing, or only year is\n",
    "* missing.)\n",
    "local j = 1\n",
    "foreach i of global waves { \n",
    "        recode d`i'vday (99 = 15) if d`i'vmonth != 99 & d`i'vyear != 9999 & dth`i' == 1 \n",
    "        recode d`i'vmonth (99 = 7) if d`i'vday != 99 & d`i'vyear != 9999 & dth`i' == 1 \n",
    "    \n",
    "    local inid = word(\"$wavein\",`j')\n",
    "        replace d`i'vday = midday_`inid'_in`i' if d`i'vday == 99 & dth`i' == 1\n",
    "        replace d`i'vmonth = midmonth_`inid'_in`i' if d`i'vmonth == 99 & dth`i' == 1\n",
    "        replace d`i'vyear = midyear_`inid'_in`i' if d`i'vyear == 9999 & dth`i' == 1\n",
    "      \n",
    "    local j = `j'+1\n",
    "}"
   ]
  },
  {
   "cell_type": "code",
   "execution_count": 22,
   "metadata": {},
   "outputs": [
    {
     "name": "stdout",
     "output_type": "stream",
     "text": [
      "\n",
      "(d11vday: 2 changes made)\n",
      "(d11vday: 1 changes made)\n",
      "(d11vday: 0 changes made)\n",
      "(d11vday: 0 changes made)\n",
      "(d11vday: 0 changes made)\n",
      "(d11vday: 0 changes made)\n",
      "(d11vday: 0 changes made)\n",
      "(d11vday: 1 changes made)\n",
      "(d11vday: 0 changes made)\n",
      "(d11vday: 0 changes made)\n",
      "(d11vday: 0 changes made)\n",
      "(d14vday: 0 changes made)\n",
      "(d14vday: 0 changes made)\n",
      "(d14vday: 1 changes made)\n",
      "(d14vday: 0 changes made)\n",
      "(d14vday: 0 changes made)\n",
      "(d14vday: 0 changes made)\n",
      "(d14vday: 0 changes made)\n",
      "(d14vday: 0 changes made)\n",
      "(d14vday: 0 changes made)\n",
      "(d14vday: 0 changes made)\n",
      "(d14vday: 0 changes made)\n"
     ]
    }
   ],
   "source": [
    "/************************************* (6) Modify input mistakes of death date according to Rule 2 *************************************/\n",
    "* Rule 2:\n",
    "* a. change day 29/max of Feb to 28 for years 99, 01, 02, 03, 05, 06, 07, 09, 10, 11, 13, 14 (non-leap year);\n",
    "* b. change day 30/max of Feb to 29 for years 00, 04, 08, 12 (leap year);\n",
    "* c. change day 31 to 30 for months 4, 6, 9, 11\n",
    "foreach i of global waves{\n",
    "    foreach year of global year1{\n",
    "        recode d`i'vday (29/max=28) if d`i'vyear == `year' & d`i'vmonth == 2\n",
    "    }\n",
    "    foreach year of global year2{\n",
    "        recode d`i'vday (30/max=29) if d`i'vyear == `year' & d`i'vmonth == 2\n",
    "    }\n",
    "    foreach month of global months{\n",
    "        recode d`i'vday (31=30) if d`i'vmonth == `month'\n",
    "    }\n",
    "}"
   ]
  },
  {
   "cell_type": "code",
   "execution_count": 23,
   "metadata": {},
   "outputs": [
    {
     "name": "stdout",
     "output_type": "stream",
     "text": [
      "\n",
      "\n",
      "--------------------------------------------------------------------------------\n",
      "monthin                                              month of the 2008 interview\n",
      "--------------------------------------------------------------------------------\n",
      "\n",
      "                  type:  numeric (byte)\n",
      "                 label:  monthin, but 11 nonmissing values are not labeled\n",
      "\n",
      "                 range:  [1,12]                       units:  1\n",
      "         unique values:  11                       missing .:  0/9,479\n",
      "\n",
      "              examples:  7     \n",
      "                         8     \n",
      "                         10    \n",
      "                         11    \n",
      "\n",
      "\n",
      "--------------------------------------------------------------------------------\n",
      "dayin                                                  day of the 2008 interview\n",
      "--------------------------------------------------------------------------------\n",
      "\n",
      "                  type:  numeric (byte)\n",
      "                 label:  dayin, but 31 nonmissing values are not labeled\n",
      "\n",
      "                 range:  [1,31]                       units:  1\n",
      "         unique values:  31                       missing .:  0/9,479\n",
      "\n",
      "              examples:  7     \n",
      "                         12    \n",
      "                         17    \n",
      "                         24    \n"
     ]
    }
   ],
   "source": [
    "/****************************************************************************************************************************************/\n",
    "/************************************* III. calculating survival time, censor and lost to follow-up *************************************/\n",
    "/****************************************************************************************************************************************/\n",
    "\n",
    "/************************************* (7) Replacement of the missing interview baseline date according to Rule 3 *************************************/\n",
    "* Rule 3:\n",
    "* a. if only the interview day is missing, then the day is assumed to be 15th\n",
    "* b. if both month and day are missing and the year isn't missing, or only the month is missing, the month/day is assumed to be that of the mid-point between the earliest interview date\n",
    "* and the latest interiew date of that year\n",
    "* c. no interview year is missing\n",
    "\n",
    "codebook dayin    // no missing interview day\n",
    "codebook monthin  // no missing interview month"
   ]
  },
  {
   "cell_type": "code",
   "execution_count": 24,
   "metadata": {},
   "outputs": [
    {
     "name": "stdout",
     "output_type": "stream",
     "text": [
      "\n",
      "(dayin: 0 changes made)\n",
      "\n",
      "(dayin: 0 changes made)\n",
      "\n",
      "(dayin: 0 changes made)\n",
      "(dayin: 0 changes made)\n",
      "(dayin: 0 changes made)\n",
      "(dayin: 1 changes made)\n"
     ]
    }
   ],
   "source": [
    "/************************************* (8) Modify input mistakes of interview baseline date according to Rule 2 *************************************/\n",
    "* Rule 2:\n",
    "* a. change day 29/max of Feb to 28 for years 99, 01, 02, 03, 05, 06, 07, 09, 10, 11, 13, 14 (non-leap year);\n",
    "* b. change day 30/max of Feb to 29 for years 00, 04, 08, 12 (leap year);\n",
    "* c. change day 31 to 30 for months 4, 6, 9, 11\n",
    "recode dayin (29/max=28) if monthin == 2 & yearin == 2009\n",
    "recode dayin (30/max=29) if monthin == 2 & yearin == 2008\n",
    "\n",
    "foreach month of global months {\n",
    "    recode dayin (31=30) if monthin == `month'\n",
    "}"
   ]
  },
  {
   "cell_type": "code",
   "execution_count": 25,
   "metadata": {},
   "outputs": [],
   "source": [
    "****set interview baseline\n",
    "**codebook on interview date variables\n",
    "* datein: day of interview of the 2008 survey; 1~31, 99=missing\n",
    "* monthin: month of the interview of the 2008 survey*; 1~12, 99=missing\n",
    "* yearin: 2008~2009\n",
    "gen interview_baseline = mdy(monthin, dayin, yearin)"
   ]
  },
  {
   "cell_type": "code",
   "execution_count": 26,
   "metadata": {},
   "outputs": [
    {
     "name": "stdout",
     "output_type": "stream",
     "text": [
      "\n",
      "(9,479 missing values generated)\n",
      "\n",
      "(9,479 missing values generated)\n",
      "\n",
      "(9,479 missing values generated)\n",
      "\n",
      "(9,479 missing values generated)\n",
      "\n",
      "(9,479 missing values generated)\n"
     ]
    }
   ],
   "source": [
    "/************************************* (9) Calculate survival time for each person according to Rule 4 *************************************/\n",
    "* Rule 4:\n",
    "* Generate two different survival time (**for data sets with suffix_14**):\n",
    "\n",
    "* One is `survival_bas', from interview baseline to death or censored, **up to 2014 wave**.\n",
    "* a. For those died in the study: survival time = death date - interview date at baseline;\n",
    "* b. For those lost in the study: survival time = the mid-point of the two adjacent waves - interview date at baseline;\n",
    "* (the mid-point of the two adjacent waves is generated according to Rule 1)\n",
    "* c. For those still alive at the end of the study: survival time = interview date in the last wave - interview date at baseline;\n",
    "* d. If survival_bas < 0, change survival time to 0.\n",
    "\n",
    "* Another one is `survival_bth', from birth to death or censored, **up to 2014 wave**.\n",
    "* e. survival_bth = survival_bas + verified age (*trueage*)\n",
    "\n",
    "* Variables for death/lost status\n",
    "* `censor' is coded as: 1 = died, 0 = not died (alive or lost);\n",
    "* `lost' is coed as: 1 = lost, . = not lost\n",
    "\n",
    "* gen survival_bas,means the years from baseline to death or censored\n",
    "* generate dthyear/month/day, means the exact death year/month/day of those who died during the whole period (2005-2014)\n",
    "* gen lostdate, means the lost date for those lost in the survey, and equals to the mid-point of last day of the previous interview and the first day of the next one\n",
    "\n",
    "gen dthyear = .\n",
    "gen dthmonth = .\n",
    "gen dthday = .\n",
    "gen lostdate = .\n",
    "gen survival_bas = ."
   ]
  },
  {
   "cell_type": "code",
   "execution_count": 27,
   "metadata": {},
   "outputs": [
    {
     "name": "stdout",
     "output_type": "stream",
     "text": [
      "\n",
      "\n",
      "(3,387 real changes made)\n",
      "(3,387 real changes made)\n",
      "(3,387 real changes made)\n",
      "(1,868 real changes made)\n",
      "(1,402 real changes made)\n",
      "(1,402 real changes made)\n",
      "(1,402 real changes made)\n",
      "(368 real changes made)\n"
     ]
    }
   ],
   "source": [
    "local j=1\n",
    "foreach i of global waves {\n",
    "    replace dthyear = d`i'vyear if d`i'vyear > 0 & d`i'vyear < 2020\n",
    "    replace dthmonth = d`i'vmonth if d`i'vmonth > 0 & d`i'vmonth < 13\n",
    "    replace dthday = d`i'vday if d`i'vday > 0 & d`i'vday < 32\n",
    "local inid = word(\"$wavein\", `j')\n",
    "    replace lostdate = mdy(midmonth_`inid'_in`i', midday_`inid'_in`i', midyear_`inid'_in`i') if dth`i' == -9\n",
    "local j = `j' + 1\n",
    "}"
   ]
  },
  {
   "cell_type": "code",
   "execution_count": 28,
   "metadata": {},
   "outputs": [
    {
     "name": "stdout",
     "output_type": "stream",
     "text": [
      "\n",
      "(4,690 missing values generated)\n",
      "\n",
      "(4,789 real changes made)\n",
      "\n",
      "\n",
      "(4,789 real changes made)\n"
     ]
    }
   ],
   "source": [
    "gen dthdate = mdy(dthmonth, dthday, dthyear)\n",
    "replace survival_bas = (dthdate - interview_baseline)/365.25\n",
    "gen censor = 0\n",
    "replace censor = 1 if survival_bas != .  //generate censor=1 if die, censor=0 if survived until end of the wave or lost to follow"
   ]
  },
  {
   "cell_type": "code",
   "execution_count": 29,
   "metadata": {},
   "outputs": [
    {
     "name": "stdout",
     "output_type": "stream",
     "text": [
      "\n",
      "(2,236 real changes made)\n",
      "\n",
      "\n",
      "(7,243 real changes made, 7,243 to missing)\n"
     ]
    }
   ],
   "source": [
    "replace survival_bas = (lostdate - interview_baseline)/365.25 if lostdate != .\n",
    "gen lost = 1\n",
    "replace lost = . if lostdate == ."
   ]
  },
  {
   "cell_type": "code",
   "execution_count": 30,
   "metadata": {},
   "outputs": [
    {
     "name": "stdout",
     "output_type": "stream",
     "text": [
      "\n",
      "(7,025 missing values generated)\n",
      "\n",
      "(2,454 real changes made)\n"
     ]
    }
   ],
   "source": [
    "gen interview2014 = mdy(monthin_14, dayin_14, yearin_14) if dth14 == 0\n",
    "replace survival_bas = (interview2014 - interview_baseline)/365.25 if interview2014 != ."
   ]
  },
  {
   "cell_type": "code",
   "execution_count": 31,
   "metadata": {},
   "outputs": [
    {
     "name": "stdout",
     "output_type": "stream",
     "text": [
      "\n",
      "\n",
      "    Variable |        Obs        Mean    Std. Dev.       Min        Max\n",
      "-------------+---------------------------------------------------------\n",
      "survival_bas |      9,479     3.12093    1.964842  -.7145791   6.614648\n",
      "\n",
      "(24 real changes made)\n",
      "\n",
      "\n",
      "\n"
     ]
    }
   ],
   "source": [
    "**************replace the survival time to 0 for those whose survival was negative\n",
    "sum survival_bas\n",
    "* gen survival_bth,means the years from birth to death or censored\n",
    "replace survival_bas = 0 if survival_bas < 0  \n",
    "* gen survival_bth,means the years from birth to death or censored\n",
    "gen survival_bth = survival_bas + trueage                                                            \n",
    "erase \"${INTER}/work.dta\"\n",
    "macro drop _all"
   ]
  },
  {
   "cell_type": "code",
   "execution_count": 35,
   "metadata": {},
   "outputs": [
    {
     "name": "stdout",
     "output_type": "stream",
     "text": [
      "(note: variable id was long, now double to accommodate using data's values)\n",
      "\n",
      "    Result                           # of obs.\n",
      "    -----------------------------------------\n",
      "    not matched                        11,765\n",
      "        from master                     7,026  (_merge==1)\n",
      "        from using                      4,739  (_merge==2)\n",
      "\n",
      "    matched                             2,453  (_merge==3)\n",
      "    -----------------------------------------\n"
     ]
    }
   ],
   "source": [
    "/************************************* (10) calc survival time to 2018 *************************************/\n",
    "\n",
    "merge 1:1 id using \"${OUT}/dat14_18surtime.dta\", keepus(id survival_bas14_18 survival_bth14_18 censor14_18 lost14_18) nolabel //47, 96, 1110, 821 merged for dat98/00/05/11_14"
   ]
  },
  {
   "cell_type": "code",
   "execution_count": 36,
   "metadata": {},
   "outputs": [],
   "source": [
    "ren (survival_bas survival_bth lost censor) (survival_bas08_14 survival_bth08_14 lost08_14 censor08_14)"
   ]
  },
  {
   "cell_type": "code",
   "execution_count": 37,
   "metadata": {},
   "outputs": [
    {
     "name": "stdout",
     "output_type": "stream",
     "text": [
      "\n",
      "(4,739 missing values generated)\n",
      "\n",
      "(2,452 real changes made)\n"
     ]
    }
   ],
   "source": [
    "gen survival_bas08_18 = survival_bas08_14\n",
    "replace survival_bas08_18 = survival_bas08_14 + survival_bas14_18 if censor08_14 == 0 & _merge == 3  //2452 replaced, one died on/three died before the interview date in 2014, but all were recorded as alive in dat08_14, so donot need special change ('replace survival_bas08_18=survival_bas+survival_bas14_18' works)"
   ]
  },
  {
   "cell_type": "code",
   "execution_count": 38,
   "metadata": {},
   "outputs": [
    {
     "name": "stdout",
     "output_type": "stream",
     "text": [
      "\n",
      "(4,739 missing values generated)\n",
      "\n",
      "(2,452 real changes made)\n"
     ]
    }
   ],
   "source": [
    "gen survival_bth08_18 = survival_bth08_14\n",
    "replace survival_bth08_18 = survival_bth08_14 + survival_bas14_18 if censor08_14 == 0 & _merge == 3"
   ]
  },
  {
   "cell_type": "code",
   "execution_count": 39,
   "metadata": {},
   "outputs": [
    {
     "name": "stdout",
     "output_type": "stream",
     "text": [
      "\n",
      "(4,739 missing values generated)\n",
      "\n",
      "(814 real changes made)\n"
     ]
    }
   ],
   "source": [
    "gen censor08_18 = censor08_14\n",
    "replace censor08_18 = censor14_18 if _merge == 3  //814 died between 2014 and 2018"
   ]
  },
  {
   "cell_type": "code",
   "execution_count": 40,
   "metadata": {},
   "outputs": [
    {
     "name": "stdout",
     "output_type": "stream",
     "text": [
      "\n",
      "(11,982 missing values generated)\n",
      "\n",
      "(530 real changes made)\n"
     ]
    }
   ],
   "source": [
    "gen lost08_18 = lost08_14\n",
    "replace lost08_18 = lost14_18 if _merge == 3  //530 lost between 2014 and 2018"
   ]
  },
  {
   "cell_type": "code",
   "execution_count": 41,
   "metadata": {},
   "outputs": [
    {
     "name": "stdout",
     "output_type": "stream",
     "text": [
      "\n",
      "(4,739 observations deleted)\n",
      "\n"
     ]
    }
   ],
   "source": [
    "drop if _merge==2\n",
    "drop _merge"
   ]
  },
  {
   "cell_type": "code",
   "execution_count": 42,
   "metadata": {},
   "outputs": [
    {
     "name": "stdout",
     "output_type": "stream",
     "text": [
      "(note: file F:\\Box Sync\\Archives2020LLY\\Zhengting\\Duke Kunshan University Intern\n",
      ">  (zh133@duke.edu)\\4 healthy aging-CLHLS\\Group meeting coordination\\survival ti\n",
      "> me/out data/dat08_18surtime.dta not found)\n",
      "file F:\\Box Sync\\Archives2020LLY\\Zhengting\\Duke Kunshan University Intern (zh133\n",
      "> @duke.edu)\\4 healthy aging-CLHLS\\Group meeting coordination\\survival time/out \n",
      "> data/dat08_18surtime.dta saved\n"
     ]
    }
   ],
   "source": [
    "save \"${OUT}/dat08_18surtime.dta\", replace"
   ]
  }
 ],
 "metadata": {
  "kernelspec": {
   "display_name": "Stata",
   "language": "stata",
   "name": "stata"
  },
  "language_info": {
   "codemirror_mode": "stata",
   "file_extension": ".do",
   "mimetype": "text/x-stata",
   "name": "stata",
   "version": "15.1"
  }
 },
 "nbformat": 4,
 "nbformat_minor": 4
}
