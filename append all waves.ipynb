{
 "cells": [
  {
   "cell_type": "code",
   "execution_count": 111,
   "metadata": {},
   "outputs": [],
   "source": [
    "/*********************************************************************************************************************/\n",
    "/************************************** CLHLS longitudinal dataset survival time *************************************/\n",
    "/*********************************************************************************************************************/\n",
    "* Zhengting (Johnathan) He\n",
    "* July 5th, 2021\n",
    "* healthy-aging project\n",
    "* Verify Yaxi's code on appending survival time: code for creating idnum_survival18.do\n",
    "* Verify Yaxi's code on generating crsset_mis.dta: healthy_lifestyle_code_repeated measures.sas"
   ]
  },
  {
   "cell_type": "code",
   "execution_count": 112,
   "metadata": {},
   "outputs": [],
   "source": [
    "// set working directories\n",
    "global root \"F:\\Box Sync\\Archives2020LLY\\Zhengting\\Duke Kunshan University Intern (zh133@duke.edu)\\4 healthy aging-CLHLS\\Group meeting coordination\\survival time\"\n",
    "* define path for data sources\n",
    "global RAW \"${root}/raw data\"\n",
    "* define path for output data\n",
    "global OUT \"${root}/out data\"\n",
    "* define path for INTERMEDIATE\n",
    "global INTER \"${root}/inter data\""
   ]
  },
  {
   "cell_type": "code",
   "execution_count": 113,
   "metadata": {},
   "outputs": [
    {
     "name": "stdout",
     "output_type": "stream",
     "text": [
      "\n",
      "file F:\\Box Sync\\Archives2020LLY\\Zhengting\\Duke Kunshan University Intern (zh133\n",
      "> @duke.edu)\\4 healthy aging-CLHLS\\Group meeting coordination\\survival time/inte\n",
      "> r data/work98.dta saved\n",
      "file F:\\Box Sync\\Archives2020LLY\\Zhengting\\Duke Kunshan University Intern (zh133\n",
      "> @duke.edu)\\4 healthy aging-CLHLS\\Group meeting coordination\\survival time/inte\n",
      "> r data/work00.dta saved\n",
      "file F:\\Box Sync\\Archives2020LLY\\Zhengting\\Duke Kunshan University Intern (zh133\n",
      "> @duke.edu)\\4 healthy aging-CLHLS\\Group meeting coordination\\survival time/inte\n",
      "> r data/work02.dta saved\n",
      "file F:\\Box Sync\\Archives2020LLY\\Zhengting\\Duke Kunshan University Intern (zh133\n",
      "> @duke.edu)\\4 healthy aging-CLHLS\\Group meeting coordination\\survival time/inte\n",
      "> r data/work05.dta saved\n",
      "file F:\\Box Sync\\Archives2020LLY\\Zhengting\\Duke Kunshan University Intern (zh133\n",
      "> @duke.edu)\\4 healthy aging-CLHLS\\Group meeting coordination\\survival time/inte\n",
      "> r data/work08.dta saved\n",
      "file F:\\Box Sync\\Archives2020LLY\\Zhengting\\Duke Kunshan University Intern (zh133\n",
      "> @duke.edu)\\4 healthy aging-CLHLS\\Group meeting coordination\\survival time/inte\n",
      "> r data/work11.dta saved\n"
     ]
    }
   ],
   "source": [
    "foreach v in 98 00 02 05 08 11 {\n",
    "    use \"${OUT}/dat`v'_18surtime.dta\", clear\n",
    "    keep id interview_baseline survival_bas`v'_18 censor`v'_18 lost`v'_18\n",
    "    rename survival_bas`v'_18 survival_bas18\n",
    "    rename censor`v'_18 censor18\n",
    "    rename lost`v'_18 lost18\n",
    "    save \"${INTER}/work`v'.dta\", replace\n",
    "}"
   ]
  },
  {
   "cell_type": "code",
   "execution_count": 114,
   "metadata": {},
   "outputs": [
    {
     "name": "stdout",
     "output_type": "stream",
     "text": [
      "\n",
      "\n",
      "\n",
      "\n",
      "\n",
      "\n",
      "\n",
      "file F:\\Box Sync\\Archives2020LLY\\Zhengting\\Duke Kunshan University Intern (zh133\n",
      "> @duke.edu)\\4 healthy aging-CLHLS\\Group meeting coordination\\survival time/inte\n",
      "> r data/work14.dta saved\n"
     ]
    }
   ],
   "source": [
    "use \"${OUT}/dat14_18_1125surtime.dta\", clear\n",
    "keep id in14 survival_bas14_18 censor14_18 lost14_18\n",
    "rename in14 interview_baseline\n",
    "rename survival_bas14_18 survival_bas18\n",
    "rename censor14_18 censor18\n",
    "rename lost14_18 lost18\n",
    "save \"${INTER}/work14.dta\", replace"
   ]
  },
  {
   "cell_type": "code",
   "execution_count": 115,
   "metadata": {},
   "outputs": [],
   "source": [
    "append using \"${INTER}/work98.dta\" \"${INTER}/work00.dta\" \"${INTER}/work02.dta\" ///\n",
    "\"${INTER}/work05.dta\" \"${INTER}/work08.dta\" \"${INTER}/work11.dta\", ///\n",
    "keep(id interview_baseline survival_bas18 censor18 lost18) gen(wave_long)"
   ]
  },
  {
   "cell_type": "code",
   "execution_count": 116,
   "metadata": {},
   "outputs": [
    {
     "name": "stdout",
     "output_type": "stream",
     "text": [
      "(1,125 real changes made)\n"
     ]
    }
   ],
   "source": [
    "replace wave_long=7 if wave_long == 0"
   ]
  },
  {
   "cell_type": "code",
   "execution_count": 117,
   "metadata": {},
   "outputs": [
    {
     "name": "stdout",
     "output_type": "stream",
     "text": [
      "(note: file F:\\Box Sync\\Archives2020LLY\\Zhengting\\Duke Kunshan University Intern\n",
      ">  (zh133@duke.edu)\\4 healthy aging-CLHLS\\Group meeting coordination\\survival ti\n",
      "> me/inter data/work.dta not found)\n",
      "file F:\\Box Sync\\Archives2020LLY\\Zhengting\\Duke Kunshan University Intern (zh133\n",
      "> @duke.edu)\\4 healthy aging-CLHLS\\Group meeting coordination\\survival time/inte\n",
      "> r data/work.dta saved\n"
     ]
    }
   ],
   "source": [
    "save \"${INTER}/work.dta\", replace"
   ]
  },
  {
   "cell_type": "code",
   "execution_count": 118,
   "metadata": {},
   "outputs": [],
   "source": [
    "*generating crsset_mis.dta (id_num, wave)\n",
    "use \"${RAW}/origin_crs14.dta\", clear\n",
    "keep id\n",
    "append using \"${RAW}/origin_crs98.dta\" \"${RAW}/origin_crs00.dta\" \"${RAW}/origin_crs02.dta\" \"${RAW}/origin_crs05.dta\" ///\n",
    "\"${RAW}/origin_crs08.dta\" \"${RAW}/origin_crs11.dta\", keep(id) gen(wave)"
   ]
  },
  {
   "cell_type": "code",
   "execution_count": 119,
   "metadata": {},
   "outputs": [
    {
     "name": "stdout",
     "output_type": "stream",
     "text": [
      "(7,195 real changes made)\n"
     ]
    }
   ],
   "source": [
    "replace wave = 7 if wave == 0"
   ]
  },
  {
   "cell_type": "code",
   "execution_count": 120,
   "metadata": {},
   "outputs": [],
   "source": [
    "bys id: gen id_num = _N"
   ]
  },
  {
   "cell_type": "code",
   "execution_count": 121,
   "metadata": {},
   "outputs": [
    {
     "name": "stdout",
     "output_type": "stream",
     "text": [
      "file F:\\Box Sync\\Archives2020LLY\\Zhengting\\Duke Kunshan University Intern (zh133\n",
      "> @duke.edu)\\4 healthy aging-CLHLS\\Group meeting coordination\\survival time/out \n",
      "> data/crsset_mis.dta saved\n"
     ]
    }
   ],
   "source": [
    "save \"${OUT}/crsset_mis.dta\", replace"
   ]
  },
  {
   "cell_type": "code",
   "execution_count": 122,
   "metadata": {},
   "outputs": [],
   "source": [
    "sort id wave"
   ]
  },
  {
   "cell_type": "code",
   "execution_count": 123,
   "metadata": {},
   "outputs": [
    {
     "name": "stdout",
     "output_type": "stream",
     "text": [
      "\n",
      "Duplicates in terms of id id_num\n",
      "\n",
      "(41,094 observations deleted)\n"
     ]
    }
   ],
   "source": [
    "duplicates drop id id_num, force"
   ]
  },
  {
   "cell_type": "code",
   "execution_count": 124,
   "metadata": {},
   "outputs": [
    {
     "name": "stdout",
     "output_type": "stream",
     "text": [
      "\n",
      "    Result                           # of obs.\n",
      "    -----------------------------------------\n",
      "    not matched                           232\n",
      "        from master                        10  (_merge==1)\n",
      "        from using                        222  (_merge==2)\n",
      "\n",
      "    matched                            44,390  (_merge==3)\n",
      "    -----------------------------------------\n"
     ]
    }
   ],
   "source": [
    "merge 1:m id using \"${INTER}/work.dta\""
   ]
  },
  {
   "cell_type": "code",
   "execution_count": 125,
   "metadata": {},
   "outputs": [
    {
     "name": "stdout",
     "output_type": "stream",
     "text": [
      "\n",
      "(222 real changes made)\n",
      "\n",
      "(10 observations deleted)\n"
     ]
    }
   ],
   "source": [
    "replace id_num = 1 if _merge == 2\n",
    "drop if _merge == 1"
   ]
  },
  {
   "cell_type": "code",
   "execution_count": 126,
   "metadata": {},
   "outputs": [],
   "source": [
    "keep id id_num interview_baseline survival_bas18 censor18 lost18"
   ]
  },
  {
   "cell_type": "code",
   "execution_count": 128,
   "metadata": {},
   "outputs": [
    {
     "name": "stdout",
     "output_type": "stream",
     "text": [
      "file F:\\Box Sync\\Archives2020LLY\\Zhengting\\Duke Kunshan University Intern (zh133\n",
      "> @duke.edu)\\4 healthy aging-CLHLS\\Group meeting coordination\\survival time/out \n",
      "> data/idnum_survival18.dta saved\n"
     ]
    }
   ],
   "source": [
    "save \"${OUT}/idnum_survival18.dta\", replace"
   ]
  }
 ],
 "metadata": {
  "kernelspec": {
   "display_name": "Stata",
   "language": "stata",
   "name": "stata"
  },
  "language_info": {
   "codemirror_mode": "stata",
   "file_extension": ".do",
   "mimetype": "text/x-stata",
   "name": "stata",
   "version": "15.1"
  }
 },
 "nbformat": 4,
 "nbformat_minor": 4
}
