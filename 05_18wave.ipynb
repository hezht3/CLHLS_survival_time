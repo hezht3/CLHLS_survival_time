{
 "cells": [
  {
   "cell_type": "code",
   "execution_count": 1,
   "metadata": {},
   "outputs": [],
   "source": [
    "/*********************************************************************************************************************/\n",
    "/************************************** CLHLS longitudinal dataset survival time *************************************/\n",
    "/*********************************************************************************************************************/\n",
    "* Zhengting (Johnathan) He\n",
    "* July 5th, 2021\n",
    "* healthy-aging project\n",
    "* Verify Yaxi's code on generting survival time: 98_14wave.do"
   ]
  },
  {
   "cell_type": "code",
   "execution_count": 31,
   "metadata": {},
   "outputs": [],
   "source": [
    "// set working directories\n",
    "global root \"F:\\Box Sync\\Archives2020LLY\\Zhengting\\Duke Kunshan University Intern (zh133@duke.edu)\\4 healthy aging-CLHLS\\Group meeting coordination\\survival time\"\n",
    "* define path for data sources\n",
    "global RAW \"${root}/raw data\"\n",
    "* define path for output data\n",
    "global OUT \"${root}/out data\"\n",
    "* define path for INTERMEDIATE\n",
    "global INTER \"${root}/inter data\""
   ]
  },
  {
   "cell_type": "code",
   "execution_count": 3,
   "metadata": {},
   "outputs": [
    {
     "name": "stdout",
     "output_type": "stream",
     "text": [
      "\n",
      "\n",
      "\n",
      "(8,179 observations deleted)\n"
     ]
    }
   ],
   "source": [
    "/*********************************************************************************************************************/\n",
    "/************************************* I. logical check on death status and date *************************************/\n",
    "/*********************************************************************************************************************/\n",
    "\n",
    "/************************************* (1) Extract new added data at current wave *************************************/\n",
    "use \"${RAW}/2005_2014_longitudinal_dataset_released_version1.dta\", clear\n",
    "gen int id_year = mod(id, 100)\n",
    "keep if id_year == 05 //7459 obs"
   ]
  },
  {
   "cell_type": "code",
   "execution_count": 5,
   "metadata": {},
   "outputs": [
    {
     "name": "stdout",
     "output_type": "stream",
     "text": [
      "\n",
      "\n",
      "--------------------------------------------------------------------------------\n",
      "d8vyear                            validated year of death of the sampled person\n",
      "--------------------------------------------------------------------------------\n",
      "\n",
      "                  type:  numeric (int)\n",
      "\n",
      "                 range:  [-9,2008]                    units:  1\n",
      "         unique values:  6                        missing .:  3/7,459\n",
      "\n",
      "            tabulation:  Freq.  Value\n",
      "                         1,472  -9\n",
      "                         3,281  -7\n",
      "                           327  2005\n",
      "                         1,022  2006\n",
      "                           934  2007\n",
      "                           420  2008\n",
      "                             3  .\n",
      "\n",
      "--------------------------------------------------------------------------------\n",
      "d11vyear                           validated year of death of the sampled person\n",
      "--------------------------------------------------------------------------------\n",
      "\n",
      "                  type:  numeric (int)\n",
      "                 label:  d11vyear, but 4 nonmissing values are not labeled\n",
      "\n",
      "                 range:  [-9,2011]                    units:  1\n",
      "         unique values:  7                        missing .:  0/7,459\n",
      "\n",
      "            tabulation:  Freq.   Numeric  Label\n",
      "                           532        -9  lost to follow-up in the 2011\n",
      "                                          survey\n",
      "                         4,178        -8  died or lost to follow-up in\n",
      "                                          previous waves\n",
      "                         1,678        -7  for deceased, not applicable for\n",
      "                                          survivors\n",
      "                           202      2008  \n",
      "                           369      2009  \n",
      "                           340      2010  \n",
      "                           160      2011  \n",
      "\n",
      "--------------------------------------------------------------------------------\n",
      "d14vyear                           validated year of death of the sampled person\n",
      "--------------------------------------------------------------------------------\n",
      "\n",
      "                  type:  numeric (int)\n",
      "                 label:  d14vyear, but 4 nonmissing values are not labeled\n",
      "\n",
      "                 range:  [2011,2014]                  units:  1\n",
      "         unique values:  4                        missing .:  7,002/7,459\n",
      "\n",
      "            tabulation:  Freq.   Numeric  Label\n",
      "                            56      2011  \n",
      "                           180      2012  \n",
      "                           150      2013  \n",
      "                            71      2014  \n",
      "                         7,002         .  \n",
      "\n",
      "--------------------------------------------------------------------------------\n",
      "d8vmonth                          validated month of death of the sampled person\n",
      "--------------------------------------------------------------------------------\n",
      "\n",
      "                  type:  numeric (byte)\n",
      "\n",
      "                 range:  [-9,12]                      units:  1\n",
      "         unique values:  14                       missing .:  3/7,459\n",
      "\n",
      "                  mean:   -2.4552\n",
      "              std. dev:    7.2121\n",
      "\n",
      "           percentiles:        10%       25%       50%       75%       90%\n",
      "                                -9        -7        -7         4        10\n",
      "\n",
      "--------------------------------------------------------------------------------\n",
      "d11vmonth                         validated month of death of the sampled person\n",
      "--------------------------------------------------------------------------------\n",
      "\n",
      "                  type:  numeric (byte)\n",
      "                 label:  d11vmonth, but 12 nonmissing values are not labeled\n",
      "\n",
      "                 range:  [-9,12]                      units:  1\n",
      "         unique values:  15                       missing .:  0/7,459\n",
      "\n",
      "              examples:  -8    died or lost to follow-up in previous waves\n",
      "                         -8    died or lost to follow-up in previous waves\n",
      "                         -8    died or lost to follow-up in previous waves\n",
      "                         -7    for deceased, not applicable for survivors\n",
      "\n",
      "--------------------------------------------------------------------------------\n",
      "d14vmonth                         validated month of death of the sampled person\n",
      "--------------------------------------------------------------------------------\n",
      "\n",
      "                  type:  numeric (byte)\n",
      "                 label:  d14vmonth, but 12 nonmissing values are not labeled\n",
      "\n",
      "                 range:  [1,12]                       units:  1\n",
      "         unique values:  12                       missing .:  6,991/7,459\n",
      "\n",
      "              examples:  .     \n",
      "                         .     \n",
      "                         .     \n",
      "                         .     \n",
      "\n",
      "--------------------------------------------------------------------------------\n",
      "d8vday                              validated day of death of the sampled person\n",
      "--------------------------------------------------------------------------------\n",
      "\n",
      "                  type:  numeric (byte)\n",
      "                 label:  d8vday, but 31 nonmissing values are not labeled\n",
      "\n",
      "                 range:  [-9,31]                      units:  1\n",
      "         unique values:  33                       missing .:  3/7,459\n",
      "\n",
      "              examples:  -7    the deceased persons only, not applicable to surv\n",
      "> ivors\n",
      "                         -7    the deceased persons only, not applicable to surv\n",
      "> ivors\n",
      "                         -7    the deceased persons only, not applicable to surv\n",
      "> ivors\n",
      "                         14    \n",
      "\n",
      "--------------------------------------------------------------------------------\n",
      "d11vday                             validated day of death of the sampled person\n",
      "--------------------------------------------------------------------------------\n",
      "\n",
      "                  type:  numeric (byte)\n",
      "                 label:  d11vday, but 31 nonmissing values are not labeled\n",
      "\n",
      "                 range:  [-9,99]                      units:  1\n",
      "         unique values:  35                       missing .:  23/7,459\n",
      "\n",
      "              examples:  -8    died or lost to follow-up in previous waves\n",
      "                         -8    died or lost to follow-up in previous waves\n",
      "                         -8    died or lost to follow-up in previous waves\n",
      "                         -7    for deceased, not applicable for survivors\n",
      "\n",
      "--------------------------------------------------------------------------------\n",
      "d14vday                            validated year of death of the sampled person\n",
      "--------------------------------------------------------------------------------\n",
      "\n",
      "                  type:  numeric (byte)\n",
      "                 label:  d14vday, but 31 nonmissing values are not labeled\n",
      "\n",
      "                 range:  [1,31]                       units:  1\n",
      "         unique values:  31                       missing .:  7,004/7,459\n",
      "\n",
      "              examples:  .     \n",
      "                         .     \n",
      "                         .     \n",
      "                         .     \n",
      "\n",
      "--------------------------------------------------------------------------------\n",
      "dth05_08                               status of survival, death, or lost to\n",
      "                                       follow-up from the 2005 to 2008 waves\n",
      "--------------------------------------------------------------------------------\n",
      "\n",
      "                  type:  numeric (byte)\n",
      "                 label:  dth05_08\n",
      "\n",
      "                 range:  [-9,1]                       units:  1\n",
      "         unique values:  3                        missing .:  0/7,459\n",
      "\n",
      "            tabulation:  Freq.   Numeric  Label\n",
      "                         1,472        -9  lost to follow-up in the 2008\n",
      "                                          survey\n",
      "                         3,281         0  surviving at the 2008 survey\n",
      "                         2,706         1  died before the 2008 survey\n",
      "\n",
      "--------------------------------------------------------------------------------\n",
      "dth08_11                               status of survival, death, or lost to\n",
      "                                       follow-up from 2008 to 2011 waves\n",
      "--------------------------------------------------------------------------------\n",
      "\n",
      "                  type:  numeric (byte)\n",
      "                 label:  dth08_11\n",
      "\n",
      "                 range:  [-9,1]                       units:  1\n",
      "         unique values:  4                        missing .:  0/7,459\n",
      "\n",
      "            tabulation:  Freq.   Numeric  Label\n",
      "                           532        -9  lost to follow-up in the\n",
      "                                          2011/2012 survey\n",
      "                         4,178        -8  died or lost to follow-up in\n",
      "                                          previous waves\n",
      "                         1,678         0  surviving at the 2011/2012\n",
      "                                          survey\n",
      "                         1,071         1  died before the 2011/2012 survey\n",
      "\n",
      "--------------------------------------------------------------------------------\n",
      "dth11_14                               status of survival, death, or lost to\n",
      "                                       follow-up from 2011/2012 to 2014 waves\n",
      "--------------------------------------------------------------------------------\n",
      "\n",
      "                  type:  numeric (byte)\n",
      "                 label:  dth11_14\n",
      "\n",
      "                 range:  [-9,1]                       units:  1\n",
      "         unique values:  4                        missing .:  0/7,459\n",
      "\n",
      "            tabulation:  Freq.   Numeric  Label\n",
      "                           100        -9  lost to follow-up in the 2014\n",
      "                                          survey\n",
      "                         5,781        -8  died or lost to follow-up in\n",
      "                                          previous waves\n",
      "                         1,110         0  surviving at the 2014 survey\n",
      "                           468         1  died before the 2014 survey\n"
     ]
    }
   ],
   "source": [
    "/************************************* (2) Check the actual values of death date variables, against the codebook for those variables *************************************/\n",
    "foreach var in d8vyear d11vyear d14vyear d8vmonth d11vmonth d14vmonth d8vday d11vday d14vday dth05_08 dth08_11 dth11_14 {\n",
    "    codebook `var'\n",
    "}\n",
    "// codebook on death variables\n",
    "\n",
    "// validated death year\n",
    "* d8vyear, d11vyear, d14vyear: validated year of death*/\n",
    "* -9: lost to follow up in the 2005/2008/2011/2014 survey*\n",
    "* -8: died or lost to follow-up in previous waves*\n",
    "* -7: it is for the deceased persons, not applicable for survivors*\n",
    "* .: missing*/\n",
    "\n",
    "// validated death month\n",
    "* d8vmonth, d11vmonth, d14vmonth: validated month of death*/\n",
    "* -9: lost to follow-up in the 2005/08/11/14 survey*/\n",
    "* -8: died or lost to follow-up in previous waves*/\n",
    "* -7: it is for the deceased persons, not applicable for survivors*/\n",
    "* .: missing*/\n",
    "\n",
    "// validated death day\n",
    "* d8vday, d11vday, d14vday: validated day of death*/\n",
    "* -9: lost to follow-up in the 2002/05/08/11/14 survey*/ \n",
    "* -8: died or lost to follow-up in previous waves*/\n",
    "* -7: it is for the deceased persons, not applicable for survivors*/\n",
    "* .: missing*/\n",
    "\n",
    "// survival status\n",
    "* dth05_08, dth08_11, dth11_14: status of survival, death, or lost to follow-up from 2002-2005/2005-2008/2008-2011/2011-2014 waves*/\n",
    "* dth**_##:\n",
    "* -9: lost to follow-up at the ## survey;\n",
    "* -8: died or lost to follow-up in previous waves;\n",
    "* 0: surviving at the ## survey;\n",
    "* 1: died before the ## survey"
   ]
  },
  {
   "cell_type": "code",
   "execution_count": 6,
   "metadata": {},
   "outputs": [
    {
     "name": "stdout",
     "output_type": "stream",
     "text": [
      "\n",
      "\n",
      "\n",
      "\n",
      "\n",
      "\n",
      "\n",
      "  status of |\n",
      "  survival, |\n",
      "  death, or |\n",
      "    lost to |\n",
      "  follow-up |\n",
      "   from the |\n",
      "    2005 to |\n",
      " 2008 waves |      Freq.     Percent        Cum.\n",
      "------------+-----------------------------------\n",
      "          0 |      3,281      100.00      100.00\n",
      "------------+-----------------------------------\n",
      "      Total |      3,281      100.00\n",
      "\n",
      "  status of |\n",
      "  survival, |\n",
      "  death, or |\n",
      "    lost to |\n",
      "  follow-up |\n",
      "   from the |\n",
      "    2005 to |\n",
      " 2008 waves |      Freq.     Percent        Cum.\n",
      "------------+-----------------------------------\n",
      "         -9 |      1,472       35.23       35.23\n",
      "          1 |      2,706       64.77      100.00\n",
      "------------+-----------------------------------\n",
      "      Total |      4,178      100.00\n",
      "\n",
      "  status of |\n",
      "  survival, |\n",
      "  death, or |\n",
      "    lost to |\n",
      "  follow-up |\n",
      "  from 2008 |\n",
      "    to 2011 |\n",
      "      waves |      Freq.     Percent        Cum.\n",
      "------------+-----------------------------------\n",
      "          0 |      1,678      100.00      100.00\n",
      "------------+-----------------------------------\n",
      "      Total |      1,678      100.00\n",
      "\n",
      "  status of |\n",
      "  survival, |\n",
      "  death, or |\n",
      "    lost to |\n",
      "  follow-up |\n",
      "  from 2008 |\n",
      "    to 2011 |\n",
      "      waves |      Freq.     Percent        Cum.\n",
      "------------+-----------------------------------\n",
      "         -9 |        532        9.20        9.20\n",
      "         -8 |      4,178       72.27       81.47\n",
      "          1 |      1,071       18.53      100.00\n",
      "------------+-----------------------------------\n",
      "      Total |      5,781      100.00\n",
      "\n"
     ]
    }
   ],
   "source": [
    "/************************************* (3) Check whether there are logical input mistakes between death status for different waves *************************************/\n",
    "// check whether there are logical mistakes for dth**_##\n",
    "* If the current death status is -9/0/1, the previous one can only be 0;\n",
    "* if the current death status is -8, then the previous can only be -8,-9 and 1.\n",
    "preserve\n",
    "rename dth05_08 dth4\n",
    "rename dth08_11 dth5\n",
    "rename dth11_14 dth6\n",
    "label drop _all\n",
    "forv i = 4/5 {\n",
    "    local j = `i' + 1\n",
    "    tab dth`i' if dth`j' == -9 | dth`j' == 0 | dth`j' == 1, missing //0\n",
    "    tab dth`i' if dth`j' == -8, missing //-8, -9, 1\n",
    "}\n",
    "restore"
   ]
  },
  {
   "cell_type": "code",
   "execution_count": 7,
   "metadata": {},
   "outputs": [],
   "source": [
    "*****************************create work.dta, which has changed the death status according results above, and renanme dth**_##***********\n",
    "rename dth05_08 dth8\n",
    "rename dth08_11 dth11\n",
    "rename dth11_14 dth14"
   ]
  },
  {
   "cell_type": "code",
   "execution_count": 8,
   "metadata": {},
   "outputs": [
    {
     "name": "stdout",
     "output_type": "stream",
     "text": [
      "\n",
      "\n",
      "\n",
      "\n",
      "\n",
      "\n",
      "file F:\\Box Sync\\Archives2020LLY\\Zhengting\\Duke Kunshan University Intern (zh133\n",
      "> @duke.edu)\\4 healthy aging-CLHLS\\Group meeting coordination\\survival time/inte\n",
      "> r data/work.dta saved\n"
     ]
    }
   ],
   "source": [
    "global waves \"8 11 14\"                                                        //******need to be changed\n",
    "global year1 \"2005 2006 2007 2009 2010 2011 2013 2014\"\n",
    "global year2 \"2008 2012\"\n",
    "global months \"4 6 9 11\"\n",
    "global wavein \"in5 in8 in11 in14\"\n",
    "save \"${INTER}/work.dta\", replace"
   ]
  },
  {
   "cell_type": "code",
   "execution_count": 9,
   "metadata": {},
   "outputs": [
    {
     "name": "stdout",
     "output_type": "stream",
     "text": [
      "\n",
      "(d8vday: 3 changes made)\n",
      "(d8vmonth: 3 changes made)\n",
      "(d8vyear: 3 changes made)\n",
      "(2,703 real changes made)\n",
      "(2,486 real changes made)\n",
      "(2,628 real changes made)\n",
      "(d11vday: 23 changes made)\n",
      "(d11vmonth: 0 changes made)\n",
      "(d11vyear: 0 changes made)\n",
      "(1,071 real changes made)\n",
      "(963 real changes made)\n",
      "(1,006 real changes made)\n",
      "(d14vday: 7004 changes made)\n",
      "(d14vmonth: 6991 changes made)\n",
      "(d14vyear: 7002 changes made)\n",
      "(457 real changes made)\n",
      "(407 real changes made)\n",
      "(437 real changes made)\n",
      "\n",
      "\n",
      "(note: file F:\\Box Sync\\Archives2020LLY\\Zhengting\\Duke Kunshan University Intern\n",
      ">  (zh133@duke.edu)\\4 healthy aging-CLHLS\\Group meeting coordination\\survival ti\n",
      "> me/inter data/work1.dta not found)\n",
      "file F:\\Box Sync\\Archives2020LLY\\Zhengting\\Duke Kunshan University Intern (zh133\n",
      "> @duke.edu)\\4 healthy aging-CLHLS\\Group meeting coordination\\survival time/inte\n",
      "> r data/work1.dta saved\n"
     ]
    }
   ],
   "source": [
    "/************************************* (4) Check whether there are logical input mistakes between death status and the verified death year, month, day *************************************/\n",
    "// check whether there are logical mistakes between d*vyear d*vmonth d*vday dth**_##\n",
    "foreach i of global waves {\n",
    "    // unify missing value to \"99\"\n",
    "    recode d`i'vday(. 88=99) \n",
    "    recode d`i'vmonth(. 88=99)\n",
    "    recode d`i'vyear(. 8888 9999=99)  //no 88 for all the 4 vars\n",
    "    \n",
    "    replace d`i'vyear = 1 if d`i'vyear > 1997 & d`i'vyear < 2020\n",
    "    replace d`i'vmonth = 1 if d`i'vmonth > 0 & d`i'vmonth < 13\n",
    "    replace d`i'vday = 1 if d`i'vday > 0 & d`i'vday < 32\n",
    "    \n",
    "    bys d`i'vyear: gen fre`i'_year = _N\n",
    "    bys d`i'vmonth: gen fre`i'_month = _N\n",
    "    bys d`i'vday: gen fre`i'_day = _N\n",
    "    bys dth`i': gen fre`i'_dth = _N\n",
    "}\n",
    "label drop _all\n",
    "save \"${INTER}/work1.dta\", replace"
   ]
  },
  {
   "cell_type": "code",
   "execution_count": 10,
   "metadata": {},
   "outputs": [
    {
     "name": "stdout",
     "output_type": "stream",
     "text": [
      "\n",
      "\n",
      "Duplicates in terms of d8vyear d8vmonth d8vday dth8\n",
      "\n",
      "(7,455 observations deleted)\n",
      "(note: file F:\\Box Sync\\Archives2020LLY\\Zhengting\\Duke Kunshan University Intern\n",
      ">  (zh133@duke.edu)\\4 healthy aging-CLHLS\\Group meeting coordination\\survival ti\n",
      "> me/inter data/wave8.dta not found)\n",
      "file F:\\Box Sync\\Archives2020LLY\\Zhengting\\Duke Kunshan University Intern (zh133\n",
      "> @duke.edu)\\4 healthy aging-CLHLS\\Group meeting coordination\\survival time/inte\n",
      "> r data/wave8.dta saved\n",
      "\n",
      "Duplicates in terms of d11vyear d11vmonth d11vday dth11\n",
      "\n",
      "(7,454 observations deleted)\n",
      "(note: file F:\\Box Sync\\Archives2020LLY\\Zhengting\\Duke Kunshan University Intern\n",
      ">  (zh133@duke.edu)\\4 healthy aging-CLHLS\\Group meeting coordination\\survival ti\n",
      "> me/inter data/wave11.dta not found)\n",
      "file F:\\Box Sync\\Archives2020LLY\\Zhengting\\Duke Kunshan University Intern (zh133\n",
      "> @duke.edu)\\4 healthy aging-CLHLS\\Group meeting coordination\\survival time/inte\n",
      "> r data/wave11.dta saved\n",
      "\n",
      "Duplicates in terms of d14vyear d14vmonth d14vday dth14\n",
      "\n",
      "(7,452 observations deleted)\n",
      "(note: file F:\\Box Sync\\Archives2020LLY\\Zhengting\\Duke Kunshan University Intern\n",
      ">  (zh133@duke.edu)\\4 healthy aging-CLHLS\\Group meeting coordination\\survival ti\n",
      "> me/inter data/wave14.dta not found)\n",
      "file F:\\Box Sync\\Archives2020LLY\\Zhengting\\Duke Kunshan University Intern (zh133\n",
      "> @duke.edu)\\4 healthy aging-CLHLS\\Group meeting coordination\\survival time/inte\n",
      "> r data/wave14.dta saved\n",
      "\n",
      "\n"
     ]
    }
   ],
   "source": [
    "foreach i of global waves {\n",
    "    keep d`i'vyear d`i'vmonth d`i'vday dth`i' fre`i'_year fre`i'_month fre`i'_day fre`i'_dth \n",
    "    duplicates drop d`i'vyear d`i'vmonth d`i'vday dth`i', force \n",
    "    save \"${INTER}/wave`i'.dta\", replace\n",
    "    use \"${INTER}/work1.dta\", clear\n",
    "}\n",
    "use \"${INTER}/wave14.dta\",clear\n",
    "append using \"${INTER}/wave8.dta\" \"${INTER}/wave11.dta\""
   ]
  },
  {
   "cell_type": "code",
   "execution_count": 11,
   "metadata": {},
   "outputs": [],
   "source": [
    "browse"
   ]
  },
  {
   "cell_type": "code",
   "execution_count": 12,
   "metadata": {},
   "outputs": [],
   "source": [
    "/* The results show that, in wave0-wave11, -9, -8, 0/-7(alive) have completely the same freq, \n",
    "all missing values in d*vyear/month/day occur only when dth*=1(died). Only in wave14, all is missing in d14vyear/month/day when dth14=-9/-8/0. \n",
    "There is no logical mistakes between the 4 vars.*/"
   ]
  },
  {
   "cell_type": "code",
   "execution_count": 13,
   "metadata": {},
   "outputs": [
    {
     "name": "stdout",
     "output_type": "stream",
     "text": [
      "\n",
      "\n",
      "\n",
      "  status of |\n",
      "  survival, |\n",
      "  death, or |\n",
      "    lost to |\n",
      "  follow-up |\n",
      "   from the |\n",
      "    2005 to |\n",
      " 2008 waves |      Freq.     Percent        Cum.\n",
      "------------+-----------------------------------\n",
      "         -9 |      1,472       19.73       19.73\n",
      "          0 |      3,281       43.99       63.72\n",
      "          1 |      2,706       36.28      100.00\n",
      "------------+-----------------------------------\n",
      "      Total |      7,459      100.00\n",
      "\n",
      "  status of |\n",
      "  survival, |\n",
      "  death, or |\n",
      "    lost to |\n",
      "  follow-up |\n",
      "  from 2008 |\n",
      "    to 2011 |\n",
      "      waves |      Freq.     Percent        Cum.\n",
      "------------+-----------------------------------\n",
      "         -9 |        532       16.21       16.21\n",
      "          0 |      1,678       51.14       67.36\n",
      "          1 |      1,071       32.64      100.00\n",
      "------------+-----------------------------------\n",
      "      Total |      3,281      100.00\n",
      "\n",
      "  status of |\n",
      "  survival, |\n",
      "  death, or |\n",
      "    lost to |\n",
      "  follow-up |\n",
      "       from |\n",
      "  2011/2012 |\n",
      "    to 2014 |\n",
      "      waves |      Freq.     Percent        Cum.\n",
      "------------+-----------------------------------\n",
      "         -9 |        100        5.96        5.96\n",
      "          0 |      1,110       66.15       72.11\n",
      "          1 |        468       27.89      100.00\n",
      "------------+-----------------------------------\n",
      "      Total |      1,678      100.00\n"
     ]
    }
   ],
   "source": [
    "// tabulate the lost,died and alive number for each wave\n",
    "use \"${INTER}/work1.dta\",clear\n",
    "foreach i of global waves{\n",
    "    tabulate dth`i' if dth`i' != -8\n",
    "}"
   ]
  },
  {
   "cell_type": "code",
   "execution_count": 14,
   "metadata": {},
   "outputs": [],
   "source": [
    "foreach i of global waves{\n",
    "    erase \"${INTER}/wave`i'.dta\"\n",
    "}\n",
    "erase \"${INTER}/work1.dta\""
   ]
  },
  {
   "cell_type": "code",
   "execution_count": 15,
   "metadata": {},
   "outputs": [
    {
     "name": "stdout",
     "output_type": "stream",
     "text": [
      "\n",
      "\n",
      "(d8vday: 3 changes made)\n",
      "(d8vmonth: 3 changes made)\n",
      "(d8vyear: 3 changes made)\n",
      "(d11vday: 23 changes made)\n",
      "(d11vmonth: 0 changes made)\n",
      "(d11vyear: 0 changes made)\n",
      "(d14vday: 7004 changes made)\n",
      "(d14vmonth: 6991 changes made)\n",
      "(d14vyear: 7002 changes made)\n"
     ]
    }
   ],
   "source": [
    "/********************************************************************************************************************/\n",
    "/************************************* II. Replacement of NA and input mistakes *************************************/\n",
    "/********************************************************************************************************************/\n",
    "\n",
    "use \"${INTER}/work.dta\", clear\n",
    "/*change all . to 99 for month&day, . to 9999 for year*/\n",
    "foreach a of global waves {\n",
    "    recode d`a'vday (. = 99) \n",
    "    recode d`a'vmonth (. = 99)\n",
    "    recode d`a'vyear (. = 9999)\n",
    "}"
   ]
  },
  {
   "cell_type": "code",
   "execution_count": 16,
   "metadata": {},
   "outputs": [
    {
     "name": "stdout",
     "output_type": "stream",
     "text": [
      "\n",
      "year9899 not found\n",
      "\n",
      "day_0 not found\n",
      "\n",
      "day02 not found\n",
      "\n",
      "(2 missing values generated)\n",
      "\n",
      "(4,178 missing values generated)\n",
      "\n",
      "(5,781 missing values generated)\n",
      "\n",
      "(6,349 missing values generated)\n"
     ]
    }
   ],
   "source": [
    "****calculate the mid-point between the last interview date of the previous wave and the first interview date of the next wave\n",
    "capture noisily gen in98 = mdy(month98, date98, year9899)                            \n",
    "capture noisily gen in0 = mdy(month_0, day_0, 2000)\n",
    "capture noisily gen in2 = mdy(month02, day02, 2002)\n",
    "capture noisily gen in5 = mdy(monthin, dayin, 2005)\n",
    "capture noisily gen in8 = mdy(month_8, day_8, year_8)\n",
    "gen in11 = mdy(monthin_11, dayin_11, yearin_11)\n",
    "gen in14 = mdy(monthin_14, dayin_14, yearin_14) "
   ]
  },
  {
   "cell_type": "code",
   "execution_count": 17,
   "metadata": {},
   "outputs": [],
   "source": [
    "forv i=1/3 {                                              \n",
    "    local wavein2 = word(\"$wavein\", `i')\n",
    "         egen min_`wavein2' = min(`wavein2')\n",
    "         egen max_`wavein2' = max(`wavein2')\n",
    "    local j = `i'+1\n",
    "    local wavein3 = word(\"$wavein\", `j')\n",
    "         egen min_`wavein3' = min(`wavein3')\n",
    "         egen max_`wavein3' = max(`wavein3')\n",
    "    gen mid_`wavein2'_`wavein3' = (max_`wavein2' + min_`wavein3')/2\n",
    "    gen midyear_`wavein2'_`wavein3' = year(mid_`wavein2'_`wavein3')\n",
    "    gen midmonth_`wavein2'_`wavein3' = month(mid_`wavein2'_`wavein3')\n",
    "    gen midday_`wavein2'_`wavein3' = day(mid_`wavein2'_`wavein3')\n",
    "drop min_`wavein3' max_`wavein3'\n",
    "}"
   ]
  },
  {
   "cell_type": "code",
   "execution_count": 18,
   "metadata": {},
   "outputs": [
    {
     "name": "stdout",
     "output_type": "stream",
     "text": [
      "\n",
      "\n",
      "(3 real changes made)\n",
      "(3 real changes made)\n",
      "(3 real changes made)\n",
      "(d8vday: 0 changes made)\n",
      "(d8vmonth: 0 changes made)\n",
      "(26 real changes made)\n",
      "(0 real changes made)\n",
      "(0 real changes made)\n",
      "(d11vday: 0 changes made)\n",
      "(d11vmonth: 0 changes made)\n",
      "(13 real changes made)\n",
      "(0 real changes made)\n",
      "(11 real changes made)\n",
      "(d14vday: 0 changes made)\n",
      "(d14vmonth: 0 changes made)\n"
     ]
    }
   ],
   "source": [
    "/************************************* (5) Replacement of the missing death date according to Rule 1 *************************************/\n",
    "* Rule 1:\n",
    "* For the three variables, year, month, and day:\n",
    "* a. if only month is missing, the month is assumed to be July;\n",
    "* b. if only day is missing, the day is assumed to be 15;\n",
    "* c. for the rest of all the scenarios, the year/month/day is assumed to be that of the mid-point between the last interview date of the previous wave and\n",
    "* the first interview date of the next wave. (these scenarios inc, all the three variables are missing, or any two variables are missing, or only year is\n",
    "* missing.)\n",
    "local j = 1\n",
    "foreach i of global waves { \n",
    "    local inid = word(\"$wavein\",`j')\n",
    "        replace d`i'vday = midday_`inid'_in`i' if d`i'vday == 99 & dth`i' == 1\n",
    "        replace d`i'vmonth = midmonth_`inid'_in`i' if d`i'vmonth == 99 & dth`i' == 1\n",
    "        replace d`i'vyear = midyear_`inid'_in`i' if d`i'vyear == 9999 & dth`i' == 1\n",
    "      \n",
    "        recode d`i'vday (99 = 15) if d`i'vmonth != 99 & d`i'vyear != 9999 & dth`i' == 1 \n",
    "        recode d`i'vmonth (99 = 7) if d`i'vday != 99 & d`i'vyear != 9999 & dth`i' == 1 \n",
    "    \n",
    "    local j = `j'+1\n",
    "}"
   ]
  },
  {
   "cell_type": "code",
   "execution_count": 19,
   "metadata": {},
   "outputs": [
    {
     "name": "stdout",
     "output_type": "stream",
     "text": [
      "\n",
      "(d8vday: 0 changes made)\n",
      "(d8vday: 0 changes made)\n",
      "(d8vday: 0 changes made)\n",
      "(d8vday: 0 changes made)\n",
      "(d8vday: 0 changes made)\n",
      "(d8vday: 0 changes made)\n",
      "(d8vday: 0 changes made)\n",
      "(d8vday: 0 changes made)\n",
      "(d8vday: 0 changes made)\n",
      "(d8vday: 0 changes made)\n",
      "(d8vday: 0 changes made)\n",
      "(d8vday: 0 changes made)\n",
      "(d8vday: 0 changes made)\n",
      "(d8vday: 0 changes made)\n",
      "(d11vday: 0 changes made)\n",
      "(d11vday: 0 changes made)\n",
      "(d11vday: 0 changes made)\n",
      "(d11vday: 2 changes made)\n",
      "(d11vday: 0 changes made)\n",
      "(d11vday: 0 changes made)\n",
      "(d11vday: 0 changes made)\n",
      "(d11vday: 0 changes made)\n",
      "(d11vday: 0 changes made)\n",
      "(d11vday: 0 changes made)\n",
      "(d11vday: 1 changes made)\n",
      "(d11vday: 3 changes made)\n",
      "(d11vday: 8 changes made)\n",
      "(d11vday: 4 changes made)\n",
      "(d14vday: 0 changes made)\n",
      "(d14vday: 0 changes made)\n",
      "(d14vday: 0 changes made)\n",
      "(d14vday: 0 changes made)\n",
      "(d14vday: 0 changes made)\n",
      "(d14vday: 0 changes made)\n",
      "(d14vday: 0 changes made)\n",
      "(d14vday: 0 changes made)\n",
      "(d14vday: 0 changes made)\n",
      "(d14vday: 0 changes made)\n",
      "(d14vday: 0 changes made)\n",
      "(d14vday: 0 changes made)\n",
      "(d14vday: 0 changes made)\n",
      "(d14vday: 0 changes made)\n"
     ]
    }
   ],
   "source": [
    "/************************************* (6) Modify input mistakes of death date according to Rule 2 *************************************/\n",
    "* Rule 2:\n",
    "* a. change day 29/max of Feb to 28 for years 99, 01, 02, 03, 05, 06, 07, 09, 10, 11, 13, 14 (non-leap year);\n",
    "* b. change day 30/max of Feb to 29 for years 00, 04, 08, 12 (leap year);\n",
    "* c. change day 31 to 30 for months 4, 6, 9, 11\n",
    "foreach i of global waves{\n",
    "    foreach year of global year1{\n",
    "        recode d`i'vday (29/max=28) if d`i'vyear == `year' & d`i'vmonth == 2\n",
    "    }\n",
    "    foreach year of global year2{\n",
    "        recode d`i'vday (30/max=29) if d`i'vyear == `year' & d`i'vmonth == 2\n",
    "    }\n",
    "    foreach month of global months{\n",
    "        recode d`i'vday (31=30) if d`i'vmonth == `month'\n",
    "    }\n",
    "}"
   ]
  },
  {
   "cell_type": "code",
   "execution_count": 20,
   "metadata": {},
   "outputs": [
    {
     "name": "stdout",
     "output_type": "stream",
     "text": [
      "\n",
      "\n",
      "--------------------------------------------------------------------------------\n",
      "dayin                                                  day of the 2005 interview\n",
      "--------------------------------------------------------------------------------\n",
      "\n",
      "                  type:  numeric (byte)\n",
      "\n",
      "                 range:  [1,31]                       units:  1\n",
      "         unique values:  31                       missing .:  0/7,459\n",
      "\n",
      "                  mean:   15.1337\n",
      "              std. dev:   9.20308\n",
      "\n",
      "           percentiles:        10%       25%       50%       75%       90%\n",
      "                                 3         6        16        23        28\n",
      "\n",
      "\n",
      "--------------------------------------------------------------------------------\n",
      "monthin                                              month of the 2005 interview\n",
      "--------------------------------------------------------------------------------\n",
      "\n",
      "                  type:  numeric (byte)\n",
      "\n",
      "                 range:  [3,10]                       units:  1\n",
      "         unique values:  8                        missing .:  0/7,459\n",
      "\n",
      "            tabulation:  Freq.  Value\n",
      "                            19  3\n",
      "                         1,515  4\n",
      "                         2,787  5\n",
      "                           917  6\n",
      "                           590  7\n",
      "                           257  8\n",
      "                           626  9\n",
      "                           748  10\n"
     ]
    }
   ],
   "source": [
    "/****************************************************************************************************************************************/\n",
    "/************************************* III. calculating survival time, censor and lost to follow-up *************************************/\n",
    "/****************************************************************************************************************************************/\n",
    "\n",
    "/************************************* (7) Replacement of the missing interview baseline date according to Rule 3 *************************************/\n",
    "* Rule 3:\n",
    "* a. if only the interview day is missing, then the day is assumed to be 15th\n",
    "* b. if both month and day are missing and the year isn't missing, or only the month is missing, the month/day is assumed to be that of the mid-point between the earliest interview date\n",
    "* and the latest interiew date of that year\n",
    "* c. no interview year is missing\n",
    "\n",
    "codebook dayin    // no missing interview day\n",
    "codebook monthin  // no missing interview month"
   ]
  },
  {
   "cell_type": "code",
   "execution_count": 21,
   "metadata": {},
   "outputs": [
    {
     "name": "stdout",
     "output_type": "stream",
     "text": [
      "\n",
      "(dayin: 0 changes made)\n",
      "\n",
      "(dayin: 0 changes made)\n",
      "(dayin: 1 changes made)\n",
      "(dayin: 1 changes made)\n",
      "(dayin: 0 changes made)\n"
     ]
    }
   ],
   "source": [
    "/************************************* (8) Modify input mistakes of interview baseline date according to Rule 2 *************************************/\n",
    "* Rule 2:\n",
    "* a. change day 29/max of Feb to 28 for years 99, 01, 02, 03, 05, 06, 07, 09, 10, 11, 13, 14 (non-leap year);\n",
    "* b. change day 30/max of Feb to 29 for years 00, 04, 08, 12 (leap year);\n",
    "* c. change day 31 to 30 for months 4, 6, 9, 11\n",
    "recode dayin (29/max=28) if monthin == 2\n",
    "\n",
    "foreach month of global months{\n",
    "    recode dayin (31=30) if monthin == `month'\n",
    "}"
   ]
  },
  {
   "cell_type": "code",
   "execution_count": 22,
   "metadata": {},
   "outputs": [],
   "source": [
    "****set interview baseline\n",
    "**codebook on interview date variables\n",
    "* datein: day of interview of the 2005 survey; 1~31, 99=missing\n",
    "* monthin: month of the interview of the 2005 survey*; 1~12, 99=missing\n",
    "gen interview_baseline = mdy(monthin, dayin, 2005)                                  //******need to be changed      "
   ]
  },
  {
   "cell_type": "code",
   "execution_count": 23,
   "metadata": {},
   "outputs": [
    {
     "name": "stdout",
     "output_type": "stream",
     "text": [
      "\n",
      "(7,459 missing values generated)\n",
      "\n",
      "(7,459 missing values generated)\n",
      "\n",
      "(7,459 missing values generated)\n",
      "\n",
      "(7,459 missing values generated)\n",
      "\n",
      "(7,459 missing values generated)\n"
     ]
    }
   ],
   "source": [
    "/************************************* (9) Calculate survival time for each person according to Rule 4 *************************************/\n",
    "* Rule 4:\n",
    "* Generate two different survival time (**for data sets with suffix_14**):\n",
    "\n",
    "* One is `survival_bas', from interview baseline to death or censored, **up to 2014 wave**.\n",
    "* a. For those died in the study: survival time = death date - interview date at baseline;\n",
    "* b. For those lost in the study: survival time = the mid-point of the two adjacent waves - interview date at baseline;\n",
    "* (the mid-point of the two adjacent waves is generated according to Rule 1)\n",
    "* c. For those still alive at the end of the study: survival time = interview date in the last wave - interview date at baseline;\n",
    "* d. If survival_bas < 0, change survival time to 0.\n",
    "\n",
    "* Another one is `survival_bth', from birth to death or censored, **up to 2014 wave**.\n",
    "* e. survival_bth = survival_bas + verified age (*trueage*)\n",
    "\n",
    "* Variables for death/lost status\n",
    "* `censor' is coded as: 1 = died, 0 = not died (alive or lost);\n",
    "* `lost' is coed as: 1 = lost, . = not lost\n",
    "\n",
    "* gen survival_bas,means the years from baseline to death or censored\n",
    "* generate dthyear/month/day, means the exact death year/month/day of those who died during the whole period (2000-2014)\n",
    "* gen lostdate, means the lost date for those lost in the survey, and equals to the mid-point of last day of the previous interview and the first day of the next one\n",
    "\n",
    "gen dthyear = .\n",
    "gen dthmonth = .\n",
    "gen dthday = .\n",
    "gen lostdate = .\n",
    "gen survival_bas = ."
   ]
  },
  {
   "cell_type": "code",
   "execution_count": 24,
   "metadata": {},
   "outputs": [
    {
     "name": "stdout",
     "output_type": "stream",
     "text": [
      "\n",
      "\n",
      "(2,706 real changes made)\n",
      "(2,706 real changes made)\n",
      "(2,706 real changes made)\n",
      "(1,472 real changes made)\n",
      "(1,071 real changes made)\n",
      "(1,071 real changes made)\n",
      "(1,071 real changes made)\n",
      "(532 real changes made)\n",
      "(468 real changes made)\n",
      "(468 real changes made)\n",
      "(468 real changes made)\n",
      "(100 real changes made)\n"
     ]
    }
   ],
   "source": [
    "local j=1\n",
    "foreach i of global waves {\n",
    "    replace dthyear = d`i'vyear if d`i'vyear > 0 & d`i'vyear < 2020\n",
    "    replace dthmonth = d`i'vmonth if d`i'vmonth > 0 & d`i'vmonth < 13\n",
    "    replace dthday = d`i'vday if d`i'vday > 0 & d`i'vday < 32\n",
    "local inid = word(\"$wavein\", `j')\n",
    "    replace lostdate = mdy(midmonth_`inid'_in`i', midday_`inid'_in`i', midyear_`inid'_in`i') if dth`i' == -9\n",
    "local j = `j' + 1\n",
    "}"
   ]
  },
  {
   "cell_type": "code",
   "execution_count": 25,
   "metadata": {},
   "outputs": [
    {
     "name": "stdout",
     "output_type": "stream",
     "text": [
      "\n",
      "(3,214 missing values generated)\n",
      "\n",
      "(4,245 real changes made)\n",
      "\n",
      "\n",
      "(4,245 real changes made)\n"
     ]
    }
   ],
   "source": [
    "gen dthdate = mdy(dthmonth, dthday, dthyear)\n",
    "replace survival_bas = (dthdate - interview_baseline)/365.25\n",
    "gen censor = 0\n",
    "replace censor = 1 if survival_bas != .  //generate censor=1 if die, censor=0 if survived until end of the wave or lost to follow"
   ]
  },
  {
   "cell_type": "code",
   "execution_count": 26,
   "metadata": {},
   "outputs": [
    {
     "name": "stdout",
     "output_type": "stream",
     "text": [
      "\n",
      "(2,104 real changes made)\n",
      "\n",
      "\n",
      "(5,355 real changes made, 5,355 to missing)\n"
     ]
    }
   ],
   "source": [
    "replace survival_bas = (lostdate - interview_baseline)/365.25 if lostdate != .\n",
    "gen lost = 1\n",
    "replace lost = . if lostdate == ."
   ]
  },
  {
   "cell_type": "code",
   "execution_count": 27,
   "metadata": {},
   "outputs": [
    {
     "name": "stdout",
     "output_type": "stream",
     "text": [
      "\n",
      "(6,349 missing values generated)\n",
      "\n",
      "(1,110 real changes made)\n"
     ]
    }
   ],
   "source": [
    "gen interview2014 = mdy(monthin_14, dayin_14, yearin_14) if dth14 == 0\n",
    "replace survival_bas = (interview2014 - interview_baseline)/365.25 if interview2014 != ."
   ]
  },
  {
   "cell_type": "code",
   "execution_count": 28,
   "metadata": {},
   "outputs": [
    {
     "name": "stdout",
     "output_type": "stream",
     "text": [
      "\n",
      "\n",
      "    Variable |        Obs        Mean    Std. Dev.       Min        Max\n",
      "-------------+---------------------------------------------------------\n",
      "survival_bas |      7,459    3.747085    2.886631  -.5968515   9.492129\n",
      "\n",
      "(25 real changes made)\n",
      "\n",
      "\n",
      "\n"
     ]
    }
   ],
   "source": [
    "**************replace the survival time to 0 for those whose survival was negative\n",
    "sum survival_bas\n",
    "* gen survival_bth,means the years from birth to death or censored\n",
    "replace survival_bas = 0 if survival_bas < 0  \n",
    "* gen survival_bth,means the years from birth to death or censored\n",
    "gen survival_bth = survival_bas + trueage                                                            \n",
    "erase \"${INTER}/work.dta\"\n",
    "macro drop _all"
   ]
  },
  {
   "cell_type": "code",
   "execution_count": 32,
   "metadata": {},
   "outputs": [
    {
     "name": "stdout",
     "output_type": "stream",
     "text": [
      "(note: variable id was long, now double to accommodate using data's values)\n",
      "\n",
      "    Result                           # of obs.\n",
      "    -----------------------------------------\n",
      "    not matched                        12,431\n",
      "        from master                     6,349  (_merge==1)\n",
      "        from using                      6,082  (_merge==2)\n",
      "\n",
      "    matched                             1,110  (_merge==3)\n",
      "    -----------------------------------------\n"
     ]
    }
   ],
   "source": [
    "/************************************* (10) calc survival time to 2018 *************************************/\n",
    "\n",
    "merge 1:1 id using \"${OUT}/dat14_18surtime.dta\", keepus(id survival_bas14_18 survival_bth14_18 censor14_18 lost14_18) nolabel //47, 96, 1110, 821 merged for dat98/00/05/11_14"
   ]
  },
  {
   "cell_type": "code",
   "execution_count": 33,
   "metadata": {},
   "outputs": [],
   "source": [
    "ren (survival_bas survival_bth lost censor) (survival_bas05_14 survival_bth05_14 lost05_14 censor05_14)"
   ]
  },
  {
   "cell_type": "code",
   "execution_count": 34,
   "metadata": {},
   "outputs": [
    {
     "name": "stdout",
     "output_type": "stream",
     "text": [
      "\n",
      "(6,082 missing values generated)\n",
      "\n",
      "(1,110 real changes made)\n",
      "\n"
     ]
    }
   ],
   "source": [
    "gen survival_bas05_18 = survival_bas05_14\n",
    "replace survival_bas05_18 = survival_bas05_14 + survival_bas14_18 if censor05_14 == 0 & _merge == 3  //1538 replaced, one died in 2011.6.30, but was recorded as missing in d18vyear/month/day, so no need to be changed\n",
    "preserve"
   ]
  },
  {
   "cell_type": "code",
   "execution_count": 35,
   "metadata": {},
   "outputs": [
    {
     "name": "stdout",
     "output_type": "stream",
     "text": [
      "\n",
      "(6,082 missing values generated)\n",
      "\n",
      "(1,110 real changes made)\n"
     ]
    }
   ],
   "source": [
    "gen survival_bth05_18 = survival_bth05_14\n",
    "replace survival_bth05_18 = survival_bth05_14 + survival_bas14_18 if censor05_14 == 0 & _merge == 3"
   ]
  },
  {
   "cell_type": "code",
   "execution_count": 36,
   "metadata": {},
   "outputs": [
    {
     "name": "stdout",
     "output_type": "stream",
     "text": [
      "\n",
      "(6,082 missing values generated)\n",
      "\n",
      "(282 real changes made)\n"
     ]
    }
   ],
   "source": [
    "gen censor05_18 = censor05_14\n",
    "replace censor05_18 = censor14_18 if _merge == 3"
   ]
  },
  {
   "cell_type": "code",
   "execution_count": 37,
   "metadata": {},
   "outputs": [
    {
     "name": "stdout",
     "output_type": "stream",
     "text": [
      "\n",
      "(11,437 missing values generated)\n",
      "\n",
      "(288 real changes made)\n"
     ]
    }
   ],
   "source": [
    "gen lost05_18 = lost05_14\n",
    "replace lost05_18 = lost14_18 if _merge==3"
   ]
  },
  {
   "cell_type": "code",
   "execution_count": 38,
   "metadata": {},
   "outputs": [
    {
     "name": "stdout",
     "output_type": "stream",
     "text": [
      "\n",
      "(6,082 observations deleted)\n",
      "\n"
     ]
    }
   ],
   "source": [
    "drop if _merge==2\n",
    "drop _merge"
   ]
  },
  {
   "cell_type": "code",
   "execution_count": 39,
   "metadata": {},
   "outputs": [
    {
     "name": "stdout",
     "output_type": "stream",
     "text": [
      "file F:\\Box Sync\\Archives2020LLY\\Zhengting\\Duke Kunshan University Intern (zh133\n",
      "> @duke.edu)\\4 healthy aging-CLHLS\\Group meeting coordination\\survival time/out \n",
      "> data/dat05_18surtime.dta saved\n"
     ]
    }
   ],
   "source": [
    "save \"${OUT}/dat05_18surtime.dta\", replace"
   ]
  }
 ],
 "metadata": {
  "kernelspec": {
   "display_name": "Stata",
   "language": "stata",
   "name": "stata"
  },
  "language_info": {
   "codemirror_mode": "stata",
   "file_extension": ".do",
   "mimetype": "text/x-stata",
   "name": "stata",
   "version": "15.1"
  }
 },
 "nbformat": 4,
 "nbformat_minor": 4
}
