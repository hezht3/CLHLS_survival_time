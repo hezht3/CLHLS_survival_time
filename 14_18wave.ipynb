{
 "cells": [
  {
   "cell_type": "code",
   "execution_count": 1,
   "metadata": {},
   "outputs": [],
   "source": [
    "* Zhengting (Johnathan) He\n",
    "* June 28th, 2021\n",
    "* healthy-aging project\n",
    "* Verify Yaxi's code on generting survival time: 14_18wave.do"
   ]
  },
  {
   "cell_type": "code",
   "execution_count": 37,
   "metadata": {},
   "outputs": [],
   "source": [
    "// set working directories\n",
    "global root \"F:\\Box Sync\\Archives2020LLY\\Zhengting\\Duke Kunshan University Intern (zh133@duke.edu)\\4 healthy aging-CLHLS\\Group meeting coordination\\survival time\"\n",
    "* define path for data sources\n",
    "global RAW \"${root}/raw data\"\n",
    "* define path for output data\n",
    "global OUT \"${root}/out data\"\n",
    "* define path for INTERMEDIATE\n",
    "global INTER \"${root}/inter data\""
   ]
  },
  {
   "cell_type": "code",
   "execution_count": 3,
   "metadata": {},
   "outputs": [],
   "source": [
    "/*********************************************************************************************************************/\n",
    "/************************************* I. logical check on death status and date *************************************/\n",
    "/*********************************************************************************************************************/\n",
    "\n",
    "/************************************* (1) Extract new added data at current wave *************************************/\n",
    "use \"${RAW}/clhls_2014_2018_longitudinal.dta\", clear"
   ]
  },
  {
   "cell_type": "code",
   "execution_count": 5,
   "metadata": {},
   "outputs": [
    {
     "name": "stdout",
     "output_type": "stream",
     "text": [
      "\n",
      "\n",
      "--------------------------------------------------------------------------------\n",
      "d18vyear                           validated year of death of the sampled person\n",
      "--------------------------------------------------------------------------------\n",
      "\n",
      "                  type:  numeric (double)\n",
      "\n",
      "                 range:  [2014,2019]                  units:  1\n",
      "         unique values:  6                        missing .:  4,966/7,192\n",
      "\n",
      "            tabulation:  Freq.  Value\n",
      "                           331  2014\n",
      "                           643  2015\n",
      "                           582  2016\n",
      "                           476  2017\n",
      "                           177  2018\n",
      "                            17  2019\n",
      "                         4,966  .\n",
      "\n",
      "--------------------------------------------------------------------------------\n",
      "d18vmonth                         validated month of death of the sampled person\n",
      "--------------------------------------------------------------------------------\n",
      "\n",
      "                  type:  numeric (double)\n",
      "\n",
      "                 range:  [1,12]                       units:  1\n",
      "         unique values:  12                       missing .:  4,966/7,192\n",
      "\n",
      "                  mean:   6.57996\n",
      "              std. dev:   3.55365\n",
      "\n",
      "           percentiles:        10%       25%       50%       75%       90%\n",
      "                                 2         3         7        10        11\n",
      "\n",
      "--------------------------------------------------------------------------------\n",
      "d18vday                             validated day of death of the sampled person\n",
      "--------------------------------------------------------------------------------\n",
      "\n",
      "                  type:  numeric (double)\n",
      "\n",
      "                 range:  [1,31]                       units:  1\n",
      "         unique values:  31                       missing .:  4,966/7,192\n",
      "\n",
      "                  mean:    15.212\n",
      "              std. dev:   8.38034\n",
      "\n",
      "           percentiles:        10%       25%       50%       75%       90%\n",
      "                                 3         8        15        22        27\n",
      "\n",
      "--------------------------------------------------------------------------------\n",
      "dth14_18                               status of survival, death, or lost to\n",
      "                                       follow-up from 2014 to 2018 waves\n",
      "--------------------------------------------------------------------------------\n",
      "\n",
      "                  type:  numeric (double)\n",
      "                 label:  dth14_18\n",
      "\n",
      "                 range:  [-9,1]                       units:  1\n",
      "         unique values:  3                        missing .:  0/7,192\n",
      "\n",
      "            tabulation:  Freq.   Numeric  Label\n",
      "                         1,478        -9  lost to follow-up in the 2018\n",
      "                                          survey\n",
      "                         3,441         0  surviving at the 2018 survey\n",
      "                         2,273         1  died before the 2018 survey\n"
     ]
    }
   ],
   "source": [
    "/************************************* (2) Check the actual values of death date variables, against the codebook for those variables *************************************/\n",
    "foreach var in d18vyear d18vmonth d18vday dth14_18 {\n",
    "    codebook `var'\n",
    "}\n",
    "// codebook on death variables\n",
    "\n",
    "// validated death year\n",
    "* d18vyear: validated year of death\n",
    "* . : missing\n",
    "\n",
    "// validated death month\n",
    "*d18vmonth:validated month of death*/\n",
    "* . : missing\n",
    "\n",
    "// validated death day\n",
    "*d18vday: validated day of death*/\n",
    "* . : missing\n",
    "\n",
    "// survival status\n",
    "* dth14_18: status of survival, death, or lost to follow-up from 2014 to 2018 wave\n",
    "* -9: lost to follow-up in the 2018 survey\n",
    "* 0: surviving at the 2018 survey\n",
    "* 1: died before the 2018 survey"
   ]
  },
  {
   "cell_type": "code",
   "execution_count": 6,
   "metadata": {},
   "outputs": [],
   "source": [
    "/************************************* Not applicable for this wave: (3) Check whether there are logical input mistakes between death status for different waves *************************************/\n",
    "// check whether there are logical mistakes for dth**_##\n",
    "* If the current death status is -9/0/1, the previous one can only be 0;\n",
    "* if the current death status is -8, then the previous can only be -8,-9 and 1.\n",
    "rename dth14_18 dth18"
   ]
  },
  {
   "cell_type": "code",
   "execution_count": 7,
   "metadata": {},
   "outputs": [
    {
     "name": "stdout",
     "output_type": "stream",
     "text": [
      "\n",
      "\n",
      "\n",
      "\n",
      "\n",
      "\n",
      "(note: file work.dta not found)\n",
      "file work.dta saved\n",
      "\n",
      "file F:\\Box Sync\\Archives2020LLY\\Zhengting\\Duke Kunshan University Intern (zh133\n",
      "> @duke.edu)\\4 healthy aging-CLHLS\\Group meeting coordination\\survival time/inte\n",
      "> r data/work.dta saved\n"
     ]
    }
   ],
   "source": [
    "global waves \"18\"                                                            //******need to be changed\n",
    "global year1 \"2014 2015 2017 2018 2019\"\n",
    "global year2 \"2016\"\n",
    "global months \"4 6 9 11\"\n",
    "global wavein \"in14 in18\"\n",
    "save work, replace\n",
    "save \"${INTER}/work.dta\", replace"
   ]
  },
  {
   "cell_type": "code",
   "execution_count": 8,
   "metadata": {},
   "outputs": [
    {
     "name": "stdout",
     "output_type": "stream",
     "text": [
      "\n",
      "(d18vday: 4966 changes made)\n",
      "(d18vmonth: 4966 changes made)\n",
      "(d18vyear: 4966 changes made)\n",
      "(2,226 real changes made)\n",
      "(2,032 real changes made)\n",
      "(2,139 real changes made)\n",
      "\n",
      "\n",
      "(note: file F:\\Box Sync\\Archives2020LLY\\Zhengting\\Duke Kunshan University Intern\n",
      ">  (zh133@duke.edu)\\4 healthy aging-CLHLS\\Group meeting coordination\\survival ti\n",
      "> me/inter data/work1.dta not found)\n",
      "file F:\\Box Sync\\Archives2020LLY\\Zhengting\\Duke Kunshan University Intern (zh133\n",
      "> @duke.edu)\\4 healthy aging-CLHLS\\Group meeting coordination\\survival time/inte\n",
      "> r data/work1.dta saved\n"
     ]
    }
   ],
   "source": [
    "/************************************* (4) Check whether there are logical input mistakes between death status and the verified death year, month, day *************************************/\n",
    "// check whether there are logical mistakes between d*vyear d*vmonth d*vday dth**_##\n",
    "foreach i of global waves {\n",
    "    // unify missing value to \"99\"\n",
    "    recode d`i'vday(. 88=99) \n",
    "    recode d`i'vmonth(. 88=99)\n",
    "    recode d`i'vyear(. 8888 9999=99)  //no 88 for all the 4 vars\n",
    "    \n",
    "    replace d`i'vyear = 1 if d`i'vyear > 1997 & d`i'vyear < 2020\n",
    "    replace d`i'vmonth = 1 if d`i'vmonth > 0 & d`i'vmonth < 13\n",
    "    replace d`i'vday = 1 if d`i'vday > 0 & d`i'vday < 32\n",
    "    \n",
    "    bys d`i'vyear: gen fre`i'_year = _N\n",
    "    bys d`i'vmonth: gen fre`i'_month = _N\n",
    "    bys d`i'vday: gen fre`i'_day = _N\n",
    "    bys dth`i': gen fre`i'_dth = _N\n",
    "}\n",
    "label drop _all\n",
    "save \"${INTER}/work1.dta\", replace"
   ]
  },
  {
   "cell_type": "code",
   "execution_count": 9,
   "metadata": {},
   "outputs": [
    {
     "name": "stdout",
     "output_type": "stream",
     "text": [
      "\n",
      "\n",
      "Duplicates in terms of d18vyear d18vmonth d18vday dth18\n",
      "\n",
      "(7,188 observations deleted)\n",
      "(note: file F:\\Box Sync\\Archives2020LLY\\Zhengting\\Duke Kunshan University Intern\n",
      ">  (zh133@duke.edu)\\4 healthy aging-CLHLS\\Group meeting coordination\\survival ti\n",
      "> me/inter data/wave18.dta not found)\n",
      "file F:\\Box Sync\\Archives2020LLY\\Zhengting\\Duke Kunshan University Intern (zh133\n",
      "> @duke.edu)\\4 healthy aging-CLHLS\\Group meeting coordination\\survival time/inte\n",
      "> r data/wave18.dta saved\n",
      "\n"
     ]
    }
   ],
   "source": [
    "foreach i of global waves{\n",
    "    keep d`i'vyear d`i'vmonth d`i'vday dth`i' fre`i'_year fre`i'_month fre`i'_day fre`i'_dth \n",
    "    duplicates drop d`i'vyear d`i'vmonth d`i'vday dth`i', force \n",
    "    save \"${INTER}/wave`i'.dta\", replace\n",
    "    use \"${INTER}/work1.dta\", clear\n",
    "}\n",
    "use \"${INTER}/wave18.dta\",clear"
   ]
  },
  {
   "cell_type": "code",
   "execution_count": 10,
   "metadata": {},
   "outputs": [],
   "source": [
    "browse"
   ]
  },
  {
   "cell_type": "code",
   "execution_count": 11,
   "metadata": {},
   "outputs": [],
   "source": [
    "/* In wave14, all is missing in d18vyear/month/day when dth18=-9/0. \n",
    "There is no logical mistakes between the 4 vars.\n",
    "There are 47 deceased persons without d18year/month/day. */"
   ]
  },
  {
   "cell_type": "code",
   "execution_count": 13,
   "metadata": {},
   "outputs": [],
   "source": [
    "erase \"${INTER}/work1.dta\"\n",
    "erase \"${INTER}/wave18.dta\""
   ]
  },
  {
   "cell_type": "code",
   "execution_count": 15,
   "metadata": {},
   "outputs": [
    {
     "name": "stdout",
     "output_type": "stream",
     "text": [
      "\n",
      "\n",
      "\n",
      "(d18vday: 4966 changes made)\n",
      "(d18vmonth: 4966 changes made)\n",
      "(d18vyear: 4966 changes made)\n"
     ]
    }
   ],
   "source": [
    "/********************************************************************************************************************/\n",
    "/************************************* II. Replacement of NA and input mistakes *************************************/\n",
    "/********************************************************************************************************************/\n",
    "\n",
    "use \"${INTER}/work.dta\", clear\n",
    "*Extract the new added data at 2008 survey*\n",
    "gen int id_year=mod(id,100)  //id_year=14 were the newly added ones\n",
    "\n",
    "/*change all . to 99 for month&day, . to 9999 for year*/\n",
    "foreach a of global waves{\n",
    "    recode d`a'vday (. = 99) \n",
    "    recode d`a'vmonth (. = 99)\n",
    "    recode d`a'vyear (. = 9999)\n",
    "}"
   ]
  },
  {
   "cell_type": "code",
   "execution_count": 16,
   "metadata": {},
   "outputs": [
    {
     "name": "stdout",
     "output_type": "stream",
     "text": [
      "\n",
      "\n",
      "(3,729 missing values generated)\n"
     ]
    }
   ],
   "source": [
    "****calculate the mid-point between the last interview date of the previous wave and the first interview date of the next wave\n",
    "gen in14 = mdy(monthin, dayin, yearin)                                              //******need to be changed\n",
    "gen in18 = mdy(monthin_18, dayin_18, yearin_18)"
   ]
  },
  {
   "cell_type": "code",
   "execution_count": 17,
   "metadata": {},
   "outputs": [],
   "source": [
    "egen maxin14 = max(in14)\n",
    "egen minin18 = min(in18)\n",
    "gen mid_1418 = (maxin14 + minin18)/2\n",
    "gen midyear = year(mid_1418)\n",
    "gen midmonth = month(mid_1418)\n",
    "gen midday = day(mid_1418)"
   ]
  },
  {
   "cell_type": "code",
   "execution_count": 18,
   "metadata": {},
   "outputs": [
    {
     "name": "stdout",
     "output_type": "stream",
     "text": [
      "\n",
      "(47 real changes made)\n",
      "\n",
      "(47 real changes made)\n",
      "\n",
      "(47 real changes made)\n",
      "\n",
      "(d18vday: 0 changes made)\n",
      "\n",
      "(d18vmonth: 0 changes made)\n"
     ]
    }
   ],
   "source": [
    "/************************************* (5) Replacement of the missing death date according to Rule 1 *************************************/\n",
    "* Rule 1:\n",
    "* For the three variables, year, month, and day:\n",
    "* a. if only month is missing, the month is assumed to be July;\n",
    "* b. if only day is missing, the day is assumed to be 15;\n",
    "* c. for the rest of all the scenarios, the year/month/day is assumed to be that of the mid-point between the last interview date of the previous wave and\n",
    "* the first interview date of the next wave. (these scenarios inc, all the three variables are missing, or any two variables are missing, or only year is\n",
    "* missing.)\n",
    "replace d18vday = midday if d18vday == 99 & dth18 == 1   //47 changes\n",
    "replace d18vmonth = midmonth if d18vmonth == 99 & dth18 == 1 //47 changes\n",
    "replace d18vyear = midyear if d18vyear == 9999 & dth18 == 1 //47 changes\n",
    "\n",
    "recode d18vday (99=15) if d18vmonth != 99 & d18vyear != 9999 & dth18 == 1 //0 changes\n",
    "recode d18vmonth (99=7) if d18vday != 99 & d18vyear != 9999 & dth18 == 1  //0 changes"
   ]
  },
  {
   "cell_type": "code",
   "execution_count": 19,
   "metadata": {},
   "outputs": [
    {
     "name": "stdout",
     "output_type": "stream",
     "text": [
      "\n",
      "(d18vday: 0 changes made)\n",
      "(d18vday: 0 changes made)\n",
      "(d18vday: 0 changes made)\n",
      "(d18vday: 0 changes made)\n",
      "(d18vday: 0 changes made)\n",
      "\n",
      "(d18vday: 0 changes made)\n",
      "\n",
      "(d18vday: 0 changes made)\n",
      "(d18vday: 0 changes made)\n",
      "(d18vday: 0 changes made)\n",
      "(d18vday: 1 changes made)\n"
     ]
    }
   ],
   "source": [
    "/************************************* (6) Modify input mistakes of death date according to Rule 2 *************************************/\n",
    "* Rule 2:\n",
    "* a. change day 29/max of Feb to 28 for years 99, 01, 02, 03, 05, 06, 07, 09, 10, 11, 13, 14 (non-leap year);\n",
    "* b. change day 30/max of Feb to 29 for years 00, 04, 08, 12 (leap year);\n",
    "* c. change day 31 to 30 for months 4, 6, 9, 11\n",
    "foreach year of global year1 {\n",
    "    recode d18vday (29/max=28) if d18vyear == `year' & d18vmonth == 2\n",
    "}\n",
    "foreach year of global year2 {\n",
    "    recode d18vday (30/max=29) if d18vyear == `year' & d18vmonth == 2\n",
    "}\n",
    "foreach month of global months {\n",
    "    recode d18vday (31=30) if d18vmonth == `month'\n",
    "}"
   ]
  },
  {
   "cell_type": "code",
   "execution_count": 23,
   "metadata": {},
   "outputs": [
    {
     "name": "stdout",
     "output_type": "stream",
     "text": [
      "\n",
      "\n",
      "--------------------------------------------------------------------------------\n",
      "dayin                                                  day of the 2014 interview\n",
      "--------------------------------------------------------------------------------\n",
      "\n",
      "                  type:  numeric (double)\n",
      "\n",
      "                 range:  [1,31]                       units:  1\n",
      "         unique values:  31                       missing .:  0/7,192\n",
      "\n",
      "                  mean:   17.4004\n",
      "              std. dev:   8.34125\n",
      "\n",
      "           percentiles:        10%       25%       50%       75%       90%\n",
      "                                 5        10        19        24        28\n",
      "\n",
      "\n",
      "--------------------------------------------------------------------------------\n",
      "monthin                                              month of the 2014 interview\n",
      "--------------------------------------------------------------------------------\n",
      "\n",
      "                  type:  numeric (double)\n",
      "\n",
      "                 range:  [1,11]                       units:  1\n",
      "         unique values:  10                       missing .:  0/7,192\n",
      "\n",
      "                  mean:   5.86193\n",
      "              std. dev:   1.47627\n",
      "\n",
      "           percentiles:        10%       25%       50%       75%       90%\n",
      "                                 5         5         5         6         8\n",
      "\n",
      "\n",
      "--------------------------------------------------------------------------------\n",
      "yearin                                                year of the 2014 interview\n",
      "--------------------------------------------------------------------------------\n",
      "\n",
      "                  type:  numeric (double)\n",
      "\n",
      "                 range:  [2014,2014]                  units:  1\n",
      "         unique values:  1                        missing .:  0/7,192\n",
      "\n",
      "            tabulation:  Freq.  Value\n",
      "                         7,192  2014\n"
     ]
    }
   ],
   "source": [
    "/****************************************************************************************************************************************/\n",
    "/************************************* III. calculating survival time, censor and lost to follow-up *************************************/\n",
    "/****************************************************************************************************************************************/\n",
    "\n",
    "****set interview baseline\n",
    "**codebook on interview date variables\n",
    "* datein: day of interview\n",
    "* monthin: month of the interview\n",
    "\n",
    "/************************************* (7) Replacement of the missing interview baseline date according to Rule 3 *************************************/\n",
    "* Rule 3:\n",
    "* a. if only the interview day is missing, then the day is assumed to be 15th\n",
    "* b. if both month and day are missing and the year isn't missing, or only the month is missing, the month/day is assumed to be that of the mid-point between the earliest interview date\n",
    "* and the latest interiew date of that year\n",
    "* c. no interview year is missing\n",
    "\n",
    "codebook dayin    // no missing interview day\n",
    "codebook monthin  // no missing interview month\n",
    "codebook yearin   // no missing interview year"
   ]
  },
  {
   "cell_type": "code",
   "execution_count": 25,
   "metadata": {},
   "outputs": [
    {
     "name": "stdout",
     "output_type": "stream",
     "text": [
      "\n",
      "(dayin: 0 changes made)\n",
      "\n",
      "(dayin: 0 changes made)\n",
      "(dayin: 0 changes made)\n",
      "(dayin: 0 changes made)\n",
      "(dayin: 0 changes made)\n"
     ]
    }
   ],
   "source": [
    "/************************************* (8) Modify input mistakes of interview baseline date according to Rule 2 *************************************/\n",
    "* Rule 2:\n",
    "* a. change day 29/max of Feb to 28 for years 99, 01, 02, 03, 05, 06, 07, 09, 10, 11, 13, 14 (non-leap year);\n",
    "* b. change day 30/max of Feb to 29 for years 00, 04, 08, 12 (leap year);\n",
    "* c. change day 31 to 30 for months 4, 6, 9, 11\n",
    "recode dayin (29/max=28) if monthin == 2\n",
    "\n",
    "foreach month of global months {\n",
    "    recode dayin (31=30) if monthin == `month'\n",
    "}"
   ]
  },
  {
   "cell_type": "code",
   "execution_count": 26,
   "metadata": {},
   "outputs": [
    {
     "name": "stdout",
     "output_type": "stream",
     "text": [
      "\n",
      "(7,192 missing values generated)\n",
      "\n",
      "(7,192 missing values generated)\n"
     ]
    }
   ],
   "source": [
    "/************************************* (9) Calculate survival time for each person according to Rule 4 *************************************/\n",
    "\n",
    "* Generate `survival_bas14_18', means the years from 2014 to death or censored.\n",
    "* a. For those who died during the study, survival_bas14_18 = date of death - in14;\n",
    "* b. For those who were lost in the study, survival_bas14_18 = the middle time of the wave - in14;\n",
    "* c. For those who were lost in the study, survival_bas14_18 = the middle time of the wave - in14.\n",
    "\n",
    "* Generate `survival_bth', from birth to death or censor14_18ed.\n",
    "* e. survival_bth = survival_bas14_18 + verified age (*trueage*)\n",
    "\n",
    "* Generate `lostdate`, means the lost date for those lost in the survey, and equals to the mid-point of last day of the previous interview\n",
    "* and the first day of the next one\n",
    "\n",
    "gen lostdate = .\n",
    "gen survival_bas14_18 = . "
   ]
  },
  {
   "cell_type": "code",
   "execution_count": 27,
   "metadata": {},
   "outputs": [
    {
     "name": "stdout",
     "output_type": "stream",
     "text": [
      "(1,478 real changes made)\n"
     ]
    }
   ],
   "source": [
    "replace lostdate = mid_1418 if dth18 == -9"
   ]
  },
  {
   "cell_type": "code",
   "execution_count": 28,
   "metadata": {},
   "outputs": [
    {
     "name": "stdout",
     "output_type": "stream",
     "text": [
      "\n",
      "(4,919 missing values generated)\n",
      "\n",
      "(2,273 real changes made)\n",
      "\n",
      "\n",
      "(2,273 real changes made)\n"
     ]
    }
   ],
   "source": [
    "gen dthdate = mdy(d18vmonth, d18vday, d18vyear)\n",
    "replace survival_bas14_18 = (dthdate - in14)/365.25\n",
    "gen censor14_18 = 0\n",
    "replace censor14_18 = 1 if survival_bas14_18 != .  //generate censor14_18=1 if die, censor14_18=0 if survived until end of the wave or lost to follow"
   ]
  },
  {
   "cell_type": "code",
   "execution_count": 29,
   "metadata": {},
   "outputs": [
    {
     "name": "stdout",
     "output_type": "stream",
     "text": [
      "\n",
      "(1,478 real changes made)\n",
      "\n",
      "\n",
      "(5,714 real changes made, 5,714 to missing)\n"
     ]
    }
   ],
   "source": [
    "replace survival_bas14_18 = (lostdate - in14)/365.25 if lostdate != .\n",
    "gen lost14_18 = 1\n",
    "replace lost14_18 = . if lostdate == .  "
   ]
  },
  {
   "cell_type": "code",
   "execution_count": 30,
   "metadata": {},
   "outputs": [
    {
     "name": "stdout",
     "output_type": "stream",
     "text": [
      "(3,441 real changes made)\n"
     ]
    }
   ],
   "source": [
    "replace survival_bas14_18 = (in18 - in14)/365.25 if dth18 == 0"
   ]
  },
  {
   "cell_type": "code",
   "execution_count": 31,
   "metadata": {},
   "outputs": [
    {
     "name": "stdout",
     "output_type": "stream",
     "text": [
      "\n",
      "    Variable |        Obs        Mean    Std. Dev.       Min        Max\n",
      "-------------+---------------------------------------------------------\n",
      "survival_~18 |      7,192    2.878185    1.272853  -.3559206   5.240246\n"
     ]
    }
   ],
   "source": [
    "************** Not applicable for this wave: replace the survival time to 0 for those whose survival was negative\n",
    "sum survival_bas14_18 //didn't replace the negative figures with 0, because the true value will be used to calculate the survival time to 2018 wave"
   ]
  },
  {
   "cell_type": "code",
   "execution_count": 32,
   "metadata": {},
   "outputs": [],
   "source": [
    "* gen survival_bth14_18,means the years from birth to death or censor14_18ed\n",
    "gen survival_bth14_18=survival_bas14_18+trueage"
   ]
  },
  {
   "cell_type": "code",
   "execution_count": 33,
   "metadata": {},
   "outputs": [],
   "source": [
    "erase \"${INTER}/work.dta\"\n",
    "macro drop _all"
   ]
  },
  {
   "cell_type": "code",
   "execution_count": 38,
   "metadata": {},
   "outputs": [
    {
     "name": "stdout",
     "output_type": "stream",
     "text": [
      "file F:\\Box Sync\\Archives2020LLY\\Zhengting\\Duke Kunshan University Intern (zh133\n",
      "> @duke.edu)\\4 healthy aging-CLHLS\\Group meeting coordination\\survival time/out \n",
      "> data/dat14_18.dta saved\n"
     ]
    }
   ],
   "source": [
    "save \"${OUT}/dat14_18surtime.dta\" // Match with Yaxi's dataset"
   ]
  }
 ],
 "metadata": {
  "kernelspec": {
   "display_name": "Stata",
   "language": "stata",
   "name": "stata"
  },
  "language_info": {
   "codemirror_mode": "stata",
   "file_extension": ".do",
   "mimetype": "text/x-stata",
   "name": "stata",
   "version": "15.1"
  }
 },
 "nbformat": 4,
 "nbformat_minor": 4
}
