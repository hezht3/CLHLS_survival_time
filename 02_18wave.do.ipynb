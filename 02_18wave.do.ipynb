{
 "cells": [
  {
   "cell_type": "code",
   "execution_count": 77,
   "metadata": {},
   "outputs": [],
   "source": [
    "* Zhengting (Johnathan) He\n",
    "* May 8th, 2021\n",
    "* healthy-aging project\n",
    "* Verify Yaxi's code on generting survival time: 98_14wave.do"
   ]
  },
  {
   "cell_type": "code",
   "execution_count": 109,
   "metadata": {},
   "outputs": [],
   "source": [
    "// set working directories\n",
    "global root \"F:\\Box Sync\\Archives2020LLY\\Zhengting\\Duke Kunshan University Intern (zh133@duke.edu)\\4 healthy aging-CLHLS\\Group meeting coordination\\survival time\"\n",
    "* define path for data sources\n",
    "global RAW \"${root}/raw data\"\n",
    "* define path for output data\n",
    "global OUT \"${root}/out data\"\n",
    "* define path for INTERMEDIATE\n",
    "global INTER \"${root}/inter data\""
   ]
  },
  {
   "cell_type": "code",
   "execution_count": 79,
   "metadata": {},
   "outputs": [
    {
     "name": "stdout",
     "output_type": "stream",
     "text": [
      "\n",
      "\n",
      "\n",
      "(6,316 observations deleted)\n"
     ]
    }
   ],
   "source": [
    "/*********************************************************************************************************************/\n",
    "/************************************* I. logical check on death status and date *************************************/\n",
    "/*********************************************************************************************************************/\n",
    "\n",
    "/************************************* (1) Extract new added data at current wave *************************************/\n",
    "use \"${RAW}/2002_2014_longitudinal_dataset_released_version1.dta\", clear\n",
    "gen int id_year = mod(id, 100)\n",
    "keep if id_year == 02"
   ]
  },
  {
   "cell_type": "code",
   "execution_count": 80,
   "metadata": {},
   "outputs": [
    {
     "name": "stdout",
     "output_type": "stream",
     "text": [
      "\n",
      "\n",
      "--------------------------------------------------------------------------------------------------------------------------------------\n",
      "d5vyear                                                                                  validated year of death of the sampled person\n",
      "--------------------------------------------------------------------------------------------------------------------------------------\n",
      "\n",
      "                  type:  numeric (int)\n",
      "                 label:  d5vyear, but 4 nonmissing values are not labeled\n",
      "\n",
      "                 range:  [-9,9999]                    units:  1\n",
      "         unique values:  7                        missing .:  0/9,748\n",
      "\n",
      "            tabulation:  Freq.   Numeric  Label\n",
      "                         1,292        -9  lost to follow-up in the 2005\n",
      "                                          survey\n",
      "                         5,545        -7  the deceased persons only, not\n",
      "                                          applicable to survivors\n",
      "                           370      2002  \n",
      "                         1,102      2003  \n",
      "                         1,058      2004  \n",
      "                           336      2005  \n",
      "                            45      9999  missing\n",
      "\n",
      "--------------------------------------------------------------------------------------------------------------------------------------\n",
      "d8vyear                                                                                  validated year of death of the sampled person\n",
      "--------------------------------------------------------------------------------------------------------------------------------------\n",
      "\n",
      "                  type:  numeric (int)\n",
      "\n",
      "                 range:  [-9,2008]                    units:  1\n",
      "         unique values:  7                        missing .:  2/9,748\n",
      "\n",
      "            tabulation:  Freq.  Value\n",
      "                           958  -9\n",
      "                         4,203  -8\n",
      "                         3,241  -7\n",
      "                           191  2005\n",
      "                           492  2006\n",
      "                           461  2007\n",
      "                           200  2008\n",
      "                             2  .\n",
      "\n",
      "--------------------------------------------------------------------------------------------------------------------------------------\n",
      "d11vyear                                                                                 validated year of death of the sampled person\n",
      "--------------------------------------------------------------------------------------------------------------------------------------\n",
      "\n",
      "                  type:  numeric (int)\n",
      "                 label:  d11vyear, but 4 nonmissing values are not labeled\n",
      "\n",
      "                 range:  [-9,2011]                    units:  1\n",
      "         unique values:  7                        missing .:  0/9,748\n",
      "\n",
      "            tabulation:  Freq.   Numeric  Label\n",
      "                           365        -9  lost to follow-up in the 2011\n",
      "                                          survey\n",
      "                         6,507        -8  died or lost to follow-up in\n",
      "                                          previous waves\n",
      "                         2,150        -7  for deceased, not applicable for\n",
      "                                          survivors\n",
      "                           135      2008  \n",
      "                           242      2009  \n",
      "                           224      2010  \n",
      "                           125      2011  \n",
      "\n",
      "--------------------------------------------------------------------------------------------------------------------------------------\n",
      "d14vyear                                                                                 validated year of death of the sampled person\n",
      "--------------------------------------------------------------------------------------------------------------------------------------\n",
      "\n",
      "                  type:  numeric (int)\n",
      "                 label:  d14vyear, but 4 nonmissing values are not labeled\n",
      "\n",
      "                 range:  [2011,2014]                  units:  1\n",
      "         unique values:  4                        missing .:  9,238/9,748\n",
      "\n",
      "            tabulation:  Freq.   Numeric  Label\n",
      "                            57      2011  \n",
      "                           181      2012  \n",
      "                           179      2013  \n",
      "                            93      2014  \n",
      "                         9,238         .  \n",
      "\n",
      "--------------------------------------------------------------------------------------------------------------------------------------\n",
      "d5vmonth                                                                                validated month of death of the sampled person\n",
      "--------------------------------------------------------------------------------------------------------------------------------------\n",
      "\n",
      "                  type:  numeric (byte)\n",
      "                 label:  d5vmonth, but 12 nonmissing values are not labeled\n",
      "\n",
      "                 range:  [-9,99]                      units:  1\n",
      "         unique values:  15                       missing .:  0/9,748\n",
      "\n",
      "              examples:  -7    the deceased persons only, not applicable to survivors\n",
      "                         -7    the deceased persons only, not applicable to survivors\n",
      "                         -7    the deceased persons only, not applicable to survivors\n",
      "                         4     \n",
      "\n",
      "--------------------------------------------------------------------------------------------------------------------------------------\n",
      "d8vmonth                                                                                validated month of death of the sampled person\n",
      "--------------------------------------------------------------------------------------------------------------------------------------\n",
      "\n",
      "                  type:  numeric (byte)\n",
      "\n",
      "                 range:  [-9,12]                      units:  1\n",
      "         unique values:  15                       missing .:  2/9,748\n",
      "\n",
      "                  mean:  -5.73251\n",
      "              std. dev:   5.19509\n",
      "\n",
      "           percentiles:        10%       25%       50%       75%       90%\n",
      "                                -8        -8        -8        -7         4\n",
      "\n",
      "--------------------------------------------------------------------------------------------------------------------------------------\n",
      "d11vmonth                                                                               validated month of death of the sampled person\n",
      "--------------------------------------------------------------------------------------------------------------------------------------\n",
      "\n",
      "                  type:  numeric (byte)\n",
      "                 label:  d11vmonth, but 12 nonmissing values are not labeled\n",
      "\n",
      "                 range:  [-9,12]                      units:  1\n",
      "         unique values:  15                       missing .:  0/9,748\n",
      "\n",
      "              examples:  -8    died or lost to follow-up in previous waves\n",
      "                         -8    died or lost to follow-up in previous waves\n",
      "                         -8    died or lost to follow-up in previous waves\n",
      "                         -7    for deceased, not applicable for survivors\n",
      "\n",
      "--------------------------------------------------------------------------------------------------------------------------------------\n",
      "d14vmonth                                                                               validated month of death of the sampled person\n",
      "--------------------------------------------------------------------------------------------------------------------------------------\n",
      "\n",
      "                  type:  numeric (byte)\n",
      "                 label:  d14vmonth, but 12 nonmissing values are not labeled\n",
      "\n",
      "                 range:  [1,12]                       units:  1\n",
      "         unique values:  12                       missing .:  9,232/9,748\n",
      "\n",
      "              examples:  .     \n",
      "                         .     \n",
      "                         .     \n",
      "                         .     \n",
      "\n",
      "--------------------------------------------------------------------------------------------------------------------------------------\n",
      "d5vday                                                                                    validated day of death of the sampled person\n",
      "--------------------------------------------------------------------------------------------------------------------------------------\n",
      "\n",
      "                  type:  numeric (byte)\n",
      "                 label:  d5vday, but 31 nonmissing values are not labeled\n",
      "\n",
      "                 range:  [-9,99]                      units:  1\n",
      "         unique values:  34                       missing .:  0/9,748\n",
      "\n",
      "              examples:  -7    the deceased persons only, not applicable to survivors\n",
      "                         -7    the deceased persons only, not applicable to survivors\n",
      "                         -7    the deceased persons only, not applicable to survivors\n",
      "                         11    \n",
      "\n",
      "--------------------------------------------------------------------------------------------------------------------------------------\n",
      "d8vday                                                                                    validated day of death of the sampled person\n",
      "--------------------------------------------------------------------------------------------------------------------------------------\n",
      "\n",
      "                  type:  numeric (byte)\n",
      "                 label:  d8vday, but 31 nonmissing values are not labeled\n",
      "\n",
      "                 range:  [-9,31]                      units:  1\n",
      "         unique values:  34                       missing .:  2/9,748\n",
      "\n",
      "              examples:  -8    died or lost to follow-up in previous waves\n",
      "                         -8    died or lost to follow-up in previous waves\n",
      "                         -7    the deceased persons only, not applicable to survivors\n",
      "                         -7    the deceased persons only, not applicable to survivors\n",
      "\n",
      "--------------------------------------------------------------------------------------------------------------------------------------\n",
      "d11vday                                                                                   validated day of death of the sampled person\n",
      "--------------------------------------------------------------------------------------------------------------------------------------\n",
      "\n",
      "                  type:  numeric (byte)\n",
      "                 label:  d11vday, but 31 nonmissing values are not labeled\n",
      "\n",
      "                 range:  [-9,31]                      units:  1\n",
      "         unique values:  34                       missing .:  18/9,748\n",
      "\n",
      "              examples:  -8    died or lost to follow-up in previous waves\n",
      "                         -8    died or lost to follow-up in previous waves\n",
      "                         -8    died or lost to follow-up in previous waves\n",
      "                         -7    for deceased, not applicable for survivors\n",
      "\n",
      "--------------------------------------------------------------------------------------------------------------------------------------\n",
      "d14vday                                                                                  validated year of death of the sampled person\n",
      "--------------------------------------------------------------------------------------------------------------------------------------\n",
      "\n",
      "                  type:  numeric (byte)\n",
      "                 label:  d14vday, but 31 nonmissing values are not labeled\n",
      "\n",
      "                 range:  [1,31]                       units:  1\n",
      "         unique values:  31                       missing .:  9,242/9,748\n",
      "\n",
      "              examples:  .     \n",
      "                         .     \n",
      "                         .     \n",
      "                         .     \n",
      "\n",
      "--------------------------------------------------------------------------------------------------------------------------------------\n",
      "dth02_05                                                   status of survival, death, or lost to follow-up from the 2002 to 2005 waves\n",
      "--------------------------------------------------------------------------------------------------------------------------------------\n",
      "\n",
      "                  type:  numeric (byte)\n",
      "                 label:  dth02_05\n",
      "\n",
      "                 range:  [-9,1]                       units:  1\n",
      "         unique values:  3                        missing .:  0/9,748\n",
      "\n",
      "            tabulation:  Freq.   Numeric  Label\n",
      "                         1,292        -9  lost to follow-up at the 2005\n",
      "                                          wave\n",
      "                         5,545         0  surviving at the 2005 survey\n",
      "                         2,911         1  died before the 2005 survey\n",
      "\n",
      "--------------------------------------------------------------------------------------------------------------------------------------\n",
      "dth05_08                                                   status of survival, death, or lost to follow-up from the 2005 to 2008 waves\n",
      "--------------------------------------------------------------------------------------------------------------------------------------\n",
      "\n",
      "                  type:  numeric (byte)\n",
      "                 label:  dth05_08\n",
      "\n",
      "                 range:  [-9,1]                       units:  1\n",
      "         unique values:  4                        missing .:  0/9,748\n",
      "\n",
      "            tabulation:  Freq.   Numeric  Label\n",
      "                           958        -9  lost to follow-up in the 2008\n",
      "                                          survey\n",
      "                         4,203        -8  died or lost to follow-up in\n",
      "                                          previous waves\n",
      "                         3,241         0  surviving at the 2008 survey\n",
      "                         1,346         1  died before the 2008 survey\n",
      "\n",
      "--------------------------------------------------------------------------------------------------------------------------------------\n",
      "dth08_11                                                       status of survival, death, or lost to follow-up from 2008 to 2011 waves\n",
      "--------------------------------------------------------------------------------------------------------------------------------------\n",
      "\n",
      "                  type:  numeric (byte)\n",
      "                 label:  dth08_11\n",
      "\n",
      "                 range:  [-9,2]                       units:  1\n",
      "         unique values:  5                        missing .:  0/9,748\n",
      "\n",
      "            tabulation:  Freq.   Numeric  Label\n",
      "                           365        -9  lost to follow-up in the\n",
      "                                          2011/2012 survey\n",
      "                         6,507        -8  died or lost to follow-up in\n",
      "                                          previous waves\n",
      "                         2,150         0  surviving at the 2011/2012\n",
      "                                          survey\n",
      "                           725         1  died before the 2011/2012 survey\n",
      "                             1         2  surviving at 2011 survey but\n",
      "                                          died before 2012 survey\n",
      "\n",
      "--------------------------------------------------------------------------------------------------------------------------------------\n",
      "dth11_14                                                  status of survival, death, or lost to follow-up from 2011/2012 to 2014 waves\n",
      "--------------------------------------------------------------------------------------------------------------------------------------\n",
      "\n",
      "                  type:  numeric (byte)\n",
      "                 label:  dth11_14\n",
      "\n",
      "                 range:  [-9,1]                       units:  1\n",
      "         unique values:  4                        missing .:  0/9,748\n",
      "\n",
      "            tabulation:  Freq.   Numeric  Label\n",
      "                            97        -9  lost to follow-up in the 2014\n",
      "                                          survey\n",
      "                         7,597        -8  died or lost to follow-up in\n",
      "                                          previous waves\n",
      "                         1,538         0  surviving at the 2014 survey\n",
      "                           516         1  died before the 2014 survey\n"
     ]
    }
   ],
   "source": [
    "/************************************* (2) Check the actual values of death date variables, against the codebook for those variables *************************************/\n",
    "foreach var in d5vyear d8vyear d11vyear d14vyear d5vmonth d8vmonth d11vmonth d14vmonth d5vday d8vday d11vday d14vday dth02_05 dth05_08 dth08_11 dth11_14 {\n",
    "    codebook `var'\n",
    "}\n",
    "// codebook on death variables\n",
    "\n",
    "// validated death year\n",
    "* d5vyear, d8vyear, d11vyear, d14vyear: validated year of death*/\n",
    "* -9: lost to follow up in the 2005/2008/2011/2014 survey*\n",
    "* -8: died or lost to follow-up in previous waves*\n",
    "* -7: it is for the deceased persons, not applicable for survivors*\n",
    "* . 9999: missing*/\n",
    "\n",
    "// validated death month\n",
    "* d5vmonth, d8vmonth, d11vmonth, d14vmonth: validated month of death*/\n",
    "* -9: lost to follow-up in the 2005/08/11/14 survey*/\n",
    "* -8: died or lost to follow-up in previous waves*/\n",
    "* -7: it is for the deceased persons, not applicable for survivors*/\n",
    "* . 99: missing*/\n",
    "\n",
    "// validated death day\n",
    "* d5vday, d8vday, d11vday, d14vday: validated day of death*/\n",
    "* -9: lost to follow-up in the 2002/05/08/11/14 survey*/ \n",
    "* -8: died or lost to follow-up in previous waves*/\n",
    "* -7: it is for the deceased persons, not applicable for survivors*/\n",
    "* . 99: missing*/\n",
    "\n",
    "// survival status\n",
    "* dth02_05, dth05_08, dth08_11, dth11_14: status of survival, death, or lost to follow-up from 2002-2005/2005-2008/2008-2011/2011-2014 waves*/\n",
    "* dth**_##:\n",
    "* -9: lost to follow-up at the ## survey;\n",
    "* -8: died or lost to follow-up in previous waves;\n",
    "* 0: surviving at the ## survey;\n",
    "* 1: died before the ## survey\n",
    "* dth08_11:\n",
    "* 2: surviving at 2011 survey but died before 2012 survey (only one, 2011.12.9 died)"
   ]
  },
  {
   "cell_type": "code",
   "execution_count": 81,
   "metadata": {},
   "outputs": [
    {
     "name": "stdout",
     "output_type": "stream",
     "text": [
      "\n",
      "already preserved\n"
     ]
    },
    {
     "name": "stderr",
     "output_type": "stream",
     "text": [
      "r(621);\n",
      "r(621);\n"
     ]
    },
    {
     "name": "stdout",
     "output_type": "stream",
     "text": [
      "\n",
      "\n"
     ]
    }
   ],
   "source": [
    "/************************************* (3) Check whether there are logical input mistakes between death status for different waves *************************************/\n",
    "// check whether there are logical mistakes for dth**_##\n",
    "* If the current death status is -9/0/1, the previous one can only be 0;\n",
    "* if the current death status is -8, then the previous can only be -8,-9 and 1.\n",
    "preserve\n",
    "rename dth02_05 dth3\n",
    "rename dth05_08 dth4\n",
    "rename dth08_11 dth5\n",
    "rename dth11_14 dth6\n",
    "label drop _all\n",
    "forv i = 3/5 {\n",
    "    local j = `i' + 1\n",
    "    tab dth`i' if dth`j' == -9 | dth`j' == 0 | dth`j' == 1, missing //0\n",
    "    tab dth`i' if dth`j' == -8, missing //-8, -9, 1\n",
    "}\n",
    "restore"
   ]
  },
  {
   "cell_type": "code",
   "execution_count": 82,
   "metadata": {},
   "outputs": [
    {
     "name": "stdout",
     "output_type": "stream",
     "text": [
      "(9,747 observations deleted)\n"
     ]
    }
   ],
   "source": [
    "keep if dth08_11 == 2 & (dth11_14 == -9 | dth11_14 == 0 | dth11_14 == 1)"
   ]
  },
  {
   "cell_type": "code",
   "execution_count": 83,
   "metadata": {},
   "outputs": [],
   "source": [
    "// id = 32176802, died in 08_11 wave(dth08_11=2,2011.12.9), but dth11_14 = -9, d14vyear/month/day = ."
   ]
  },
  {
   "cell_type": "code",
   "execution_count": 84,
   "metadata": {},
   "outputs": [
    {
     "name": "stdout",
     "output_type": "stream",
     "text": [
      "\n",
      "\n",
      "\n",
      "\n",
      "(6,316 observations deleted)\n"
     ]
    }
   ],
   "source": [
    "*****************************create work.dta, which has changed the death status according results above, and renanme dth**_##***********\n",
    "clear\n",
    "use \"${RAW}/2002_2014_longitudinal_dataset_released_version1.dta\"  //******need to be changed\n",
    "gen int id_year = mod(id, 100)\n",
    "keep if id_year == 02"
   ]
  },
  {
   "cell_type": "code",
   "execution_count": 85,
   "metadata": {},
   "outputs": [
    {
     "name": "stdout",
     "output_type": "stream",
     "text": [
      "\n",
      "(dth08_11: 1 changes made)\n",
      "\n",
      "(dth11_14: 1 changes made)\n"
     ]
    }
   ],
   "source": [
    "recode dth08_11(2=1) //1 change\n",
    "recode dth11_14(-9=-8) if id==32176802"
   ]
  },
  {
   "cell_type": "code",
   "execution_count": 86,
   "metadata": {},
   "outputs": [],
   "source": [
    "rename dth02_05 dth5\n",
    "rename dth05_08 dth8\n",
    "rename dth08_11 dth11\n",
    "rename dth11_14 dth14"
   ]
  },
  {
   "cell_type": "code",
   "execution_count": 87,
   "metadata": {},
   "outputs": [
    {
     "name": "stdout",
     "output_type": "stream",
     "text": [
      "\n",
      "\n",
      "\n",
      "\n",
      "\n",
      "\n",
      "(note: file F:\\Box Sync\\Archives2020LLY\\Zhengting\\Duke Kunshan University Intern (zh133@duke.edu)\\4 healthy aging-CLHLS\\Group meeting \n",
      "> coordination\\survival time/inter data/work.dta not found)\n",
      "file F:\\Box Sync\\Archives2020LLY\\Zhengting\\Duke Kunshan University Intern (zh133@duke.edu)\\4 healthy aging-CLHLS\\Group meeting coordin\n",
      "> ation\\survival time/inter data/work.dta saved\n"
     ]
    }
   ],
   "source": [
    "global waves \"5 8 11 14\"                                                        //******need to be changed\n",
    "global year1 \"2002 2003 2005 2006 2007 2009 2010 2011 2013 2014\"\n",
    "global year2 \"2004 2008 2012\"\n",
    "global months \"4 6 9 11\"\n",
    "global wavein \"in2 in5 in8 in11 in14\"\n",
    "save \"${INTER}/work.dta\", replace"
   ]
  },
  {
   "cell_type": "code",
   "execution_count": 88,
   "metadata": {},
   "outputs": [
    {
     "name": "stdout",
     "output_type": "stream",
     "text": [
      "\n",
      "(d5vday: 0 changes made)\n",
      "(d5vmonth: 0 changes made)\n",
      "(d5vyear: 45 changes made)\n",
      "(2,866 real changes made)\n",
      "(2,578 real changes made)\n",
      "(2,638 real changes made)\n",
      "(d8vday: 2 changes made)\n",
      "(d8vmonth: 2 changes made)\n",
      "(d8vyear: 2 changes made)\n",
      "(1,344 real changes made)\n",
      "(1,235 real changes made)\n",
      "(1,305 real changes made)\n",
      "(d11vday: 18 changes made)\n",
      "(d11vmonth: 0 changes made)\n",
      "(d11vyear: 0 changes made)\n",
      "(726 real changes made)\n",
      "(667 real changes made)\n",
      "(684 real changes made)\n",
      "(d14vday: 9242 changes made)\n",
      "(d14vmonth: 9232 changes made)\n",
      "(d14vyear: 9238 changes made)\n",
      "(510 real changes made)\n",
      "(466 real changes made)\n",
      "(482 real changes made)\n",
      "\n",
      "\n",
      "(note: file F:\\Box Sync\\Archives2020LLY\\Zhengting\\Duke Kunshan University Intern (zh133@duke.edu)\\4 healthy aging-CLHLS\\Group meeting \n",
      "> coordination\\survival time/inter data/work1.dta not found)\n",
      "file F:\\Box Sync\\Archives2020LLY\\Zhengting\\Duke Kunshan University Intern (zh133@duke.edu)\\4 healthy aging-CLHLS\\Group meeting coordin\n",
      "> ation\\survival time/inter data/work1.dta saved\n"
     ]
    }
   ],
   "source": [
    "/************************************* (4) Check whether there are logical input mistakes between death status and the verified death year, month, day *************************************/\n",
    "// check whether there are logical mistakes between d*vyear d*vmonth d*vday dth**_##\n",
    "foreach i of global waves {\n",
    "    // unify missing value to \"99\"\n",
    "    recode d`i'vday(. 88=99) \n",
    "    recode d`i'vmonth(. 88=99)\n",
    "    recode d`i'vyear(. 8888 9999=99)  //no 88 for all the 4 vars\n",
    "    \n",
    "    replace d`i'vyear = 1 if d`i'vyear > 1997 & d`i'vyear < 2020\n",
    "    replace d`i'vmonth = 1 if d`i'vmonth > 0 & d`i'vmonth < 13\n",
    "    replace d`i'vday = 1 if d`i'vday > 0 & d`i'vday < 32\n",
    "    \n",
    "    bys d`i'vyear: gen fre`i'_year = _N\n",
    "    bys d`i'vmonth: gen fre`i'_month = _N\n",
    "    bys d`i'vday: gen fre`i'_day = _N\n",
    "    bys dth`i': gen fre`i'_dth = _N\n",
    "}\n",
    "label drop _all\n",
    "save \"${INTER}/work1.dta\", replace"
   ]
  },
  {
   "cell_type": "code",
   "execution_count": 89,
   "metadata": {},
   "outputs": [
    {
     "name": "stdout",
     "output_type": "stream",
     "text": [
      "\n",
      "\n",
      "Duplicates in terms of d5vyear d5vmonth d5vday dth5\n",
      "\n",
      "(9,741 observations deleted)\n",
      "(note: file F:\\Box Sync\\Archives2020LLY\\Zhengting\\Duke Kunshan University Intern (zh133@duke.edu)\\4 healthy aging-CLHLS\\Group meeting \n",
      "> coordination\\survival time/inter data/wave5.dta not found)\n",
      "file F:\\Box Sync\\Archives2020LLY\\Zhengting\\Duke Kunshan University Intern (zh133@duke.edu)\\4 healthy aging-CLHLS\\Group meeting coordin\n",
      "> ation\\survival time/inter data/wave5.dta saved\n",
      "\n",
      "Duplicates in terms of d8vyear d8vmonth d8vday dth8\n",
      "\n",
      "(9,743 observations deleted)\n",
      "(note: file F:\\Box Sync\\Archives2020LLY\\Zhengting\\Duke Kunshan University Intern (zh133@duke.edu)\\4 healthy aging-CLHLS\\Group meeting \n",
      "> coordination\\survival time/inter data/wave8.dta not found)\n",
      "file F:\\Box Sync\\Archives2020LLY\\Zhengting\\Duke Kunshan University Intern (zh133@duke.edu)\\4 healthy aging-CLHLS\\Group meeting coordin\n",
      "> ation\\survival time/inter data/wave8.dta saved\n",
      "\n",
      "Duplicates in terms of d11vyear d11vmonth d11vday dth11\n",
      "\n",
      "(9,743 observations deleted)\n",
      "(note: file F:\\Box Sync\\Archives2020LLY\\Zhengting\\Duke Kunshan University Intern (zh133@duke.edu)\\4 healthy aging-CLHLS\\Group meeting \n",
      "> coordination\\survival time/inter data/wave11.dta not found)\n",
      "file F:\\Box Sync\\Archives2020LLY\\Zhengting\\Duke Kunshan University Intern (zh133@duke.edu)\\4 healthy aging-CLHLS\\Group meeting coordin\n",
      "> ation\\survival time/inter data/wave11.dta saved\n",
      "\n",
      "Duplicates in terms of d14vyear d14vmonth d14vday dth14\n",
      "\n",
      "(9,741 observations deleted)\n",
      "(note: file F:\\Box Sync\\Archives2020LLY\\Zhengting\\Duke Kunshan University Intern (zh133@duke.edu)\\4 healthy aging-CLHLS\\Group meeting \n",
      "> coordination\\survival time/inter data/wave14.dta not found)\n",
      "file F:\\Box Sync\\Archives2020LLY\\Zhengting\\Duke Kunshan University Intern (zh133@duke.edu)\\4 healthy aging-CLHLS\\Group meeting coordin\n",
      "> ation\\survival time/inter data/wave14.dta saved\n",
      "\n",
      "\n"
     ]
    }
   ],
   "source": [
    "foreach i of global waves{\n",
    "    keep d`i'vyear d`i'vmonth d`i'vday dth`i' fre`i'_year fre`i'_month fre`i'_day fre`i'_dth \n",
    "    duplicates drop d`i'vyear d`i'vmonth d`i'vday dth`i', force \n",
    "    save \"${INTER}/wave`i'.dta\", replace\n",
    "    use \"${INTER}/work1.dta\", clear\n",
    "}\n",
    "use \"${INTER}/wave14.dta\",clear\n",
    "append using \"${INTER}/wave5.dta\" \"${INTER}/wave8.dta\" \"${INTER}/wave11.dta\""
   ]
  },
  {
   "cell_type": "code",
   "execution_count": 90,
   "metadata": {},
   "outputs": [],
   "source": [
    "browse"
   ]
  },
  {
   "cell_type": "code",
   "execution_count": 91,
   "metadata": {},
   "outputs": [],
   "source": [
    "/* The results show that, in wave0-wave11, -9, -8, 0/-7(alive) have completely the same freq, \n",
    "all missing values in d*vyear/month/day occur only when dth*=1(died). Only in wave14, all is missing in d14vyear/month/day when dth14=-9/-8/0. \n",
    "There is no logical mistakes between the 4 vars.*/"
   ]
  },
  {
   "cell_type": "code",
   "execution_count": 92,
   "metadata": {},
   "outputs": [
    {
     "name": "stdout",
     "output_type": "stream",
     "text": [
      "\n",
      "\n",
      "\n",
      "  status of |\n",
      "  survival, |\n",
      "  death, or |\n",
      "    lost to |\n",
      "  follow-up |\n",
      "   from the |\n",
      "    2002 to |\n",
      " 2005 waves |      Freq.     Percent        Cum.\n",
      "------------+-----------------------------------\n",
      "         -9 |      1,292       13.25       13.25\n",
      "          0 |      5,545       56.88       70.14\n",
      "          1 |      2,911       29.86      100.00\n",
      "------------+-----------------------------------\n",
      "      Total |      9,748      100.00\n",
      "\n",
      "  status of |\n",
      "  survival, |\n",
      "  death, or |\n",
      "    lost to |\n",
      "  follow-up |\n",
      "   from the |\n",
      "    2005 to |\n",
      " 2008 waves |      Freq.     Percent        Cum.\n",
      "------------+-----------------------------------\n",
      "         -9 |        958       17.28       17.28\n",
      "          0 |      3,241       58.45       75.73\n",
      "          1 |      1,346       24.27      100.00\n",
      "------------+-----------------------------------\n",
      "      Total |      5,545      100.00\n",
      "\n",
      "  status of |\n",
      "  survival, |\n",
      "  death, or |\n",
      "    lost to |\n",
      "  follow-up |\n",
      "  from 2008 |\n",
      "    to 2011 |\n",
      "      waves |      Freq.     Percent        Cum.\n",
      "------------+-----------------------------------\n",
      "         -9 |        365       11.26       11.26\n",
      "          0 |      2,150       66.34       77.60\n",
      "          1 |        726       22.40      100.00\n",
      "------------+-----------------------------------\n",
      "      Total |      3,241      100.00\n",
      "\n",
      "  status of |\n",
      "  survival, |\n",
      "  death, or |\n",
      "    lost to |\n",
      "  follow-up |\n",
      "       from |\n",
      "  2011/2012 |\n",
      "    to 2014 |\n",
      "      waves |      Freq.     Percent        Cum.\n",
      "------------+-----------------------------------\n",
      "         -9 |         96        4.47        4.47\n",
      "          0 |      1,538       71.53       76.00\n",
      "          1 |        516       24.00      100.00\n",
      "------------+-----------------------------------\n",
      "      Total |      2,150      100.00\n"
     ]
    }
   ],
   "source": [
    "// tabulate the lost,died and alive number for each wave\n",
    "use \"${INTER}/work1.dta\",clear\n",
    "foreach i of global waves{\n",
    "    tabulate dth`i' if dth`i' !=-8\n",
    "}"
   ]
  },
  {
   "cell_type": "code",
   "execution_count": 93,
   "metadata": {},
   "outputs": [],
   "source": [
    "foreach i of global waves{\n",
    "    erase \"${INTER}/wave`i'.dta\"\n",
    "}\n",
    "erase \"${INTER}/work1.dta\""
   ]
  },
  {
   "cell_type": "code",
   "execution_count": 94,
   "metadata": {},
   "outputs": [
    {
     "name": "stdout",
     "output_type": "stream",
     "text": [
      "\n",
      "\n",
      "(d5vday: 0 changes made)\n",
      "(d5vmonth: 0 changes made)\n",
      "(d5vyear: 0 changes made)\n",
      "(d8vday: 2 changes made)\n",
      "(d8vmonth: 2 changes made)\n",
      "(d8vyear: 2 changes made)\n",
      "(d11vday: 18 changes made)\n",
      "(d11vmonth: 0 changes made)\n",
      "(d11vyear: 0 changes made)\n",
      "(d14vday: 9242 changes made)\n",
      "(d14vmonth: 9232 changes made)\n",
      "(d14vyear: 9238 changes made)\n"
     ]
    }
   ],
   "source": [
    "/********************************************************************************************************************/\n",
    "/************************************* II. Replacement of NA and input mistakes *************************************/\n",
    "/********************************************************************************************************************/\n",
    "\n",
    "use \"${INTER}/work.dta\", clear\n",
    "/*change all . to 99 for month&day, . to 9999 for year*/\n",
    "foreach a of global waves {\n",
    "    recode d`a'vday (. = 99) \n",
    "    recode d`a'vmonth (. = 99)\n",
    "    recode d`a'vyear (. = 9999)\n",
    "}"
   ]
  },
  {
   "cell_type": "code",
   "execution_count": 95,
   "metadata": {},
   "outputs": [
    {
     "name": "stdout",
     "output_type": "stream",
     "text": [
      "\n",
      "year9899 not found\n",
      "\n",
      "day_0 not found\n",
      "\n",
      "(4 missing values generated)\n",
      "\n",
      "(4,203 missing values generated)\n",
      "\n",
      "(6,507 missing values generated)\n",
      "\n",
      "(7,597 missing values generated)\n",
      "\n",
      "(8,210 missing values generated)\n"
     ]
    }
   ],
   "source": [
    "****calculate the mid-point between the last interview date of the previous wave and the first interview date of the next wave\n",
    "capture noisily gen in98 = mdy(month98, date98, year9899)                            \n",
    "capture noisily gen in0 = mdy(month_0, day_0, 2000)\n",
    "capture noisily gen in2 = mdy(month02, day02, 2002)                                 //******need to be changed\n",
    "capture noisily gen in5 = mdy(month_5, day_5, 2005)\n",
    "capture noisily gen in8 = mdy(month_8, day_8, year_8)\n",
    "gen in11 = mdy(monthin_11, dayin_11, yearin_11)\n",
    "gen in14 = mdy(monthin_14, dayin_14, yearin_14) "
   ]
  },
  {
   "cell_type": "code",
   "execution_count": 96,
   "metadata": {},
   "outputs": [],
   "source": [
    "forv i=1/4 {                                                                     //******need to be changed                                               \n",
    "    local wavein2 = word(\"$wavein\", `i')\n",
    "         egen min_`wavein2' = min(`wavein2')\n",
    "         egen max_`wavein2' = max(`wavein2')\n",
    "    local j = `i'+1\n",
    "    local wavein3 = word(\"$wavein\", `j')\n",
    "         egen min_`wavein3' = min(`wavein3')\n",
    "         egen max_`wavein3' = max(`wavein3')\n",
    "    gen mid_`wavein2'_`wavein3' = (max_`wavein2' + min_`wavein3')/2\n",
    "    gen midyear_`wavein2'_`wavein3' = year(mid_`wavein2'_`wavein3')\n",
    "    gen midmonth_`wavein2'_`wavein3' = month(mid_`wavein2'_`wavein3')\n",
    "    gen midday_`wavein2'_`wavein3' = day(mid_`wavein2'_`wavein3')\n",
    "drop min_`wavein3' max_`wavein3'\n",
    "}"
   ]
  },
  {
   "cell_type": "code",
   "execution_count": 97,
   "metadata": {},
   "outputs": [
    {
     "name": "stdout",
     "output_type": "stream",
     "text": [
      "\n",
      "\n",
      "(193 real changes made)\n",
      "(51 real changes made)\n",
      "(45 real changes made)\n",
      "(d5vday: 0 changes made)\n",
      "(d5vmonth: 0 changes made)\n",
      "(2 real changes made)\n",
      "(2 real changes made)\n",
      "(2 real changes made)\n",
      "(d8vday: 0 changes made)\n",
      "(d8vmonth: 0 changes made)\n",
      "(18 real changes made)\n",
      "(0 real changes made)\n",
      "(0 real changes made)\n",
      "(d11vday: 0 changes made)\n",
      "(d11vmonth: 0 changes made)\n",
      "(10 real changes made)\n",
      "(0 real changes made)\n",
      "(6 real changes made)\n",
      "(d14vday: 0 changes made)\n",
      "(d14vmonth: 0 changes made)\n"
     ]
    }
   ],
   "source": [
    "/************************************* (5) Replacement of the missing death date according to Rule 1 *************************************/\n",
    "* Rule 1:\n",
    "* For the three variables, year, month, and day:\n",
    "* a. if only month is missing, the month is assumed to be July;\n",
    "* b. if only day is missing, the day is assumed to be 15;\n",
    "* c. for the rest of all the scenarios, the year/month/day is assumed to be that of the mid-point between the last interview date of the previous wave and\n",
    "* the first interview date of the next wave. (these scenarios inc, all the three variables are missing, or any two variables are missing, or only year is\n",
    "* missing.)\n",
    "local j = 1\n",
    "foreach i of global waves { \n",
    "    local inid = word(\"$wavein\",`j')\n",
    "        replace d`i'vday = midday_`inid'_in`i' if d`i'vday == 99 & dth`i' == 1\n",
    "        replace d`i'vmonth = midmonth_`inid'_in`i' if d`i'vmonth == 99 & dth`i' == 1\n",
    "        replace d`i'vyear = midyear_`inid'_in`i' if d`i'vyear == 9999 & dth`i' == 1\n",
    "      \n",
    "        recode d`i'vday (99 = 15) if d`i'vmonth != 99 & d`i'vyear != 9999 & dth`i' == 1 \n",
    "        recode d`i'vmonth (99 = 7) if d`i'vday != 99 & d`i'vyear != 9999 & dth`i' == 1 \n",
    "    \n",
    "    local j = `j'+1\n",
    "}"
   ]
  },
  {
   "cell_type": "code",
   "execution_count": 98,
   "metadata": {},
   "outputs": [
    {
     "name": "stdout",
     "output_type": "stream",
     "text": [
      "\n",
      "(d5vday: 0 changes made)\n",
      "(d5vday: 1 changes made)\n",
      "(d5vday: 1 changes made)\n",
      "(d5vday: 0 changes made)\n",
      "(d5vday: 0 changes made)\n",
      "(d5vday: 0 changes made)\n",
      "(d5vday: 0 changes made)\n",
      "(d5vday: 0 changes made)\n",
      "(d5vday: 0 changes made)\n",
      "(d5vday: 0 changes made)\n",
      "(d5vday: 0 changes made)\n",
      "(d5vday: 0 changes made)\n",
      "(d5vday: 0 changes made)\n",
      "(d5vday: 0 changes made)\n",
      "(d5vday: 0 changes made)\n",
      "(d5vday: 0 changes made)\n",
      "(d5vday: 1 changes made)\n",
      "(d8vday: 0 changes made)\n",
      "(d8vday: 0 changes made)\n",
      "(d8vday: 0 changes made)\n",
      "(d8vday: 0 changes made)\n",
      "(d8vday: 0 changes made)\n",
      "(d8vday: 0 changes made)\n",
      "(d8vday: 0 changes made)\n",
      "(d8vday: 0 changes made)\n",
      "(d8vday: 0 changes made)\n",
      "(d8vday: 0 changes made)\n",
      "(d8vday: 0 changes made)\n",
      "(d8vday: 0 changes made)\n",
      "(d8vday: 0 changes made)\n",
      "(d8vday: 0 changes made)\n",
      "(d8vday: 0 changes made)\n",
      "(d8vday: 0 changes made)\n",
      "(d8vday: 0 changes made)\n",
      "(d11vday: 0 changes made)\n",
      "(d11vday: 0 changes made)\n",
      "(d11vday: 0 changes made)\n",
      "(d11vday: 0 changes made)\n",
      "(d11vday: 0 changes made)\n",
      "(d11vday: 0 changes made)\n",
      "(d11vday: 0 changes made)\n",
      "(d11vday: 0 changes made)\n",
      "(d11vday: 0 changes made)\n",
      "(d11vday: 0 changes made)\n",
      "(d11vday: 0 changes made)\n",
      "(d11vday: 0 changes made)\n",
      "(d11vday: 0 changes made)\n",
      "(d11vday: 0 changes made)\n",
      "(d11vday: 0 changes made)\n",
      "(d11vday: 0 changes made)\n",
      "(d11vday: 0 changes made)\n",
      "(d14vday: 0 changes made)\n",
      "(d14vday: 0 changes made)\n",
      "(d14vday: 0 changes made)\n",
      "(d14vday: 0 changes made)\n",
      "(d14vday: 0 changes made)\n",
      "(d14vday: 0 changes made)\n",
      "(d14vday: 0 changes made)\n",
      "(d14vday: 0 changes made)\n",
      "(d14vday: 0 changes made)\n",
      "(d14vday: 1 changes made)\n",
      "(d14vday: 0 changes made)\n",
      "(d14vday: 0 changes made)\n",
      "(d14vday: 0 changes made)\n",
      "(d14vday: 0 changes made)\n",
      "(d14vday: 0 changes made)\n",
      "(d14vday: 0 changes made)\n",
      "(d14vday: 0 changes made)\n"
     ]
    }
   ],
   "source": [
    "/************************************* (6) Modify input mistakes of death date according to Rule 2 *************************************/\n",
    "* Rule 2:\n",
    "* a. change day 29/max of Feb to 28 for years 99, 01, 02, 03, 05, 06, 07, 09, 10, 11, 13, 14 (non-leap year);\n",
    "* b. change day 30/max of Feb to 29 for years 00, 04, 08, 12 (leap year);\n",
    "* c. change day 31 to 30 for months 4, 6, 9, 11\n",
    "foreach i of global waves{\n",
    "    foreach year of global year1{\n",
    "        recode d`i'vday (29/max=28) if d`i'vyear == `year' & d`i'vmonth == 2\n",
    "    }\n",
    "    foreach year of global year2{\n",
    "        recode d`i'vday (30/max=29) if d`i'vyear == `year' & d`i'vmonth == 2\n",
    "    }\n",
    "    foreach month of global months{\n",
    "        recode d`i'vday (31=30) if d`i'vmonth == `month'\n",
    "    }\n",
    "}"
   ]
  },
  {
   "cell_type": "code",
   "execution_count": 99,
   "metadata": {},
   "outputs": [
    {
     "name": "stdout",
     "output_type": "stream",
     "text": [
      "(day02: 1 changes made)\n"
     ]
    }
   ],
   "source": [
    "/****************************************************************************************************************************************/\n",
    "/************************************* III. calculating survival time, censor and lost to follow-up *************************************/\n",
    "/****************************************************************************************************************************************/\n",
    "\n",
    "/************************************* (7) Replacement of the missing interview baseline date according to Rule 3 *************************************/\n",
    "* Rule 3:\n",
    "* a. if only the interview day is missing, then the day is assumed to be 15th\n",
    "* b. if both month and day are missing and the year isn't missing, or only the month is missing, the month/day is assumed to be that of the mid-point between the earliest interview date\n",
    "* and the latest interiew date of that year\n",
    "* c. no interview year is missing\n",
    "\n",
    "recode day02 (99=15) if month02 != 99                                             //******need to be changed                                               "
   ]
  },
  {
   "cell_type": "code",
   "execution_count": 100,
   "metadata": {},
   "outputs": [
    {
     "name": "stdout",
     "output_type": "stream",
     "text": [
      "\n",
      "(day02: 0 changes made)\n",
      "\n",
      "(day02: 0 changes made)\n",
      "(day02: 3 changes made)\n",
      "(day02: 0 changes made)\n",
      "(day02: 0 changes made)\n"
     ]
    }
   ],
   "source": [
    "/************************************* (8) Modify input mistakes of interview baseline date according to Rule 2 *************************************/\n",
    "* Rule 2:\n",
    "* a. change day 29/max of Feb to 28 for years 99, 01, 02, 03, 05, 06, 07, 09, 10, 11, 13, 14 (non-leap year);\n",
    "* b. change day 30/max of Feb to 29 for years 00, 04, 08, 12 (leap year);\n",
    "* c. change day 31 to 30 for months 4, 6, 9, 11\n",
    "recode day02 (29/max=28) if month02 == 2\n",
    "\n",
    "foreach month of global months{\n",
    "    recode day02 (31=30) if month02 == `month'\n",
    "}"
   ]
  },
  {
   "cell_type": "code",
   "execution_count": 101,
   "metadata": {},
   "outputs": [],
   "source": [
    "****set interview baseline\n",
    "**codebook on interview date variables\n",
    "* date00: day of interview of the 2000 survey; 1~31, 99=missing\n",
    "* month00: month of the interview of the 2000 survey*; 1~12, 99=missing\n",
    "gen interview_baseline = mdy(month02, day02, 2002)                                  //******need to be changed      "
   ]
  },
  {
   "cell_type": "code",
   "execution_count": 102,
   "metadata": {},
   "outputs": [
    {
     "name": "stdout",
     "output_type": "stream",
     "text": [
      "\n",
      "(9,748 missing values generated)\n",
      "\n",
      "(9,748 missing values generated)\n",
      "\n",
      "(9,748 missing values generated)\n",
      "\n",
      "(9,748 missing values generated)\n",
      "\n",
      "(9,748 missing values generated)\n"
     ]
    }
   ],
   "source": [
    "/************************************* (9) Calculate survival time for each person according to Rule 4 *************************************/\n",
    "* Rule 4:\n",
    "* Generate two different survival time (**for data sets with suffix_14**):\n",
    "\n",
    "* One is `survival_bas', from interview baseline to death or censored, **up to 2014 wave**.\n",
    "* a. For those died in the study: survival time = death date - interview date at baseline;\n",
    "* b. For those lost in the study: survival time = the mid-point of the two adjacent waves - interview date at baseline;\n",
    "* (the mid-point of the two adjacent waves is generated according to Rule 1)\n",
    "* c. For those still alive at the end of the study: survival time = interview date in the last wave - interview date at baseline;\n",
    "* d. If survival_bas < 0, change survival time to 0.\n",
    "\n",
    "* Another one is `survival_bth', from birth to death or censored, **up to 2014 wave**.\n",
    "* e. survival_bth = survival_bas + verified age (*trueage*)\n",
    "\n",
    "* Variables for death/lost status\n",
    "* `censor' is coded as: 1 = died, 0 = not died (alive or lost);\n",
    "* `lost' is coed as: 1 = lost, . = not lost\n",
    "\n",
    "* gen survival_bas,means the years from baseline to death or censored\n",
    "* generate dthyear/month/day, means the exact death year/month/day of those who died during the whole period (2000-2014)\n",
    "* gen lostdate, means the lost date for those lost in the survey, and equals to the mid-point of last day of the previous interview and the first day of the next one\n",
    "\n",
    "gen dthyear = .\n",
    "gen dthmonth = .\n",
    "gen dthday = .\n",
    "gen lostdate = .\n",
    "gen survival_bas = ."
   ]
  },
  {
   "cell_type": "code",
   "execution_count": 103,
   "metadata": {},
   "outputs": [
    {
     "name": "stdout",
     "output_type": "stream",
     "text": [
      "\n",
      "\n",
      "(2,911 real changes made)\n",
      "(2,911 real changes made)\n",
      "(2,911 real changes made)\n",
      "(1,292 real changes made)\n",
      "(1,346 real changes made)\n",
      "(1,346 real changes made)\n",
      "(1,346 real changes made)\n",
      "(958 real changes made)\n",
      "(726 real changes made)\n",
      "(726 real changes made)\n",
      "(726 real changes made)\n",
      "(365 real changes made)\n",
      "(516 real changes made)\n",
      "(516 real changes made)\n",
      "(516 real changes made)\n",
      "(96 real changes made)\n"
     ]
    }
   ],
   "source": [
    "local j=1\n",
    "foreach i of global waves {\n",
    "    replace dthyear = d`i'vyear if d`i'vyear > 0 & d`i'vyear < 2020\n",
    "    replace dthmonth = d`i'vmonth if d`i'vmonth > 0 & d`i'vmonth < 13\n",
    "    replace dthday = d`i'vday if d`i'vday > 0 & d`i'vday < 32\n",
    "local inid = word(\"$wavein\", `j')\n",
    "    replace lostdate = mdy(midmonth_`inid'_in`i', midday_`inid'_in`i', midyear_`inid'_in`i') if dth`i' == -9\n",
    "local j = `j' + 1\n",
    "}"
   ]
  },
  {
   "cell_type": "code",
   "execution_count": 104,
   "metadata": {},
   "outputs": [
    {
     "name": "stdout",
     "output_type": "stream",
     "text": [
      "\n",
      "(4,249 missing values generated)\n",
      "\n",
      "(5,499 real changes made)\n",
      "\n",
      "\n",
      "(5,499 real changes made)\n"
     ]
    }
   ],
   "source": [
    "gen dthdate = mdy(dthmonth, dthday, dthyear)\n",
    "replace survival_bas = (dthdate - interview_baseline)/365.25\n",
    "gen censor = 0\n",
    "replace censor = 1 if survival_bas != .  //generate censor=1 if die, censor=0 if survived until end of the wave or lost to follow"
   ]
  },
  {
   "cell_type": "code",
   "execution_count": 105,
   "metadata": {},
   "outputs": [
    {
     "name": "stdout",
     "output_type": "stream",
     "text": [
      "\n",
      "(2,711 real changes made)\n",
      "\n",
      "\n",
      "(7,037 real changes made, 7,037 to missing)\n"
     ]
    }
   ],
   "source": [
    "replace survival_bas = (lostdate - interview_baseline)/365.25 if lostdate != .\n",
    "gen lost = 1\n",
    "replace lost = . if lostdate == ."
   ]
  },
  {
   "cell_type": "code",
   "execution_count": 106,
   "metadata": {},
   "outputs": [
    {
     "name": "stdout",
     "output_type": "stream",
     "text": [
      "\n",
      "(8,210 missing values generated)\n",
      "\n",
      "(1,538 real changes made)\n"
     ]
    }
   ],
   "source": [
    "gen interview2014 = mdy(monthin_14, dayin_14, yearin_14) if dth14 == 0\n",
    "replace survival_bas = (interview2014 - interview_baseline)/365.25 if interview2014 != ."
   ]
  },
  {
   "cell_type": "code",
   "execution_count": 107,
   "metadata": {},
   "outputs": [
    {
     "name": "stdout",
     "output_type": "stream",
     "text": [
      "\n",
      "\n",
      "    Variable |        Obs        Mean    Std. Dev.       Min        Max\n",
      "-------------+---------------------------------------------------------\n",
      "survival_bas |      9,748     5.19112     4.01968  -.0574949   12.60507\n",
      "\n",
      "(11 real changes made)\n",
      "\n",
      "\n",
      "\n"
     ]
    }
   ],
   "source": [
    "**************replace the survival time to 0 for those whose survival was negative\n",
    "sum survival_bas\n",
    "* gen survival_bth,means the years from birth to death or censored\n",
    "replace survival_bas = 0 if survival_bas < 0  \n",
    "* gen survival_bth,means the years from birth to death or censored\n",
    "gen survival_bth = survival_bas + trueage                                                            \n",
    "erase \"${INTER}/work.dta\"\n",
    "macro drop _all"
   ]
  },
  {
   "cell_type": "code",
   "execution_count": 113,
   "metadata": {},
   "outputs": [
    {
     "name": "stdout",
     "output_type": "stream",
     "text": [
      "(note: variable id was long, now double to accommodate using data's values)\n",
      "\n",
      "    Result                           # of obs.\n",
      "    -----------------------------------------\n",
      "    not matched                        13,862\n",
      "        from master                     8,209  (_merge==1)\n",
      "        from using                      5,653  (_merge==2)\n",
      "\n",
      "    matched                             1,539  (_merge==3)\n",
      "    -----------------------------------------\n"
     ]
    }
   ],
   "source": [
    "/************************************* (10) calc survival time to 2018 *************************************/\n",
    "\n",
    "merge 1:1 id using \"${OUT}/dat14_18surtime.dta\", keepus(id survival_bas14_18 survival_bth14_18 censor14_18 lost14_18) nolabel //47, 96, 1110, 821 merged for dat98/00/05/11_14"
   ]
  },
  {
   "cell_type": "code",
   "execution_count": 114,
   "metadata": {},
   "outputs": [],
   "source": [
    "ren (survival_bas survival_bth lost censor) (survival_bas02_14 survival_bth02_14 lost02_14 censor02_14)"
   ]
  },
  {
   "cell_type": "code",
   "execution_count": 115,
   "metadata": {},
   "outputs": [
    {
     "name": "stdout",
     "output_type": "stream",
     "text": [
      "\n",
      "(5,653 missing values generated)\n",
      "\n",
      "(1,538 real changes made)\n",
      "\n",
      "already preserved\n"
     ]
    },
    {
     "name": "stderr",
     "output_type": "stream",
     "text": [
      "r(621);\n",
      "r(621);\n"
     ]
    },
    {
     "name": "stdout",
     "output_type": "stream",
     "text": [
      "\n",
      "\n"
     ]
    }
   ],
   "source": [
    "gen survival_bas02_18 = survival_bas02_14\n",
    "replace survival_bas02_18 = survival_bas02_14 + survival_bas14_18 if censor02_14 == 0 & _merge == 3  //1538 replaced, one died in 2011.6.30, but was recorded as missing in d18vyear/month/day, so no need to be changed\n",
    "preserve"
   ]
  },
  {
   "cell_type": "code",
   "execution_count": 116,
   "metadata": {},
   "outputs": [
    {
     "name": "stdout",
     "output_type": "stream",
     "text": [
      "\n",
      "(15,400 observations deleted)\n",
      "\n",
      "4545400220116309.1964408.1d18vyear not found\n"
     ]
    },
    {
     "name": "stderr",
     "output_type": "stream",
     "text": [
      "r(111);\n",
      "r(111);\n"
     ]
    },
    {
     "name": "stdout",
     "output_type": "stream",
     "text": [
      "\n",
      "\n"
     ]
    }
   ],
   "source": [
    "    keep if censor02_14==1 & _merge==3\n",
    "\tdisplay id dthyear dthmonth dthday survival_bas02_14 lost02_14 censor02_14 d18vyear d18vmonth d18vday survival_bas14_18\n",
    "restore"
   ]
  },
  {
   "cell_type": "code",
   "execution_count": 117,
   "metadata": {},
   "outputs": [
    {
     "name": "stdout",
     "output_type": "stream",
     "text": [
      "\n",
      "\n",
      "(0 real changes made)\n"
     ]
    }
   ],
   "source": [
    "gen survival_bth02_18 = survival_bth02_14\n",
    "replace survival_bth02_18 = survival_bth02_14 + survival_bas14_18 if censor02_14 == 0 & _merge == 3"
   ]
  },
  {
   "cell_type": "code",
   "execution_count": 118,
   "metadata": {},
   "outputs": [
    {
     "name": "stdout",
     "output_type": "stream",
     "text": [
      "\n",
      "\n",
      "(0 real changes made)\n"
     ]
    }
   ],
   "source": [
    "gen censor02_18 = censor02_14\n",
    "replace censor02_18 = censor14_18 if _merge == 3 & id !=45454002  //427 died between 2014 and 2018"
   ]
  },
  {
   "cell_type": "code",
   "execution_count": 119,
   "metadata": {},
   "outputs": [
    {
     "name": "stdout",
     "output_type": "stream",
     "text": [
      "\n",
      "(1 missing value generated)\n",
      "\n",
      "(0 real changes made)\n"
     ]
    }
   ],
   "source": [
    "gen lost02_18 = lost02_14\n",
    "replace lost02_18 = lost14_18 if _merge==3 & id != 45454002  //351 lost between 2014 and 2018"
   ]
  },
  {
   "cell_type": "code",
   "execution_count": 120,
   "metadata": {},
   "outputs": [
    {
     "name": "stdout",
     "output_type": "stream",
     "text": [
      "\n",
      "(0 observations deleted)\n",
      "\n"
     ]
    }
   ],
   "source": [
    "drop if _merge==2\n",
    "drop _merge"
   ]
  },
  {
   "cell_type": "code",
   "execution_count": 121,
   "metadata": {},
   "outputs": [
    {
     "name": "stdout",
     "output_type": "stream",
     "text": [
      "(note: file F:\\Box Sync\\Archives2020LLY\\Zhengting\\Duke Kunshan University Intern (zh133@duke.edu)\\4 healthy aging-CLHLS\\Group meeting \n",
      "> coordination\\survival time/out data/dat02_18surtime.dta not found)\n",
      "file F:\\Box Sync\\Archives2020LLY\\Zhengting\\Duke Kunshan University Intern (zh133@duke.edu)\\4 healthy aging-CLHLS\\Group meeting coordin\n",
      "> ation\\survival time/out data/dat02_18surtime.dta saved\n"
     ]
    }
   ],
   "source": [
    "save \"${OUT}/dat02_18surtime.dta\", replace"
   ]
  }
 ],
 "metadata": {
  "kernelspec": {
   "display_name": "Stata",
   "language": "stata",
   "name": "stata"
  },
  "language_info": {
   "codemirror_mode": "stata",
   "file_extension": ".do",
   "mimetype": "text/x-stata",
   "name": "stata",
   "version": "15.1"
  }
 },
 "nbformat": 4,
 "nbformat_minor": 4
}
