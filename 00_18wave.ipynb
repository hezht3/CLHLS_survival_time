{
 "cells": [
  {
   "cell_type": "code",
   "execution_count": 48,
   "metadata": {},
   "outputs": [],
   "source": [
    "* Zhengting (Johnathan) He\n",
    "* May 8th, 2021\n",
    "* healthy-aging project\n",
    "* Verify Yaxi's code on generting survival time: 98_14wave.do"
   ]
  },
  {
   "cell_type": "code",
   "execution_count": 78,
   "metadata": {},
   "outputs": [],
   "source": [
    "// set working directories\n",
    "global root \"F:\\Box Sync\\Archives2020LLY\\Zhengting\\Duke Kunshan University Intern (zh133@duke.edu)\\4 healthy aging-CLHLS\\Group meeting coordination\\survival time\"\n",
    "* define path for data sources\n",
    "global RAW \"${root}/raw data\"\n",
    "* define path for output data\n",
    "global OUT \"${root}/out data\"\n",
    "* define path for INTERMEDIATE\n",
    "global INTER \"${root}/inter data\""
   ]
  },
  {
   "cell_type": "code",
   "execution_count": 50,
   "metadata": {},
   "outputs": [
    {
     "name": "stdout",
     "output_type": "stream",
     "text": [
      "\n",
      "\n",
      "\n",
      "(4,831 observations deleted)\n"
     ]
    }
   ],
   "source": [
    "/*********************************************************************************************************************/\n",
    "/************************************* I. logical check on death status and date *************************************/\n",
    "/*********************************************************************************************************************/\n",
    "\n",
    "/************************************* (1) Extract new added data at current wave *************************************/\n",
    "use \"${RAW}/2000_2014_longitudinal_dataset_released_version1.dta\", clear\n",
    "gen int id_year=mod(id,100)\n",
    "keep if id_year==0 //6368 obs"
   ]
  },
  {
   "cell_type": "code",
   "execution_count": 51,
   "metadata": {},
   "outputs": [
    {
     "name": "stdout",
     "output_type": "stream",
     "text": [
      "\n",
      "\n",
      "--------------------------------------------------------------------------------------------------------------------------------------\n",
      "d2vyear                                                                                                        validated year of death\n",
      "--------------------------------------------------------------------------------------------------------------------------------------\n",
      "\n",
      "                  type:  numeric (int)\n",
      "                 label:  d2vyear, but 3 nonmissing values are not labeled\n",
      "\n",
      "                 range:  [-9,2002]                    units:  1\n",
      "         unique values:  5                        missing .:  0/6,368\n",
      "\n",
      "            tabulation:  Freq.   Numeric  Label\n",
      "                           956        -9  lost to follow-up in the 2002\n",
      "                                          survey\n",
      "                         3,673        -7  the deceased persons only, not\n",
      "                                          applicable to survivors\n",
      "                           335      2000  \n",
      "                         1,066      2001  \n",
      "                           338      2002  \n",
      "\n",
      "--------------------------------------------------------------------------------------------------------------------------------------\n",
      "d5vyear                                                                                  validated year of death of the sampled person\n",
      "--------------------------------------------------------------------------------------------------------------------------------------\n",
      "\n",
      "                  type:  numeric (int)\n",
      "                 label:  d5vyear, but 4 nonmissing values are not labeled\n",
      "\n",
      "                 range:  [-9,9999]                    units:  1\n",
      "         unique values:  8                        missing .:  0/6,368\n",
      "\n",
      "            tabulation:  Freq.   Numeric  Label\n",
      "                           440        -9  lost to follow-up in the 2005\n",
      "                                          survey\n",
      "                         2,695        -8  died or lost to follow-up in\n",
      "                                          previous waves\n",
      "                         1,577        -7  the deceased persons only, not\n",
      "                                          applicable to survivors\n",
      "                           245      2002  \n",
      "                           627      2003  \n",
      "                           586      2004  \n",
      "                           173      2005  \n",
      "                            25      9999  missing\n",
      "\n",
      "--------------------------------------------------------------------------------------------------------------------------------------\n",
      "d8vyear                                                                                  validated year of death of the sampled person\n",
      "--------------------------------------------------------------------------------------------------------------------------------------\n",
      "\n",
      "                  type:  numeric (int)\n",
      "\n",
      "                 range:  [-9,2008]                    units:  1\n",
      "         unique values:  7                        missing .:  0/6,368\n",
      "\n",
      "            tabulation:  Freq.  Value\n",
      "                           291  -9\n",
      "                         4,791  -8\n",
      "                           592  -7\n",
      "                            96  2005\n",
      "                           249  2006\n",
      "                           262  2007\n",
      "                            87  2008\n",
      "\n",
      "--------------------------------------------------------------------------------------------------------------------------------------\n",
      "d11vyear                                                                                 validated year of death of the sampled person\n",
      "--------------------------------------------------------------------------------------------------------------------------------------\n",
      "\n",
      "                  type:  numeric (int)\n",
      "                 label:  d11vyear, but 4 nonmissing values are not labeled\n",
      "\n",
      "                 range:  [-9,2011]                    units:  1\n",
      "         unique values:  7                        missing .:  0/6,368\n",
      "\n",
      "            tabulation:  Freq.   Numeric  Label\n",
      "                            76        -9  lost to follow-up in the 2011\n",
      "                                          survey\n",
      "                         5,776        -8  died or lost to follow-up in\n",
      "                                          previous waves\n",
      "                           235        -7  for deceased, not applicable for\n",
      "                                          survivors\n",
      "                            54      2008  \n",
      "                            93      2009  \n",
      "                            88      2010  \n",
      "                            46      2011  \n",
      "\n",
      "--------------------------------------------------------------------------------------------------------------------------------------\n",
      "d14vyear                                                                                 validated year of death of the sampled person\n",
      "--------------------------------------------------------------------------------------------------------------------------------------\n",
      "\n",
      "                  type:  numeric (int)\n",
      "                 label:  d14vyear, but 4 nonmissing values are not labeled\n",
      "\n",
      "                 range:  [2011,2014]                  units:  1\n",
      "         unique values:  4                        missing .:  6,243/6,368\n",
      "\n",
      "            tabulation:  Freq.   Numeric  Label\n",
      "                            13      2011  \n",
      "                            54      2012  \n",
      "                            40      2013  \n",
      "                            18      2014  \n",
      "                         6,243         .  \n",
      "\n",
      "--------------------------------------------------------------------------------------------------------------------------------------\n",
      "d2vmonth                                                                                                      validated month of death\n",
      "--------------------------------------------------------------------------------------------------------------------------------------\n",
      "\n",
      "                  type:  numeric (byte)\n",
      "                 label:  d2vmonth, but 12 nonmissing values are not labeled\n",
      "\n",
      "                 range:  [-9,12]                      units:  1\n",
      "         unique values:  14                       missing .:  0/6,368\n",
      "\n",
      "              examples:  -7    the deceased persons only, not applicable to survivors\n",
      "                         -7    the deceased persons only, not applicable to survivors\n",
      "                         -7    the deceased persons only, not applicable to survivors\n",
      "                         3     \n",
      "\n",
      "--------------------------------------------------------------------------------------------------------------------------------------\n",
      "d5vmonth                                                                                validated month of death of the sampled person\n",
      "--------------------------------------------------------------------------------------------------------------------------------------\n",
      "\n",
      "                  type:  numeric (byte)\n",
      "                 label:  d5vmonth, but 12 nonmissing values are not labeled\n",
      "\n",
      "                 range:  [-9,99]                      units:  1\n",
      "         unique values:  16                       missing .:  0/6,368\n",
      "\n",
      "              examples:  -8    died or lost to follow-up in previous waves\n",
      "                         -8    died or lost to follow-up in previous waves\n",
      "                         -7    the deceased persons only, not applicable to survivors\n",
      "                         3     \n",
      "\n",
      "--------------------------------------------------------------------------------------------------------------------------------------\n",
      "d8vmonth                                                                                validated month of death of the sampled person\n",
      "--------------------------------------------------------------------------------------------------------------------------------------\n",
      "\n",
      "                  type:  numeric (byte)\n",
      "\n",
      "                 range:  [-9,12]                      units:  1\n",
      "         unique values:  15                       missing .:  0/6,368\n",
      "\n",
      "                  mean:  -6.35883\n",
      "              std. dev:   4.69706\n",
      "\n",
      "           percentiles:        10%       25%       50%       75%       90%\n",
      "                                -8        -8        -8        -8         2\n",
      "\n",
      "--------------------------------------------------------------------------------------------------------------------------------------\n",
      "d11vmonth                                                                               validated month of death of the sampled person\n",
      "--------------------------------------------------------------------------------------------------------------------------------------\n",
      "\n",
      "                  type:  numeric (byte)\n",
      "                 label:  d11vmonth, but 12 nonmissing values are not labeled\n",
      "\n",
      "                 range:  [-9,12]                      units:  1\n",
      "         unique values:  15                       missing .:  0/6,368\n",
      "\n",
      "              examples:  -8    died or lost to follow-up in previous waves\n",
      "                         -8    died or lost to follow-up in previous waves\n",
      "                         -8    died or lost to follow-up in previous waves\n",
      "                         -8    died or lost to follow-up in previous waves\n",
      "\n",
      "--------------------------------------------------------------------------------------------------------------------------------------\n",
      "d14vmonth                                                                               validated month of death of the sampled person\n",
      "--------------------------------------------------------------------------------------------------------------------------------------\n",
      "\n",
      "                  type:  numeric (byte)\n",
      "                 label:  d14vmonth, but 12 nonmissing values are not labeled\n",
      "\n",
      "                 range:  [1,12]                       units:  1\n",
      "         unique values:  12                       missing .:  6,242/6,368\n",
      "\n",
      "              examples:  .     \n",
      "                         .     \n",
      "                         .     \n",
      "                         .     \n",
      "\n",
      "--------------------------------------------------------------------------------------------------------------------------------------\n",
      "d2vday                                                                                                          validated day of death\n",
      "--------------------------------------------------------------------------------------------------------------------------------------\n",
      "\n",
      "                  type:  numeric (byte)\n",
      "                 label:  d2vday, but 31 nonmissing values are not labeled\n",
      "\n",
      "                 range:  [-9,99]                      units:  1\n",
      "         unique values:  34                       missing .:  0/6,368\n",
      "\n",
      "              examples:  -7    the deceased persons only, not applicable to survivors\n",
      "                         -7    the deceased persons only, not applicable to survivors\n",
      "                         -7    the deceased persons only, not applicable to survivors\n",
      "                         9     \n",
      "\n",
      "--------------------------------------------------------------------------------------------------------------------------------------\n",
      "d5vday                                                                                    validated day of death of the sampled person\n",
      "--------------------------------------------------------------------------------------------------------------------------------------\n",
      "\n",
      "                  type:  numeric (byte)\n",
      "                 label:  d5vday, but 31 nonmissing values are not labeled\n",
      "\n",
      "                 range:  [-9,99]                      units:  1\n",
      "         unique values:  35                       missing .:  0/6,368\n",
      "\n",
      "              examples:  -8    died or lost to follow-up in previous waves\n",
      "                         -8    died or lost to follow-up in previous waves\n",
      "                         -7    the deceased persons only, not applicable to survivors\n",
      "                         8     \n",
      "\n",
      "--------------------------------------------------------------------------------------------------------------------------------------\n",
      "d8vday                                                                                    validated day of death of the sampled person\n",
      "--------------------------------------------------------------------------------------------------------------------------------------\n",
      "\n",
      "                  type:  numeric (byte)\n",
      "                 label:  d8vday, but 31 nonmissing values are not labeled\n",
      "\n",
      "                 range:  [-9,31]                      units:  1\n",
      "         unique values:  34                       missing .:  0/6,368\n",
      "\n",
      "              examples:  -8    died or lost to follow-up in previous waves\n",
      "                         -8    died or lost to follow-up in previous waves\n",
      "                         -8    died or lost to follow-up in previous waves\n",
      "                         -7    the deceased persons only, not applicable to survivors\n",
      "\n",
      "--------------------------------------------------------------------------------------------------------------------------------------\n",
      "d11vday                                                                                   validated day of death of the sampled person\n",
      "--------------------------------------------------------------------------------------------------------------------------------------\n",
      "\n",
      "                  type:  numeric (byte)\n",
      "                 label:  d11vday, but 31 nonmissing values are not labeled\n",
      "\n",
      "                 range:  [-9,31]                      units:  1\n",
      "         unique values:  34                       missing .:  7/6,368\n",
      "\n",
      "              examples:  -8    died or lost to follow-up in previous waves\n",
      "                         -8    died or lost to follow-up in previous waves\n",
      "                         -8    died or lost to follow-up in previous waves\n",
      "                         -8    died or lost to follow-up in previous waves\n",
      "\n",
      "--------------------------------------------------------------------------------------------------------------------------------------\n",
      "d14vday                                                                                  validated year of death of the sampled person\n",
      "--------------------------------------------------------------------------------------------------------------------------------------\n",
      "\n",
      "                  type:  numeric (byte)\n",
      "                 label:  d14vday, but 29 nonmissing values are not labeled\n",
      "\n",
      "                 range:  [1,31]                       units:  1\n",
      "         unique values:  29                       missing .:  6,246/6,368\n",
      "\n",
      "              examples:  .     \n",
      "                         .     \n",
      "                         .     \n",
      "                         .     \n",
      "variable dth98_00 not found\n"
     ]
    },
    {
     "name": "stderr",
     "output_type": "stream",
     "text": [
      "r(111);\n",
      "r(111);\n"
     ]
    },
    {
     "name": "stdout",
     "output_type": "stream",
     "text": [
      "\n",
      "\n"
     ]
    }
   ],
   "source": [
    "/************************************* (2) Check the actual values of death date variables, against the codebook for those variables *************************************/\n",
    "foreach var in d2vyear d5vyear d8vyear d11vyear d14vyear d2vmonth d5vmonth d8vmonth d11vmonth d14vmonth d2vday d5vday d8vday d11vday d14vday dth98_00 dth00_02 dth02_05 dth05_08 dth08_11 dth11_14 {\n",
    "    codebook `var'\n",
    "}\n",
    "// codebook on death variables\n",
    "\n",
    "// validated death year\n",
    "* d2vyear, d5vyear, d8vyear, d11vyear, d14vyear: validated year of death*/\n",
    "* -9:lost to follow up in the 2002/2005/2008/2011/2014 survey*\n",
    "* -8:died or lost to follow-up in previous waves*\n",
    "* -7:it is for the deceased persons, not applicable for survivors*\n",
    "* . 9999: missing*/\n",
    "\n",
    "// validated death month\n",
    "* d2vmonth, d5vmonth, d8vmonth, d11vmonth, d14vmonth: validated month of death*/\n",
    "* -9: lost to follow-up in the 2002/05/08/11/14 survey*/\n",
    "* -8: died or lost to follow-up in previous waves*/\n",
    "* -7: it is for the deceased persons, not applicable for survivors*/\n",
    "* . 99: missing*/\n",
    "\n",
    "// validated death day\n",
    "* d0vday, d2vday, d5vday, d8vday, d11vday, d14vday: validated day of death*/\n",
    "* -9: lost to follow-up in the 2002/05/08/11/14 survey*/ \n",
    "* -8: died or lost to follow-up in previous waves*/\n",
    "* -7: it is for the deceased persons, not applicable for survivors*/\n",
    "* . 99: missing*/\n",
    "\n",
    "// survival status\n",
    "* dth00_02, dth02_05, dth05_08, dth08_11, dth11_14: status of survival, death, or lost to follow-up from 2000-2002/2002-2005/2005-2008/2008-2011/2011-2014 waves*/\n",
    "* dth**_##:\n",
    "* -9: lost to follow-up at the ## survey;\n",
    "* -8: died or lost to follow-up in previous waves;\n",
    "* 0: surviving at the ## survey;\n",
    "* 1: died before the ## survey\n",
    "* dth08_11:\n",
    "* 2: surviving at 2011 survey but died before 2012 survey (only one, 2011.12.9 died)"
   ]
  },
  {
   "cell_type": "code",
   "execution_count": 52,
   "metadata": {},
   "outputs": [
    {
     "name": "stdout",
     "output_type": "stream",
     "text": [
      "\n",
      "\n",
      "\n",
      "\n",
      "\n",
      "\n",
      "\n",
      "\n",
      "\n",
      "  status of |\n",
      "  survival, |\n",
      "  death, or |\n",
      "    lost to |\n",
      "  follow-up |\n",
      "   from the |\n",
      "    2000 to |\n",
      " 2002 waves |      Freq.     Percent        Cum.\n",
      "------------+-----------------------------------\n",
      "          0 |      3,673      100.00      100.00\n",
      "------------+-----------------------------------\n",
      "      Total |      3,673      100.00\n",
      "\n",
      "  status of |\n",
      "  survival, |\n",
      "  death, or |\n",
      "    lost to |\n",
      "  follow-up |\n",
      "   from the |\n",
      "    2000 to |\n",
      " 2002 waves |      Freq.     Percent        Cum.\n",
      "------------+-----------------------------------\n",
      "         -9 |        956       35.47       35.47\n",
      "          1 |      1,739       64.53      100.00\n",
      "------------+-----------------------------------\n",
      "      Total |      2,695      100.00\n",
      "\n",
      "  status of |\n",
      "  survival, |\n",
      "  death, or |\n",
      "    lost to |\n",
      "  follow-up |\n",
      "   from the |\n",
      "    2002 to |\n",
      " 2005 waves |      Freq.     Percent        Cum.\n",
      "------------+-----------------------------------\n",
      "          0 |      1,577      100.00      100.00\n",
      "------------+-----------------------------------\n",
      "      Total |      1,577      100.00\n",
      "\n",
      "  status of |\n",
      "  survival, |\n",
      "  death, or |\n",
      "    lost to |\n",
      "  follow-up |\n",
      "   from the |\n",
      "    2002 to |\n",
      " 2005 waves |      Freq.     Percent        Cum.\n",
      "------------+-----------------------------------\n",
      "         -9 |        440        9.18        9.18\n",
      "         -8 |      2,695       56.25       65.44\n",
      "          1 |      1,656       34.56      100.00\n",
      "------------+-----------------------------------\n",
      "      Total |      4,791      100.00\n",
      "\n",
      "  status of |\n",
      "  survival, |\n",
      "  death, or |\n",
      "    lost to |\n",
      "  follow-up |\n",
      "   from the |\n",
      "    2005 to |\n",
      " 2008 waves |      Freq.     Percent        Cum.\n",
      "------------+-----------------------------------\n",
      "          0 |        592      100.00      100.00\n",
      "------------+-----------------------------------\n",
      "      Total |        592      100.00\n",
      "\n",
      "  status of |\n",
      "  survival, |\n",
      "  death, or |\n",
      "    lost to |\n",
      "  follow-up |\n",
      "   from the |\n",
      "    2005 to |\n",
      " 2008 waves |      Freq.     Percent        Cum.\n",
      "------------+-----------------------------------\n",
      "         -9 |        291        5.04        5.04\n",
      "         -8 |      4,791       82.95       87.98\n",
      "          1 |        694       12.02      100.00\n",
      "------------+-----------------------------------\n",
      "      Total |      5,776      100.00\n",
      "\n",
      "  status of |\n",
      "  survival, |\n",
      "  death, or |\n",
      "    lost to |\n",
      "  follow-up |\n",
      "  from 2008 |\n",
      "    to 2011 |\n",
      "      waves |      Freq.     Percent        Cum.\n",
      "------------+-----------------------------------\n",
      "          0 |        235      100.00      100.00\n",
      "------------+-----------------------------------\n",
      "      Total |        235      100.00\n",
      "\n",
      "  status of |\n",
      "  survival, |\n",
      "  death, or |\n",
      "    lost to |\n",
      "  follow-up |\n",
      "  from 2008 |\n",
      "    to 2011 |\n",
      "      waves |      Freq.     Percent        Cum.\n",
      "------------+-----------------------------------\n",
      "         -9 |         76        1.24        1.24\n",
      "         -8 |      5,776       94.18       95.42\n",
      "          1 |        281        4.58      100.00\n",
      "------------+-----------------------------------\n",
      "      Total |      6,133      100.00\n",
      "\n",
      "\n",
      "(6,368 observations deleted)\n"
     ]
    }
   ],
   "source": [
    "/************************************* (3) Check whether there are logical input mistakes between death status for different waves *************************************/\n",
    "// check whether there are logical mistakes for dth**_##\n",
    "* If the current death status is -9/0/1, the previous one can only be 0;\n",
    "* if the current death status is -8, then the previous can only be -8,-9 and 1.\n",
    "preserve\n",
    "rename dth00_02 dth2\n",
    "rename dth02_05 dth3\n",
    "rename dth05_08 dth4\n",
    "rename dth08_11 dth5\n",
    "rename dth11_14 dth6\n",
    "label drop _all\n",
    "forv i = 2/5 {\n",
    "    local j = `i' + 1\n",
    "    tab dth`i' if dth`j' == -9 | dth`j' == 0 | dth`j' == 1, missing //0\n",
    "    tab dth`i' if dth`j' == -8, missing //-8, -9, 1\n",
    "}\n",
    "restore\n",
    "keep if (dth05_08 == -9 | dth05_08 == 0 | dth05_08 == 1) & dth02_05 == 1"
   ]
  },
  {
   "cell_type": "code",
   "execution_count": 53,
   "metadata": {},
   "outputs": [
    {
     "name": "stdout",
     "output_type": "stream",
     "text": [
      "\n",
      "\n",
      "\n",
      "\n",
      "(4,831 observations deleted)\n"
     ]
    }
   ],
   "source": [
    "*****************************create work.dta, which has changed the death status according results above, and renanme dth**_##***********\n",
    "clear\n",
    "use \"${RAW}/2000_2014_longitudinal_dataset_released_version1.dta\"  //******need to be changed\n",
    "gen int id_year=mod(id,100)\n",
    "keep if id_year==0 //6368 obs"
   ]
  },
  {
   "cell_type": "code",
   "execution_count": 54,
   "metadata": {},
   "outputs": [
    {
     "name": "stdout",
     "output_type": "stream",
     "text": [
      "\n",
      "(0 real changes made)\n",
      "\n",
      "(0 real changes made)\n",
      "\n",
      "(0 real changes made)\n",
      "\n",
      "(0 real changes made)\n"
     ]
    }
   ],
   "source": [
    "replace dth02_05 = 0 if id == 45107898\n",
    "replace d5vday = -7 if id == 45107898\n",
    "replace d5vmonth = -7 if id == 45107898\n",
    "replace d5vyear = -7 if id == 45107898"
   ]
  },
  {
   "cell_type": "code",
   "execution_count": 55,
   "metadata": {},
   "outputs": [],
   "source": [
    "rename dth00_02 dth2\n",
    "rename dth02_05 dth5\n",
    "rename dth05_08 dth8\n",
    "rename dth08_11 dth11\n",
    "rename dth11_14 dth14"
   ]
  },
  {
   "cell_type": "code",
   "execution_count": 56,
   "metadata": {},
   "outputs": [
    {
     "name": "stdout",
     "output_type": "stream",
     "text": [
      "\n",
      "\n",
      "\n",
      "\n",
      "\n",
      "\n",
      "(note: file F:\\Box Sync\\Archives2020LLY\\Zhengting\\Duke Kunshan University Intern (zh133@duke.edu)\\4 healthy aging-CLHLS\\Group meeting \n",
      "> coordination\\survival time/inter data/work.dta not found)\n",
      "file F:\\Box Sync\\Archives2020LLY\\Zhengting\\Duke Kunshan University Intern (zh133@duke.edu)\\4 healthy aging-CLHLS\\Group meeting coordin\n",
      "> ation\\survival time/inter data/work.dta saved\n"
     ]
    }
   ],
   "source": [
    "global waves \"2 5 8 11 14\"                                                    //******need to be changed\n",
    "global year1 \"2000 2001 2002 2003 2005 2006 2007 2009 2010 2011 2013 2014\"\n",
    "global year2 \"2000 2004 2008 2012\"\n",
    "global months \"4 6 9 11\"\n",
    "global wavein \"in0 in2 in5 in8 in11 in14\"\n",
    "save \"${INTER}/work.dta\", replace"
   ]
  },
  {
   "cell_type": "code",
   "execution_count": 57,
   "metadata": {},
   "outputs": [
    {
     "name": "stdout",
     "output_type": "stream",
     "text": [
      "\n",
      "(d2vday: 0 changes made)\n",
      "(d2vmonth: 0 changes made)\n",
      "(d2vyear: 0 changes made)\n",
      "(1,739 real changes made)\n",
      "(1,548 real changes made)\n",
      "(1,624 real changes made)\n",
      "(d5vday: 0 changes made)\n",
      "(d5vmonth: 0 changes made)\n",
      "(d5vyear: 25 changes made)\n",
      "(1,631 real changes made)\n",
      "(1,456 real changes made)\n",
      "(1,498 real changes made)\n",
      "(d8vday: 0 changes made)\n",
      "(d8vmonth: 0 changes made)\n",
      "(d8vyear: 0 changes made)\n",
      "(694 real changes made)\n",
      "(642 real changes made)\n",
      "(670 real changes made)\n",
      "(d11vday: 7 changes made)\n",
      "(d11vmonth: 0 changes made)\n",
      "(d11vyear: 0 changes made)\n",
      "(281 real changes made)\n",
      "(249 real changes made)\n",
      "(262 real changes made)\n",
      "(d14vday: 6246 changes made)\n",
      "(d14vmonth: 6242 changes made)\n",
      "(d14vyear: 6243 changes made)\n",
      "(125 real changes made)\n",
      "(111 real changes made)\n",
      "(118 real changes made)\n",
      "\n",
      "\n",
      "(note: file F:\\Box Sync\\Archives2020LLY\\Zhengting\\Duke Kunshan University Intern (zh133@duke.edu)\\4 healthy aging-CLHLS\\Group meeting \n",
      "> coordination\\survival time/inter data/work1.dta not found)\n",
      "file F:\\Box Sync\\Archives2020LLY\\Zhengting\\Duke Kunshan University Intern (zh133@duke.edu)\\4 healthy aging-CLHLS\\Group meeting coordin\n",
      "> ation\\survival time/inter data/work1.dta saved\n"
     ]
    }
   ],
   "source": [
    "/************************************* (4) Check whether there are logical input mistakes between death status and the verified death year, month, day *************************************/\n",
    "// check whether there are logical mistakes between d*vyear d*vmonth d*vday dth**_##\n",
    "foreach i of global waves {\n",
    "    // unify missing value to \"99\"\n",
    "    recode d`i'vday(. 88=99) \n",
    "    recode d`i'vmonth(. 88=99)\n",
    "    recode d`i'vyear(. 8888 9999=99)  //no 88 for all the 4 vars\n",
    "    \n",
    "    replace d`i'vyear = 1 if d`i'vyear > 1997 & d`i'vyear < 2020\n",
    "    replace d`i'vmonth = 1 if d`i'vmonth > 0 & d`i'vmonth < 13\n",
    "    replace d`i'vday = 1 if d`i'vday > 0 & d`i'vday < 32\n",
    "    \n",
    "    bys d`i'vyear: gen fre`i'_year = _N\n",
    "    bys d`i'vmonth: gen fre`i'_month = _N\n",
    "    bys d`i'vday: gen fre`i'_day = _N\n",
    "    bys dth`i': gen fre`i'_dth = _N\n",
    "}\n",
    "label drop _all\n",
    "save \"${INTER}/work1.dta\", replace"
   ]
  },
  {
   "cell_type": "code",
   "execution_count": 58,
   "metadata": {},
   "outputs": [
    {
     "name": "stdout",
     "output_type": "stream",
     "text": [
      "\n",
      "\n",
      "Duplicates in terms of d2vyear d2vmonth d2vday dth2\n",
      "\n",
      "(6,364 observations deleted)\n",
      "(note: file F:\\Box Sync\\Archives2020LLY\\Zhengting\\Duke Kunshan University Intern (zh133@duke.edu)\\4 healthy aging-CLHLS\\Group meeting \n",
      "> coordination\\survival time/inter data/wave2.dta not found)\n",
      "file F:\\Box Sync\\Archives2020LLY\\Zhengting\\Duke Kunshan University Intern (zh133@duke.edu)\\4 healthy aging-CLHLS\\Group meeting coordin\n",
      "> ation\\survival time/inter data/wave2.dta saved\n",
      "\n",
      "Duplicates in terms of d5vyear d5vmonth d5vday dth5\n",
      "\n",
      "(6,360 observations deleted)\n",
      "(note: file F:\\Box Sync\\Archives2020LLY\\Zhengting\\Duke Kunshan University Intern (zh133@duke.edu)\\4 healthy aging-CLHLS\\Group meeting \n",
      "> coordination\\survival time/inter data/wave5.dta not found)\n",
      "file F:\\Box Sync\\Archives2020LLY\\Zhengting\\Duke Kunshan University Intern (zh133@duke.edu)\\4 healthy aging-CLHLS\\Group meeting coordin\n",
      "> ation\\survival time/inter data/wave5.dta saved\n",
      "\n",
      "Duplicates in terms of d8vyear d8vmonth d8vday dth8\n",
      "\n",
      "(6,364 observations deleted)\n",
      "(note: file F:\\Box Sync\\Archives2020LLY\\Zhengting\\Duke Kunshan University Intern (zh133@duke.edu)\\4 healthy aging-CLHLS\\Group meeting \n",
      "> coordination\\survival time/inter data/wave8.dta not found)\n",
      "file F:\\Box Sync\\Archives2020LLY\\Zhengting\\Duke Kunshan University Intern (zh133@duke.edu)\\4 healthy aging-CLHLS\\Group meeting coordin\n",
      "> ation\\survival time/inter data/wave8.dta saved\n",
      "\n",
      "Duplicates in terms of d11vyear d11vmonth d11vday dth11\n",
      "\n",
      "(6,363 observations deleted)\n",
      "(note: file F:\\Box Sync\\Archives2020LLY\\Zhengting\\Duke Kunshan University Intern (zh133@duke.edu)\\4 healthy aging-CLHLS\\Group meeting \n",
      "> coordination\\survival time/inter data/wave11.dta not found)\n",
      "file F:\\Box Sync\\Archives2020LLY\\Zhengting\\Duke Kunshan University Intern (zh133@duke.edu)\\4 healthy aging-CLHLS\\Group meeting coordin\n",
      "> ation\\survival time/inter data/wave11.dta saved\n",
      "\n",
      "Duplicates in terms of d14vyear d14vmonth d14vday dth14\n",
      "\n",
      "(6,362 observations deleted)\n",
      "(note: file F:\\Box Sync\\Archives2020LLY\\Zhengting\\Duke Kunshan University Intern (zh133@duke.edu)\\4 healthy aging-CLHLS\\Group meeting \n",
      "> coordination\\survival time/inter data/wave14.dta not found)\n",
      "file F:\\Box Sync\\Archives2020LLY\\Zhengting\\Duke Kunshan University Intern (zh133@duke.edu)\\4 healthy aging-CLHLS\\Group meeting coordin\n",
      "> ation\\survival time/inter data/wave14.dta saved\n",
      "\n",
      "\n"
     ]
    }
   ],
   "source": [
    "foreach i of global waves{\n",
    "    keep d`i'vyear d`i'vmonth d`i'vday dth`i' fre`i'_year fre`i'_month fre`i'_day fre`i'_dth \n",
    "    duplicates drop d`i'vyear d`i'vmonth d`i'vday dth`i', force \n",
    "    save \"${INTER}/wave`i'.dta\", replace\n",
    "    use \"${INTER}/work1.dta\", clear\n",
    "}\n",
    "use \"${INTER}/wave14.dta\",clear\n",
    "append using \"${INTER}/wave2.dta\" \"${INTER}/wave5.dta\" \"${INTER}/wave8.dta\" \"${INTER}/wave11.dta\""
   ]
  },
  {
   "cell_type": "code",
   "execution_count": 59,
   "metadata": {},
   "outputs": [],
   "source": [
    "browse"
   ]
  },
  {
   "cell_type": "code",
   "execution_count": 60,
   "metadata": {},
   "outputs": [],
   "source": [
    "/* The results show that, in wave0-wave11, -9, -8, 0/-7(alive) have completely the same freq, \n",
    "all missing values in d*vyear/month/day occur only when dth*=1(died). Only in wave14, all is missing in d14vyear/month/day when dth14=-9/-8/0. \n",
    "There is no logical mistakes between the 4 vars.*/"
   ]
  },
  {
   "cell_type": "code",
   "execution_count": 61,
   "metadata": {},
   "outputs": [
    {
     "name": "stdout",
     "output_type": "stream",
     "text": [
      "\n",
      "\n",
      "\n",
      "  status of |\n",
      "  survival, |\n",
      "  death, or |\n",
      "    lost to |\n",
      "  follow-up |\n",
      "   from the |\n",
      "    2000 to |\n",
      " 2002 waves |      Freq.     Percent        Cum.\n",
      "------------+-----------------------------------\n",
      "         -9 |        956       15.01       15.01\n",
      "          0 |      3,673       57.68       72.69\n",
      "          1 |      1,739       27.31      100.00\n",
      "------------+-----------------------------------\n",
      "      Total |      6,368      100.00\n",
      "\n",
      "  status of |\n",
      "  survival, |\n",
      "  death, or |\n",
      "    lost to |\n",
      "  follow-up |\n",
      "   from the |\n",
      "    2002 to |\n",
      " 2005 waves |      Freq.     Percent        Cum.\n",
      "------------+-----------------------------------\n",
      "         -9 |        440       11.98       11.98\n",
      "          0 |      1,577       42.93       54.91\n",
      "          1 |      1,656       45.09      100.00\n",
      "------------+-----------------------------------\n",
      "      Total |      3,673      100.00\n",
      "\n",
      "  status of |\n",
      "  survival, |\n",
      "  death, or |\n",
      "    lost to |\n",
      "  follow-up |\n",
      "   from the |\n",
      "    2005 to |\n",
      " 2008 waves |      Freq.     Percent        Cum.\n",
      "------------+-----------------------------------\n",
      "         -9 |        291       18.45       18.45\n",
      "          0 |        592       37.54       55.99\n",
      "          1 |        694       44.01      100.00\n",
      "------------+-----------------------------------\n",
      "      Total |      1,577      100.00\n",
      "\n",
      "  status of |\n",
      "  survival, |\n",
      "  death, or |\n",
      "    lost to |\n",
      "  follow-up |\n",
      "  from 2008 |\n",
      "    to 2011 |\n",
      "      waves |      Freq.     Percent        Cum.\n",
      "------------+-----------------------------------\n",
      "         -9 |         76       12.84       12.84\n",
      "          0 |        235       39.70       52.53\n",
      "          1 |        281       47.47      100.00\n",
      "------------+-----------------------------------\n",
      "      Total |        592      100.00\n",
      "\n",
      "  status of |\n",
      "  survival, |\n",
      "  death, or |\n",
      "    lost to |\n",
      "  follow-up |\n",
      "       from |\n",
      "  2011/2012 |\n",
      "    to 2014 |\n",
      "      waves |      Freq.     Percent        Cum.\n",
      "------------+-----------------------------------\n",
      "         -9 |         13        5.53        5.53\n",
      "          0 |         96       40.85       46.38\n",
      "          1 |        126       53.62      100.00\n",
      "------------+-----------------------------------\n",
      "      Total |        235      100.00\n"
     ]
    }
   ],
   "source": [
    "// tabulate the lost,died and alive number for each wave\n",
    "use \"${INTER}/work1.dta\",clear\n",
    "foreach i of global waves{\n",
    "    tabulate dth`i' if dth`i' !=-8\n",
    "}"
   ]
  },
  {
   "cell_type": "code",
   "execution_count": 62,
   "metadata": {},
   "outputs": [],
   "source": [
    "foreach i of global waves{\n",
    "    erase \"${INTER}/wave`i'.dta\"\n",
    "}\n",
    "erase \"${INTER}/work1.dta\""
   ]
  },
  {
   "cell_type": "code",
   "execution_count": 63,
   "metadata": {},
   "outputs": [
    {
     "name": "stdout",
     "output_type": "stream",
     "text": [
      "\n",
      "\n",
      "(d2vday: 0 changes made)\n",
      "(d2vmonth: 0 changes made)\n",
      "(d2vyear: 0 changes made)\n",
      "(d5vday: 0 changes made)\n",
      "(d5vmonth: 0 changes made)\n",
      "(d5vyear: 0 changes made)\n",
      "(d8vday: 0 changes made)\n",
      "(d8vmonth: 0 changes made)\n",
      "(d8vyear: 0 changes made)\n",
      "(d11vday: 7 changes made)\n",
      "(d11vmonth: 0 changes made)\n",
      "(d11vyear: 0 changes made)\n",
      "(d14vday: 6246 changes made)\n",
      "(d14vmonth: 6242 changes made)\n",
      "(d14vyear: 6243 changes made)\n"
     ]
    }
   ],
   "source": [
    "/********************************************************************************************************************/\n",
    "/************************************* II. Replacement of NA and input mistakes *************************************/\n",
    "/********************************************************************************************************************/\n",
    "\n",
    "use \"${INTER}/work.dta\", clear\n",
    "/*change all . to 99 for month&day, . to 9999 for year*/\n",
    "foreach a of global waves{\n",
    "    recode d`a'vday (. = 99) \n",
    "    recode d`a'vmonth (. = 99)\n",
    "    recode d`a'vyear (. = 9999)\n",
    "}"
   ]
  },
  {
   "cell_type": "code",
   "execution_count": 64,
   "metadata": {},
   "outputs": [
    {
     "name": "stdout",
     "output_type": "stream",
     "text": [
      "\n",
      "year9899 not found\n",
      "\n",
      "\n",
      "(2,697 missing values generated)\n",
      "\n",
      "(4,791 missing values generated)\n",
      "\n",
      "(5,776 missing values generated)\n",
      "\n",
      "(6,133 missing values generated)\n",
      "\n",
      "(6,272 missing values generated)\n"
     ]
    }
   ],
   "source": [
    "****calculate the mid-point between the last interview date of the previous wave and the first interview date of the next wave\n",
    "capture noisily gen in98 = mdy(month98, date98, year9899)                            \n",
    "capture noisily gen in0 = mdy(month00, day00, 2000)\n",
    "capture noisily gen in2 = mdy(month_2, day_2, 2002)\n",
    "capture noisily gen in5 = mdy(month_5, day_5, 2005)\n",
    "capture noisily gen in8 = mdy(month_8, day_8, year_8)\n",
    "gen in11 = mdy(monthin_11, dayin_11, yearin_11)\n",
    "gen in14 = mdy(monthin_14, dayin_14, yearin_14)"
   ]
  },
  {
   "cell_type": "code",
   "execution_count": 65,
   "metadata": {},
   "outputs": [],
   "source": [
    "forv i=1/5 {                                                                     //******need to be changed                                               \n",
    "    local wavein2 = word(\"$wavein\", `i')\n",
    "         egen min_`wavein2' = min(`wavein2')\n",
    "         egen max_`wavein2' = max(`wavein2')\n",
    "    local j = `i'+1\n",
    "    local wavein3 = word(\"$wavein\", `j')\n",
    "         egen min_`wavein3' = min(`wavein3')\n",
    "         egen max_`wavein3' = max(`wavein3')\n",
    "    gen mid_`wavein2'_`wavein3' = (max_`wavein2' + min_`wavein3')/2\n",
    "    gen midyear_`wavein2'_`wavein3' = year(mid_`wavein2'_`wavein3')\n",
    "    gen midmonth_`wavein2'_`wavein3' = month(mid_`wavein2'_`wavein3')\n",
    "    gen midday_`wavein2'_`wavein3' = day(mid_`wavein2'_`wavein3')\n",
    "drop min_`wavein3' max_`wavein3'\n",
    "}"
   ]
  },
  {
   "cell_type": "code",
   "execution_count": 66,
   "metadata": {},
   "outputs": [
    {
     "name": "stdout",
     "output_type": "stream",
     "text": [
      "\n",
      "\n",
      "(57 real changes made)\n",
      "(0 real changes made)\n",
      "(0 real changes made)\n",
      "(d2vday: 0 changes made)\n",
      "(d2vmonth: 0 changes made)\n",
      "(105 real changes made)\n",
      "(29 real changes made)\n",
      "(25 real changes made)\n",
      "(d5vday: 0 changes made)\n",
      "(d5vmonth: 0 changes made)\n",
      "(0 real changes made)\n",
      "(0 real changes made)\n",
      "(0 real changes made)\n",
      "(d8vday: 0 changes made)\n",
      "(d8vmonth: 0 changes made)\n",
      "(7 real changes made)\n",
      "(0 real changes made)\n",
      "(0 real changes made)\n",
      "(d11vday: 0 changes made)\n",
      "(d11vmonth: 0 changes made)\n",
      "(4 real changes made)\n",
      "(0 real changes made)\n",
      "(1 real change made)\n",
      "(d14vday: 0 changes made)\n",
      "(d14vmonth: 0 changes made)\n"
     ]
    }
   ],
   "source": [
    "/************************************* (5) Replacement of the missing death date according to Rule 1 *************************************/\n",
    "* Rule 1:\n",
    "* For the three variables, year, month, and day:\n",
    "* a. if only month is missing, the month is assumed to be July;\n",
    "* b. if only day is missing, the day is assumed to be 15;\n",
    "* c. for the rest of all the scenarios, the year/month/day is assumed to be that of the mid-point between the last interview date of the previous wave and\n",
    "* the first interview date of the next wave. (these scenarios inc, all the three variables are missing, or any two variables are missing, or only year is\n",
    "* missing.)\n",
    "local j = 1\n",
    "foreach i of global waves { \n",
    "    local inid = word(\"$wavein\",`j')\n",
    "        replace d`i'vday = midday_`inid'_in`i' if d`i'vday == 99 & dth`i' == 1\n",
    "        replace d`i'vmonth = midmonth_`inid'_in`i' if d`i'vmonth == 99 & dth`i' == 1\n",
    "        replace d`i'vyear = midyear_`inid'_in`i' if d`i'vyear == 9999 & dth`i' == 1\n",
    "      \n",
    "        recode d`i'vday (99 = 15) if d`i'vmonth != 99 & d`i'vyear != 9999 & dth`i' == 1 \n",
    "        recode d`i'vmonth (99 = 7) if d`i'vday != 99 & d`i'vyear != 9999 & dth`i' == 1 \n",
    "    \n",
    "    local j = `j'+1\n",
    "}"
   ]
  },
  {
   "cell_type": "code",
   "execution_count": 67,
   "metadata": {},
   "outputs": [
    {
     "name": "stdout",
     "output_type": "stream",
     "text": [
      "\n",
      "(d2vday: 0 changes made)\n",
      "(d2vday: 8 changes made)\n",
      "(d2vday: 0 changes made)\n",
      "(d2vday: 0 changes made)\n",
      "(d2vday: 0 changes made)\n",
      "(d2vday: 0 changes made)\n",
      "(d2vday: 0 changes made)\n",
      "(d2vday: 0 changes made)\n",
      "(d2vday: 0 changes made)\n",
      "(d2vday: 0 changes made)\n",
      "(d2vday: 0 changes made)\n",
      "(d2vday: 0 changes made)\n",
      "(d2vday: 0 changes made)\n",
      "(d2vday: 0 changes made)\n",
      "(d2vday: 0 changes made)\n",
      "(d2vday: 0 changes made)\n",
      "(d2vday: 0 changes made)\n",
      "(d2vday: 0 changes made)\n",
      "(d2vday: 0 changes made)\n",
      "(d2vday: 0 changes made)\n",
      "(d5vday: 0 changes made)\n",
      "(d5vday: 0 changes made)\n",
      "(d5vday: 0 changes made)\n",
      "(d5vday: 1 changes made)\n",
      "(d5vday: 1 changes made)\n",
      "(d5vday: 0 changes made)\n",
      "(d5vday: 0 changes made)\n",
      "(d5vday: 0 changes made)\n",
      "(d5vday: 0 changes made)\n",
      "(d5vday: 0 changes made)\n",
      "(d5vday: 0 changes made)\n",
      "(d5vday: 0 changes made)\n",
      "(d5vday: 0 changes made)\n",
      "(d5vday: 0 changes made)\n",
      "(d5vday: 0 changes made)\n",
      "(d5vday: 0 changes made)\n",
      "(d5vday: 0 changes made)\n",
      "(d5vday: 0 changes made)\n",
      "(d5vday: 0 changes made)\n",
      "(d5vday: 0 changes made)\n",
      "(d8vday: 0 changes made)\n",
      "(d8vday: 0 changes made)\n",
      "(d8vday: 0 changes made)\n",
      "(d8vday: 0 changes made)\n",
      "(d8vday: 0 changes made)\n",
      "(d8vday: 0 changes made)\n",
      "(d8vday: 0 changes made)\n",
      "(d8vday: 0 changes made)\n",
      "(d8vday: 0 changes made)\n",
      "(d8vday: 0 changes made)\n",
      "(d8vday: 0 changes made)\n",
      "(d8vday: 0 changes made)\n",
      "(d8vday: 0 changes made)\n",
      "(d8vday: 0 changes made)\n",
      "(d8vday: 0 changes made)\n",
      "(d8vday: 0 changes made)\n",
      "(d8vday: 0 changes made)\n",
      "(d8vday: 0 changes made)\n",
      "(d8vday: 0 changes made)\n",
      "(d8vday: 0 changes made)\n",
      "(d11vday: 0 changes made)\n",
      "(d11vday: 0 changes made)\n",
      "(d11vday: 0 changes made)\n",
      "(d11vday: 0 changes made)\n",
      "(d11vday: 0 changes made)\n",
      "(d11vday: 0 changes made)\n",
      "(d11vday: 0 changes made)\n",
      "(d11vday: 0 changes made)\n",
      "(d11vday: 0 changes made)\n",
      "(d11vday: 0 changes made)\n",
      "(d11vday: 0 changes made)\n",
      "(d11vday: 0 changes made)\n",
      "(d11vday: 0 changes made)\n",
      "(d11vday: 0 changes made)\n",
      "(d11vday: 0 changes made)\n",
      "(d11vday: 0 changes made)\n",
      "(d11vday: 0 changes made)\n",
      "(d11vday: 0 changes made)\n",
      "(d11vday: 0 changes made)\n",
      "(d11vday: 0 changes made)\n",
      "(d14vday: 0 changes made)\n",
      "(d14vday: 0 changes made)\n",
      "(d14vday: 0 changes made)\n",
      "(d14vday: 0 changes made)\n",
      "(d14vday: 0 changes made)\n",
      "(d14vday: 0 changes made)\n",
      "(d14vday: 0 changes made)\n",
      "(d14vday: 0 changes made)\n",
      "(d14vday: 0 changes made)\n",
      "(d14vday: 0 changes made)\n",
      "(d14vday: 0 changes made)\n",
      "(d14vday: 0 changes made)\n",
      "(d14vday: 0 changes made)\n",
      "(d14vday: 0 changes made)\n",
      "(d14vday: 0 changes made)\n",
      "(d14vday: 0 changes made)\n",
      "(d14vday: 0 changes made)\n",
      "(d14vday: 0 changes made)\n",
      "(d14vday: 0 changes made)\n",
      "(d14vday: 0 changes made)\n"
     ]
    }
   ],
   "source": [
    "/************************************* (6) Modify input mistakes of death date according to Rule 2 *************************************/\n",
    "* Rule 2:\n",
    "* a. change day 29/max of Feb to 28 for years 99, 01, 02, 03, 05, 06, 07, 09, 10, 11, 13, 14 (non-leap year);\n",
    "* b. change day 30/max of Feb to 29 for years 00, 04, 08, 12 (leap year);\n",
    "* c. change day 31 to 30 for months 4, 6, 9, 11\n",
    "foreach i of global waves{\n",
    "    foreach year of global year1{\n",
    "        recode d`i'vday (29/max=28) if d`i'vyear == `year' & d`i'vmonth == 2\n",
    "    }\n",
    "    foreach year of global year2{\n",
    "        recode d`i'vday (30/max=29) if d`i'vyear == `year' & d`i'vmonth == 2\n",
    "    }\n",
    "    foreach month of global months{\n",
    "        recode d`i'vday (31=30) if d`i'vmonth == `month'\n",
    "    }\n",
    "}"
   ]
  },
  {
   "cell_type": "code",
   "execution_count": 68,
   "metadata": {},
   "outputs": [
    {
     "name": "stdout",
     "output_type": "stream",
     "text": [
      "(day00: 0 changes made)\n"
     ]
    }
   ],
   "source": [
    "/****************************************************************************************************************************************/\n",
    "/************************************* III. calculating survival time, censor and lost to follow-up *************************************/\n",
    "/****************************************************************************************************************************************/\n",
    "\n",
    "/************************************* (7) Replacement of the missing interview baseline date according to Rule 3 *************************************/\n",
    "* Rule 3:\n",
    "* a. if only the interview day is missing, then the day is assumed to be 15th\n",
    "* b. if both month and day are missing and the year isn't missing, or only the month is missing, the month/day is assumed to be that of the mid-point between the earliest interview date\n",
    "* and the latest interiew date of that year\n",
    "* c. no interview year is missing\n",
    "\n",
    "recode day00 (99=15) if month00 != 99                                             //******need to be changed                                               "
   ]
  },
  {
   "cell_type": "code",
   "execution_count": 69,
   "metadata": {},
   "outputs": [
    {
     "name": "stdout",
     "output_type": "stream",
     "text": [
      "\n",
      "(day00: 0 changes made)\n",
      "\n",
      "(day00: 0 changes made)\n",
      "(day00: 0 changes made)\n",
      "(day00: 0 changes made)\n",
      "(day00: 0 changes made)\n"
     ]
    }
   ],
   "source": [
    "/************************************* (8) Modify input mistakes of interview baseline date according to Rule 2 *************************************/\n",
    "* Rule 2:\n",
    "* a. change day 29/max of Feb to 28 for years 99, 01, 02, 03, 05, 06, 07, 09, 10, 11, 13, 14 (non-leap year);\n",
    "* b. change day 30/max of Feb to 29 for years 00, 04, 08, 12 (leap year);\n",
    "* c. change day 31 to 30 for months 4, 6, 9, 11\n",
    "recode day00 (29/max=28) if month00 == 2\n",
    "\n",
    "foreach month of global months{\n",
    "    recode day00 (31=30) if month00 == `month'\n",
    "}"
   ]
  },
  {
   "cell_type": "code",
   "execution_count": 70,
   "metadata": {},
   "outputs": [],
   "source": [
    "****set interview baseline\n",
    "**codebook on interview date variables\n",
    "* date00: day of interview of the 2000 survey; 1~31, 99=missing\n",
    "* month00: month of the interview of the 2000 survey*; 1~12, 99=missing\n",
    "gen interview_baseline = mdy(month00, day00, 2000)                                  //******need to be changed      "
   ]
  },
  {
   "cell_type": "code",
   "execution_count": 71,
   "metadata": {},
   "outputs": [
    {
     "name": "stdout",
     "output_type": "stream",
     "text": [
      "\n",
      "(6,368 missing values generated)\n",
      "\n",
      "(6,368 missing values generated)\n",
      "\n",
      "(6,368 missing values generated)\n",
      "\n",
      "(6,368 missing values generated)\n",
      "\n",
      "(6,368 missing values generated)\n"
     ]
    }
   ],
   "source": [
    "/************************************* (9) Calculate survival time for each person according to Rule 4 *************************************/\n",
    "* Rule 4:\n",
    "* Generate two different survival time (**for data sets with suffix_14**):\n",
    "\n",
    "* One is `survival_bas', from interview baseline to death or censored, **up to 2014 wave**.\n",
    "* a. For those died in the study: survival time = death date - interview date at baseline;\n",
    "* b. For those lost in the study: survival time = the mid-point of the two adjacent waves - interview date at baseline;\n",
    "* (the mid-point of the two adjacent waves is generated according to Rule 1)\n",
    "* c. For those still alive at the end of the study: survival time = interview date in the last wave - interview date at baseline;\n",
    "* d. If survival_bas < 0, change survival time to 0.\n",
    "\n",
    "* Another one is `survival_bth', from birth to death or censored, **up to 2014 wave**.\n",
    "* e. survival_bth = survival_bas + verified age (*trueage*)\n",
    "\n",
    "* Variables for death/lost status\n",
    "* `censor' is coded as: 1 = died, 0 = not died (alive or lost);\n",
    "* `lost' is coed as: 1 = lost, . = not lost\n",
    "\n",
    "* gen survival_bas,means the years from baseline to death or censored\n",
    "* generate dthyear/month/day, means the exact death year/month/day of those who died during the whole period (2000-2014)\n",
    "* gen lostdate, means the lost date for those lost in the survey, and equals to the mid-point of last day of the previous interview and the first day of the next one\n",
    "\n",
    "gen dthyear = .\n",
    "gen dthmonth = .\n",
    "gen dthday = .\n",
    "gen lostdate = .\n",
    "gen survival_bas = ."
   ]
  },
  {
   "cell_type": "code",
   "execution_count": 72,
   "metadata": {},
   "outputs": [
    {
     "name": "stdout",
     "output_type": "stream",
     "text": [
      "\n",
      "\n",
      "(1,739 real changes made)\n",
      "(1,739 real changes made)\n",
      "(1,739 real changes made)\n",
      "(956 real changes made)\n",
      "(1,656 real changes made)\n",
      "(1,656 real changes made)\n",
      "(1,656 real changes made)\n",
      "(440 real changes made)\n",
      "(694 real changes made)\n",
      "(694 real changes made)\n",
      "(694 real changes made)\n",
      "(291 real changes made)\n",
      "(281 real changes made)\n",
      "(281 real changes made)\n",
      "(281 real changes made)\n",
      "(76 real changes made)\n",
      "(126 real changes made)\n",
      "(126 real changes made)\n",
      "(126 real changes made)\n",
      "(13 real changes made)\n"
     ]
    }
   ],
   "source": [
    "local j=1\n",
    "foreach i of global waves{\n",
    "    replace dthyear = d`i'vyear if d`i'vyear > 0 & d`i'vyear < 2020\n",
    "    replace dthmonth = d`i'vmonth if d`i'vmonth > 0 & d`i'vmonth < 13\n",
    "    replace dthday = d`i'vday if d`i'vday > 0 & d`i'vday < 32\n",
    "local inid = word(\"$wavein\", `j')\n",
    "    replace lostdate = mdy(midmonth_`inid'_in`i', midday_`inid'_in`i', midyear_`inid'_in`i') if dth`i' == -9\n",
    "local j = `j' + 1\n",
    "}  //3368 died in dth98_00, 1604 in dth00_02, 1308 in dth02_05, 480 in dth05_08, 177 in dth08_11, 75 in dth11_14"
   ]
  },
  {
   "cell_type": "code",
   "execution_count": 73,
   "metadata": {},
   "outputs": [
    {
     "name": "stdout",
     "output_type": "stream",
     "text": [
      "\n",
      "(1,872 missing values generated)\n",
      "\n",
      "(4,496 real changes made)\n",
      "\n",
      "\n",
      "(4,496 real changes made)\n"
     ]
    }
   ],
   "source": [
    "gen dthdate = mdy(dthmonth, dthday, dthyear)\n",
    "replace survival_bas = (dthdate - interview_baseline)/365.25\n",
    "gen censor = 0\n",
    "replace censor = 1 if survival_bas != .  //generate censor=1 if die, censor=0 if survived until end of the wave or lost to follow"
   ]
  },
  {
   "cell_type": "code",
   "execution_count": 74,
   "metadata": {},
   "outputs": [
    {
     "name": "stdout",
     "output_type": "stream",
     "text": [
      "\n",
      "(1,776 real changes made)\n",
      "\n",
      "\n",
      "(4,592 real changes made, 4,592 to missing)\n"
     ]
    }
   ],
   "source": [
    "replace survival_bas = (lostdate - interview_baseline)/365.25 if lostdate != .\n",
    "gen lost = 1\n",
    "replace lost = . if lostdate == .  //lost:893,585,284,214,53,6 lost in 0 2 5 8 11 14 wave"
   ]
  },
  {
   "cell_type": "code",
   "execution_count": 75,
   "metadata": {},
   "outputs": [
    {
     "name": "stdout",
     "output_type": "stream",
     "text": [
      "\n",
      "(6,272 missing values generated)\n",
      "\n",
      "(96 real changes made)\n"
     ]
    }
   ],
   "source": [
    "gen interview2014 = mdy(monthin_14, dayin_14, yearin_14) if dth14 == 0 //47 changes\n",
    "replace survival_bas = (interview2014 - interview_baseline)/365.25 if interview2014 != ."
   ]
  },
  {
   "cell_type": "code",
   "execution_count": 76,
   "metadata": {},
   "outputs": [
    {
     "name": "stdout",
     "output_type": "stream",
     "text": [
      "\n",
      "\n",
      "    Variable |        Obs        Mean    Std. Dev.       Min        Max\n",
      "-------------+---------------------------------------------------------\n",
      "survival_bas |      6,368    3.503886    3.133555  -.0219028   14.42574\n",
      "\n",
      "(1 real change made)\n",
      "\n",
      "\n",
      "\n"
     ]
    }
   ],
   "source": [
    "**************replace the survival time to 0 for those whose survival was negative\n",
    "sum survival_bas\n",
    "* gen survival_bth,means the years from birth to death or censored\n",
    "replace survival_bas = 0 if survival_bas < 0  \n",
    "* gen survival_bth,means the years from birth to death or censored\n",
    "gen survival_bth = survival_bas + trueage                                                            \n",
    "erase \"${INTER}/work.dta\"\n",
    "macro drop _all"
   ]
  },
  {
   "cell_type": "code",
   "execution_count": 79,
   "metadata": {},
   "outputs": [
    {
     "name": "stdout",
     "output_type": "stream",
     "text": [
      "(note: variable id was long, now double to accommodate using data's values)\n",
      "\n",
      "    Result                           # of obs.\n",
      "    -----------------------------------------\n",
      "    not matched                        13,368\n",
      "        from master                     6,272  (_merge==1)\n",
      "        from using                      7,096  (_merge==2)\n",
      "\n",
      "    matched                                96  (_merge==3)\n",
      "    -----------------------------------------\n"
     ]
    }
   ],
   "source": [
    "/************************************* (10) calc survival time to 2018 *************************************/\n",
    "\n",
    "merge 1:1 id using \"${OUT}/dat14_18surtime.dta\", keepus(id survival_bas14_18 survival_bth14_18 censor14_18 lost14_18) nolabel //47, 96, 1110, 821 merged for dat98/00/05/11_14"
   ]
  },
  {
   "cell_type": "code",
   "execution_count": 80,
   "metadata": {},
   "outputs": [
    {
     "name": "stdout",
     "output_type": "stream",
     "text": [
      "\n",
      "\n",
      "(7,096 missing values generated)\n",
      "\n",
      "(96 real changes made)\n"
     ]
    }
   ],
   "source": [
    "ren (survival_bas survival_bth lost censor) (survival_bas00_14 survival_bth00_14 lost00_14 censor00_14)\n",
    "gen survival_bas00_18 = survival_bas00_14\n",
    "replace survival_bas00_18 = survival_bas00_14 + survival_bas14_18 if censor00_14 == 0 & _merge == 3"
   ]
  },
  {
   "cell_type": "code",
   "execution_count": 81,
   "metadata": {},
   "outputs": [
    {
     "name": "stdout",
     "output_type": "stream",
     "text": [
      "\n",
      "(7,096 missing values generated)\n",
      "\n",
      "(96 real changes made)\n"
     ]
    }
   ],
   "source": [
    "gen survival_bth00_18 = survival_bth00_14\n",
    "replace survival_bth00_18 = survival_bth00_14 + survival_bas14_18 if censor00_14 == 0 & _merge == 3"
   ]
  },
  {
   "cell_type": "code",
   "execution_count": 82,
   "metadata": {},
   "outputs": [
    {
     "name": "stdout",
     "output_type": "stream",
     "text": [
      "\n",
      "(7,096 missing values generated)\n",
      "\n",
      "(47 real changes made)\n"
     ]
    }
   ],
   "source": [
    "gen censor00_18 = censor00_14\n",
    "replace censor00_18 = censor14_18 if _merge == 3  //23, 47, 282, 290 died between 2014 and 2018"
   ]
  },
  {
   "cell_type": "code",
   "execution_count": 83,
   "metadata": {},
   "outputs": [
    {
     "name": "stdout",
     "output_type": "stream",
     "text": [
      "\n",
      "(11,688 missing values generated)\n",
      "\n",
      "(29 real changes made)\n"
     ]
    }
   ],
   "source": [
    "gen lost00_18 = lost00_14\n",
    "replace lost00_18 = lost14_18 if _merge == 3 //14, 29, 288, 87 lost between 2014 and 2018"
   ]
  },
  {
   "cell_type": "code",
   "execution_count": 84,
   "metadata": {},
   "outputs": [
    {
     "name": "stdout",
     "output_type": "stream",
     "text": [
      "\n",
      "(7,096 observations deleted)\n",
      "\n"
     ]
    }
   ],
   "source": [
    "drop if _merge==2\n",
    "drop _merge"
   ]
  },
  {
   "cell_type": "code",
   "execution_count": 85,
   "metadata": {},
   "outputs": [
    {
     "name": "stdout",
     "output_type": "stream",
     "text": [
      "file F:\\Box Sync\\Archives2020LLY\\Zhengting\\Duke Kunshan University Intern (zh133@duke.edu)\\4 healthy aging-CLHLS\\Group meeting coordin\n",
      "> ation\\survival time/out data/dat00_18surtime.dta saved\n"
     ]
    }
   ],
   "source": [
    "save \"${OUT}/dat00_18surtime.dta\", replace"
   ]
  }
 ],
 "metadata": {
  "kernelspec": {
   "display_name": "Stata",
   "language": "stata",
   "name": "stata"
  },
  "language_info": {
   "codemirror_mode": "stata",
   "file_extension": ".do",
   "mimetype": "text/x-stata",
   "name": "stata",
   "version": "15.1"
  }
 },
 "nbformat": 4,
 "nbformat_minor": 4
}
